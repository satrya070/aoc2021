{
 "cells": [
  {
   "cell_type": "code",
   "execution_count": null,
   "id": "0bd6030a-8ce7-4333-8f89-2183b18ca311",
   "metadata": {},
   "outputs": [],
   "source": [
    "# [[[[1,1],[2,2]],[3,3]],[4,4]]\n",
    "[[[[1,1],[2,2]],[3,3]],[4,4]]"
   ]
  },
  {
   "cell_type": "code",
   "execution_count": null,
   "id": "1e9002c5-91b9-4dda-98cb-9a8cef7e4fad",
   "metadata": {},
   "outputs": [],
   "source": [
    "[1,1]\n",
    "[2,2]\n",
    "[3,3]\n",
    "[4,4]\n",
    "[5,5]\n",
    "\n",
    "[[[[[1,1],[2,2]], [3,3]], [4,4]], [5, 5]]\n",
    "\n",
    "[[[[0 ,[3,2]], [3,3]], [4,4]], [5, 5]]\n",
    "\n",
    "[[[[3 ,0], [5,3]], [4,4]], [5, 5]]"
   ]
  },
  {
   "cell_type": "code",
   "execution_count": null,
   "id": "2f3e5497-131d-40d1-93c7-b2b435c2572f",
   "metadata": {},
   "outputs": [],
   "source": [
    "[\n",
    "    [\n",
    "        [\n",
    "            [\n",
    "                [9,8],\n",
    "                1\n",
    "            ],\n",
    "            2\n",
    "        ],\n",
    "        3\n",
    "    ],\n",
    "    4\n",
    "]"
   ]
  },
  {
   "cell_type": "code",
   "execution_count": null,
   "id": "ff2861b4-117e-4fe4-9174-ebf446c88c56",
   "metadata": {},
   "outputs": [],
   "source": [
    "[[[[[9,8],1],2],3],4] # 0\n",
    "[[[[9,8],1],2],3] # 1\n",
    "[[[9,8],1],2] # 2\n",
    "[[9,8],1] # 3\n",
    "[9,8] # 4"
   ]
  },
  {
   "cell_type": "code",
   "execution_count": null,
   "id": "ee2a7ceb-6a4f-4b73-b081-8f8035ef423a",
   "metadata": {},
   "outputs": [],
   "source": [
    "[[[[1,3],[5,3]],[[1,3],[8,7]]] , [[[4,9],[6,9]],[[8,2],[7,3]]]]\n",
    "[[[1,3],[5,3]],[[1,3],[8,7]]] | [[[4,9],[6,9]],[[8,2],[7,3]]]\n",
    "[[1,3],[5,3]] | [[1,3],[8,7]] | [[4,9],[6,9]] | [[8,2],[7,3]]\n",
    "[1,3] | [5,3] | [1,3] | [8,7] | [4,9] | [6,9] | [8,2] | [7,3]"
   ]
  },
  {
   "cell_type": "code",
   "execution_count": null,
   "id": "44bb8569-12a4-4ae1-9bba-8e7b9c02db75",
   "metadata": {},
   "outputs": [],
   "source": [
    "# recur (snail, depth) "
   ]
  },
  {
   "cell_type": "code",
   "execution_count": null,
   "id": "14b6ad1f-9a30-4c95-9592-1bb9e63f197a",
   "metadata": {},
   "outputs": [],
   "source": []
  },
  {
   "cell_type": "code",
   "execution_count": null,
   "id": "bf126a5b-1ea8-4b68-ad1c-2883dbe11e11",
   "metadata": {},
   "outputs": [],
   "source": [
    "[[[[4,3],4],4],[7,[[8,4],9]]] + [1,1]\n",
    "# -------------------------------------- #\n",
    "[[[[[4,3],4],4],[7,[[8,4],9]]],[1,1]]\n",
    "[[[[4,3],4],4],[7,[[8,4],9]]] | [1,1]\n",
    "[[[4,3],4],4] | [7,[[8,4],9]] | [1,1]\n",
    "[[4,3],4] | 4 | 7 | [[8,4],9] | [1,1]\n",
    "\n",
    "[0,7] | 4 | 7 | [[8,4],9] | [1,1] # explode 1\n",
    "[0,7] | 4 | 15 | [0,13] | [1,1] # explode 2\n",
    "\n",
    "[0,7] | 4 | [7,8] | [0,13] | [1,1] # split 1\n"
   ]
  },
  {
   "cell_type": "code",
   "execution_count": null,
   "id": "1fc9271f-e742-4aa7-b624-6277af3fa2ba",
   "metadata": {},
   "outputs": [],
   "source": [
    "[\n",
    "    [\n",
    "        [\n",
    "            [\n",
    "                [4,3],4\n",
    "            ],4\n",
    "        ],\n",
    "            [\n",
    "                7,[\n",
    "                    [8,4],9\n",
    "                ]\n",
    "            ]\n",
    "    ],\n",
    "    [1,1]\n",
    "]"
   ]
  },
  {
   "cell_type": "code",
   "execution_count": null,
   "id": "47a166d2-f3c2-4c7d-9752-6d2d1bbb2fc2",
   "metadata": {},
   "outputs": [],
   "source": [
    "[[[[4,3],4],4],[7,[[8,4],9]]]\n",
    "\n",
    "[[[4,3],4],4] # 0 # depth first level\n",
    "\n",
    "[[4,3],4] # 0-0\n",
    "4 # 0-1\n",
    "\n",
    "[[4,3],4] # 0-0-0\n",
    "4 # 0-0-1\n",
    "\n",
    "[4,3]\n",
    "4 # 0-0-0-0\n",
    "3 # 0-0-0-1  # last allowed depth, can be wrapped in third level, in 4th level must unwrap\n",
    "\n",
    "[7,[[8,4],9]] # 1    # depth first level\n",
    "\n",
    "7 # 1-0\n",
    "[[8,4],9] # 1-1\n",
    "\n",
    "[8,4], # 1-1-0\n",
    "9 # 1-1-1\n",
    "\n",
    "[8,4]\n",
    "8 # 1-1-0-0\n",
    "4 # 1-1-0-1. # last allowed depth, can be wrapped in third level, in 4th level must unwrap"
   ]
  },
  {
   "cell_type": "code",
   "execution_count": null,
   "id": "2b53039a-2f48-4297-bb71-c97e3d6709f6",
   "metadata": {},
   "outputs": [],
   "source": [
    "[[[[[4,3],4],4],[7,[[8,4],9]]], [1, 1]]\n",
    "\n",
    "[[[[4,3],4],4],[7,[[8,4],9]]] # 0 # depth first level\n",
    "\n",
    "[7,[[8,4],9]] # 0-1\n",
    "\n",
    "[[[4,3],4],4] # 0-0 \n",
    "\n",
    "[[4,3],4] # 0-0-0\n",
    "4 # 0-1\n",
    "\n",
    "[[4,3],4] # 0-0-0\n",
    "4 # 0-0-1\n",
    "\n",
    "[4,3]\n",
    "4 # 0-0-0-0\n",
    "3 # 0-0-0-1  # last allowed depth, can be wrapped in third level, in 4th level must unwrap\n",
    "\n",
    "[7,[[8,4],9]] # 1    # depth first level\n",
    "\n",
    "7 # 1-0\n",
    "[[8,4],9] # 1-1\n",
    "\n",
    "[8,4], # 1-1-0\n",
    "9 # 1-1-1\n",
    "\n",
    "[8,4]\n",
    "8 # 1-1-0-0\n",
    "4 # 1-1-0-1. # last allowed depth, can be wrapped in third level, in 4th level must unwrap"
   ]
  },
  {
   "cell_type": "code",
   "execution_count": null,
   "id": "ac5f8a02-cf43-42d1-9e72-9ba80cd1082e",
   "metadata": {},
   "outputs": [],
   "source": []
  },
  {
   "cell_type": "code",
   "execution_count": 1,
   "id": "a9bdd0c5-ef51-40b6-8d77-b9f9540c6dbe",
   "metadata": {},
   "outputs": [],
   "source": [
    "a = [[[[[4,3],4],4],[7,[[8,4],9]]], [1, 1]]"
   ]
  },
  {
   "cell_type": "code",
   "execution_count": 103,
   "id": "dfa878b2-2bf2-4e15-a9f3-a6571073b7b3",
   "metadata": {},
   "outputs": [],
   "source": [
    "test = [[[[[9,8],1],2],3],4]"
   ]
  },
  {
   "cell_type": "code",
   "execution_count": 102,
   "id": "d7eef276-54ff-430a-9dc7-c32429bb2369",
   "metadata": {},
   "outputs": [],
   "source": [
    "level_1 = [0, 1]\n",
    "level_2 = [[0, 0], [0, 1], [1, 0], [1, 1]]\n",
    "level_3 = [\n",
    "    [0, 0, 0],\n",
    "    [0, 0, 1],\n",
    "    [0, 1, 0],\n",
    "    [0, 1, 1],\n",
    "    [1, 0, 0],\n",
    "    [1, 0, 1],\n",
    "    [1, 1, 0],\n",
    "    [1, 1, 1]\n",
    "]\n",
    "level_4 = [\n",
    "    [0, 0, 0, 0],\n",
    "    [0, 0, 0, 1],\n",
    "    [0, 0, 1, 0],\n",
    "    [0, 0, 1, 1],\n",
    "    [0, 1, 0, 0],\n",
    "    [0, 1, 0, 1],\n",
    "    [0, 1, 1, 0],\n",
    "    [0, 1, 1, 1],\n",
    "    [1, 0, 0, 0],\n",
    "    [1, 0, 0, 1],\n",
    "    [1, 0, 1, 0],\n",
    "    [1, 0, 1, 1],\n",
    "    [1, 1, 0, 0],\n",
    "    [1, 1, 0, 1],\n",
    "    [1, 1, 1, 0],\n",
    "    [1, 1, 1, 1]\n",
    "]"
   ]
  },
  {
   "cell_type": "code",
   "execution_count": null,
   "id": "781f555c-c924-4ca0-bf06-c53fb7a607dd",
   "metadata": {},
   "outputs": [],
   "source": [
    "level_2"
   ]
  },
  {
   "cell_type": "code",
   "execution_count": 104,
   "id": "a33dbc5a-72d1-4056-87aa-db55d0b62fbc",
   "metadata": {},
   "outputs": [
    {
     "data": {
      "text/plain": [
       "[[[[9, 8], 1], 2], 3]"
      ]
     },
     "execution_count": 104,
     "metadata": {},
     "output_type": "execute_result"
    }
   ],
   "source": [
    "test[0]"
   ]
  },
  {
   "cell_type": "code",
   "execution_count": 105,
   "id": "621cc957-daf6-476a-8957-3ea9f7b03a57",
   "metadata": {},
   "outputs": [
    {
     "data": {
      "text/plain": [
       "4"
      ]
     },
     "execution_count": 105,
     "metadata": {},
     "output_type": "execute_result"
    }
   ],
   "source": [
    "test[1]"
   ]
  },
  {
   "cell_type": "code",
   "execution_count": null,
   "id": "7cd92d14-6362-4b91-b443-fe3e7c0610ef",
   "metadata": {},
   "outputs": [],
   "source": [
    "# level_1 1 is done, filter out in level 2"
   ]
  },
  {
   "cell_type": "code",
   "execution_count": 133,
   "id": "a06ec8a7-fb77-420d-ab24-d60c0bf68e78",
   "metadata": {},
   "outputs": [],
   "source": [
    "done_1 = [1]"
   ]
  },
  {
   "cell_type": "code",
   "execution_count": 111,
   "id": "218d5cd5-61db-406a-ab20-43526aadacd1",
   "metadata": {},
   "outputs": [
    {
     "data": {
      "text/plain": [
       "[[0, 0], [0, 1]]"
      ]
     },
     "execution_count": 111,
     "metadata": {},
     "output_type": "execute_result"
    }
   ],
   "source": [
    "# level_2 todo\n",
    "list(filter(lambda x: x[:len(done)] != done,level_2))"
   ]
  },
  {
   "cell_type": "code",
   "execution_count": 115,
   "id": "57e558d8-87f3-4196-8f8c-f557be37a872",
   "metadata": {},
   "outputs": [
    {
     "data": {
      "text/plain": [
       "([[[9, 8], 1], 2], 3)"
      ]
     },
     "execution_count": 115,
     "metadata": {},
     "output_type": "execute_result"
    }
   ],
   "source": [
    "test[0][0], test[0][1]"
   ]
  },
  {
   "cell_type": "code",
   "execution_count": 140,
   "id": "2b7f8db8-db1e-4923-9719-718c367efd00",
   "metadata": {},
   "outputs": [],
   "source": [
    "done_1 = [[1]]"
   ]
  },
  {
   "cell_type": "code",
   "execution_count": 141,
   "id": "c9e1f18b-4b1d-4e85-9fad-31a94afcb28b",
   "metadata": {},
   "outputs": [
    {
     "data": {
      "text/plain": [
       "[[0, 0, 0], [0, 0, 1]]"
      ]
     },
     "execution_count": 141,
     "metadata": {},
     "output_type": "execute_result"
    }
   ],
   "source": [
    "done = [[0, 1]]\n",
    "\n",
    "# level_3 todo\n",
    "level_3_todo = [todo for todo in level_3 if todo[:2] not in done]\n",
    "level_3_todo = [todo for todo in level_3_todo if todo[:1] not in done_1]\n",
    "level_3_todo"
   ]
  },
  {
   "cell_type": "code",
   "execution_count": 142,
   "id": "7ede1384-2a0b-4026-a5f1-3fcde987dde0",
   "metadata": {},
   "outputs": [
    {
     "name": "stdout",
     "output_type": "stream",
     "text": [
      "[[9, 8], 1] [0, 0, 0]\n",
      "2 [0, 0, 1]\n"
     ]
    }
   ],
   "source": [
    "for i in level_3_todo:\n",
    "    a, b, c = i\n",
    "    #print(a, b, c, i)\n",
    "    print(test[a][b][c], [a, b, c])"
   ]
  },
  {
   "cell_type": "code",
   "execution_count": null,
   "id": "fa9b26ef-b76d-459e-9c41-26823c5c0b9e",
   "metadata": {},
   "outputs": [],
   "source": [
    "# level_1 ends: [1]\n",
    "# level_2 ends: [0, 1]\n",
    "# level_3 ends: [0, 0, 1]\n",
    "# level_4 ends: [0, 0, 0, 0](explode), [0, 0, 0, 1]\n",
    "\n",
    "# order of exploz:\n",
    "[0, 0, 0, 0], [0, 0, 0, 1], [0, 0, 1], [0, 1], [1]"
   ]
  },
  {
   "cell_type": "code",
   "execution_count": 127,
   "id": "5a349df3-900e-490b-9565-cef4cf7ba073",
   "metadata": {},
   "outputs": [
    {
     "data": {
      "text/plain": [
       "[[0, 0, 0], [0, 0, 1], [1, 0, 0], [1, 0, 1], [1, 1, 0], [1, 1, 1]]"
      ]
     },
     "execution_count": 127,
     "metadata": {},
     "output_type": "execute_result"
    }
   ],
   "source": [
    "level_3_todo"
   ]
  },
  {
   "cell_type": "code",
   "execution_count": null,
   "id": "f0fc2449-165e-4b72-bdbc-1d949e8588c4",
   "metadata": {},
   "outputs": [],
   "source": []
  },
  {
   "cell_type": "code",
   "execution_count": null,
   "id": "f1527204-094f-47d2-bd4a-6fd0c7855a0b",
   "metadata": {},
   "outputs": [],
   "source": [
    "[1], [0, 0], [0, 1, 0], [0, 1, 1, 0], [0, 1, 1, 1] # explod"
   ]
  },
  {
   "cell_type": "code",
   "execution_count": 152,
   "id": "cf8ab356-6bec-475b-a2eb-3214a4d59dc8",
   "metadata": {},
   "outputs": [
    {
     "data": {
      "text/plain": [
       "4"
      ]
     },
     "execution_count": 152,
     "metadata": {},
     "output_type": "execute_result"
    }
   ],
   "source": [
    "x[0][1][1][0]"
   ]
  },
  {
   "cell_type": "code",
   "execution_count": 144,
   "id": "6adae7a3-22e6-4d7c-ac34-da086db6ac56",
   "metadata": {},
   "outputs": [],
   "source": [
    "x =[[6,[5,[4,[3,2]]]],1]"
   ]
  },
  {
   "cell_type": "code",
   "execution_count": null,
   "id": "d51e1b17-5582-45e8-b424-efeb718ac78e",
   "metadata": {},
   "outputs": [],
   "source": []
  },
  {
   "cell_type": "code",
   "execution_count": null,
   "id": "9d9743dc-61a6-444b-9de8-81420885437a",
   "metadata": {},
   "outputs": [],
   "source": []
  },
  {
   "cell_type": "code",
   "execution_count": 153,
   "id": "e85983e2-2443-4dd9-b8e9-b954d7376fac",
   "metadata": {},
   "outputs": [
    {
     "data": {
      "text/plain": [
       "False"
      ]
     },
     "execution_count": 153,
     "metadata": {},
     "output_type": "execute_result"
    }
   ],
   "source": [
    "[1, 1] in [1, 1]"
   ]
  },
  {
   "cell_type": "markdown",
   "id": "649946eb-f703-43e7-a5b3-c27e13f2e455",
   "metadata": {},
   "source": [
    "# try"
   ]
  },
  {
   "cell_type": "code",
   "execution_count": 70,
   "id": "63243fcd-d809-4502-8847-426e2324fff9",
   "metadata": {},
   "outputs": [],
   "source": [
    "import numpy as np"
   ]
  },
  {
   "cell_type": "code",
   "execution_count": 53,
   "id": "2dc21739-a2cc-4886-8adc-0a0eb70d1807",
   "metadata": {},
   "outputs": [],
   "source": [
    "nodes = a\n",
    "level = [0]\n",
    "\n",
    "def dissect(nodes, level = []):\n",
    "    left_node = nodes[0]\n",
    "    right_node = nodes[1]\n",
    "    depth = len(level)\n",
    "\n",
    "    if type(left_node) is int:\n",
    "        print('end_node')\n",
    "    else:\n",
    "        if (depth + 1) == 4:\n",
    "            print('explosion!')\n",
    "        print('dissect', left_node, level + [0])\n",
    "\n",
    "    if type(right_node) is int:\n",
    "        print('end_node')\n",
    "    else:\n",
    "        print('dissect', right_node, level + [1])\n",
    "\n",
    "# next\n",
    "# dissect(left_node, level + [0])\n",
    "# dissect(right_node, level + [1])"
   ]
  },
  {
   "cell_type": "code",
   "execution_count": 54,
   "id": "6c7afce4-a4c2-4df3-8c7a-8a4561cc8fe5",
   "metadata": {},
   "outputs": [
    {
     "name": "stdout",
     "output_type": "stream",
     "text": [
      "dissect [[[[4, 3], 4], 4], [7, [[8, 4], 9]]] [0]\n",
      "dissect [1, 1] [1]\n"
     ]
    }
   ],
   "source": [
    "dissect(a)"
   ]
  },
  {
   "cell_type": "code",
   "execution_count": 49,
   "id": "03d0f721-321d-458e-b9e0-b9d86aeaf0f7",
   "metadata": {},
   "outputs": [
    {
     "name": "stdout",
     "output_type": "stream",
     "text": [
      "1\n",
      "dissect [[[4, 3], 4], 4] [0, 0]\n",
      "dissect [0, 1]\n"
     ]
    }
   ],
   "source": [
    "dissect([[[[4, 3], 4], 4], [7, [[8, 4], 9]]], [0])"
   ]
  },
  {
   "cell_type": "code",
   "execution_count": 50,
   "id": "65cb56d3-1cad-4a3a-8f34-49b58bc9881a",
   "metadata": {},
   "outputs": [
    {
     "name": "stdout",
     "output_type": "stream",
     "text": [
      "2\n",
      "dissect [[4, 3], 4] [0, 0, 0]\n",
      "end_node\n"
     ]
    }
   ],
   "source": [
    "dissect([[[4, 3], 4], 4], [0, 0])"
   ]
  },
  {
   "cell_type": "code",
   "execution_count": 52,
   "id": "c0f97c59-7f02-4b1a-bd02-e350987a5894",
   "metadata": {},
   "outputs": [
    {
     "name": "stdout",
     "output_type": "stream",
     "text": [
      "explosion!\n",
      "dissect [4, 3] [0, 0, 0, 0]\n",
      "end_node\n"
     ]
    }
   ],
   "source": [
    "dissect([[4, 3], 4], [0, 0, 0])"
   ]
  },
  {
   "cell_type": "code",
   "execution_count": 58,
   "id": "803f2d41-043f-4d43-9af1-3712a5592270",
   "metadata": {},
   "outputs": [
    {
     "data": {
      "text/plain": [
       "7"
      ]
     },
     "execution_count": 58,
     "metadata": {},
     "output_type": "execute_result"
    }
   ],
   "source": [
    "a[0][1][0]"
   ]
  },
  {
   "cell_type": "code",
   "execution_count": 55,
   "id": "c0dad22b-e23f-4805-9fc0-9d336a436a1b",
   "metadata": {},
   "outputs": [
    {
     "name": "stdout",
     "output_type": "stream",
     "text": [
      "end_node\n",
      "end_node\n"
     ]
    }
   ],
   "source": [
    "dissect([1, 1], [1])"
   ]
  },
  {
   "cell_type": "code",
   "execution_count": 42,
   "id": "7084dcbb-dd37-4269-9f62-23ba1230113a",
   "metadata": {},
   "outputs": [
    {
     "data": {
      "text/plain": [
       "4"
      ]
     },
     "execution_count": 42,
     "metadata": {},
     "output_type": "execute_result"
    }
   ],
   "source": [
    "len([1,2,3,4])"
   ]
  },
  {
   "cell_type": "code",
   "execution_count": null,
   "id": "6ef1233c-fe49-478b-b255-9e91e8a9126b",
   "metadata": {},
   "outputs": [],
   "source": [
    "[0]\n",
    "[1][1, 0][1, 1]"
   ]
  },
  {
   "cell_type": "code",
   "execution_count": 65,
   "id": "4f0acf1d-0c44-4234-9c9f-baef413a9bcf",
   "metadata": {},
   "outputs": [
    {
     "data": {
      "text/plain": [
       "2"
      ]
     },
     "execution_count": 65,
     "metadata": {},
     "output_type": "execute_result"
    }
   ],
   "source": [
    "# traverser\n",
    "index_path = [1]\n",
    "len(a[1])"
   ]
  },
  {
   "cell_type": "code",
   "execution_count": 61,
   "id": "e7d7d7c0-c8ce-438e-a1e4-cca2ee10c83e",
   "metadata": {},
   "outputs": [
    {
     "data": {
      "text/plain": [
       "0"
      ]
     },
     "execution_count": 61,
     "metadata": {},
     "output_type": "execute_result"
    }
   ],
   "source": [
    "[0]"
   ]
  },
  {
   "cell_type": "code",
   "execution_count": 64,
   "id": "854ceddd-3e53-414e-8ad4-19c4de5b7716",
   "metadata": {},
   "outputs": [
    {
     "data": {
      "text/plain": [
       "2"
      ]
     },
     "execution_count": 64,
     "metadata": {},
     "output_type": "execute_result"
    }
   ],
   "source": [
    "len(a[1])"
   ]
  },
  {
   "cell_type": "code",
   "execution_count": 68,
   "id": "477fee15-f150-48eb-9707-681a04ee1619",
   "metadata": {},
   "outputs": [
    {
     "data": {
      "text/plain": [
       "[7, [[8, 4], 9]]"
      ]
     },
     "execution_count": 68,
     "metadata": {},
     "output_type": "execute_result"
    }
   ],
   "source": [
    "i = 0\n",
    "j = 1\n",
    "a[i][j]"
   ]
  },
  {
   "cell_type": "code",
   "execution_count": 73,
   "id": "49d63d5e-e77a-4540-92e2-3a56edc3d3b2",
   "metadata": {},
   "outputs": [],
   "source": [
    "x = np.array([7, [[8, 4], 9]], dtype=object)"
   ]
  },
  {
   "cell_type": "code",
   "execution_count": 76,
   "id": "24b13f2b-0a7c-4d76-b7fa-341319bdfe00",
   "metadata": {},
   "outputs": [
    {
     "data": {
      "text/plain": [
       "array([7, list([[8, 4], 9])], dtype=object)"
      ]
     },
     "execution_count": 76,
     "metadata": {},
     "output_type": "execute_result"
    }
   ],
   "source": [
    "x"
   ]
  },
  {
   "cell_type": "code",
   "execution_count": 80,
   "id": "d89849ff-75a6-4728-9de3-4dd5dba82ca3",
   "metadata": {},
   "outputs": [
    {
     "data": {
      "text/plain": [
       "[8, 4]"
      ]
     },
     "execution_count": 80,
     "metadata": {},
     "output_type": "execute_result"
    }
   ],
   "source": [
    "x[1][0]"
   ]
  },
  {
   "cell_type": "code",
   "execution_count": null,
   "id": "8a44a378-fb7f-49b0-959b-a149da9654ca",
   "metadata": {},
   "outputs": [],
   "source": []
  },
  {
   "cell_type": "code",
   "execution_count": null,
   "id": "3e061c34-d92c-4aea-8547-2ebe2fc835d6",
   "metadata": {},
   "outputs": [],
   "source": []
  },
  {
   "cell_type": "code",
   "execution_count": 89,
   "id": "86e93391-65a5-45d1-a783-b764e9da5046",
   "metadata": {},
   "outputs": [
    {
     "data": {
      "text/plain": [
       "([[[[4, 3], 4], 4], [7, [[8, 4], 9]]], [1, 1])"
      ]
     },
     "execution_count": 89,
     "metadata": {},
     "output_type": "execute_result"
    }
   ],
   "source": [
    "# 0, 1\n",
    "level_1 = a[0], a[1] #0 # put in list\n",
    "level_1"
   ]
  },
  {
   "cell_type": "code",
   "execution_count": 90,
   "id": "96f8d12f-8726-44ed-80d2-cff04a8401ca",
   "metadata": {},
   "outputs": [
    {
     "data": {
      "text/plain": [
       "([[[4, 3], 4], 4], [7, [[8, 4], 9]], 1, 1)"
      ]
     },
     "execution_count": 90,
     "metadata": {},
     "output_type": "execute_result"
    }
   ],
   "source": [
    "# 0-(0-1), 1-(0-1)\n",
    "# 0-(0-1), 1-(0[done]-1[done])\n",
    "level_2 = level_1[0][0], level_1[0][1], level_1[1][0], level_1[1][1]\n",
    "level_2"
   ]
  },
  {
   "cell_type": "code",
   "execution_count": 91,
   "id": "4b7c827c-3da6-4e50-8082-bc72bf46f696",
   "metadata": {},
   "outputs": [
    {
     "data": {
      "text/plain": [
       "([[4, 3], 4], 4, 7, [[8, 4], 9])"
      ]
     },
     "execution_count": 91,
     "metadata": {},
     "output_type": "execute_result"
    }
   ],
   "source": [
    "# base: 0-0-(0, 1)\n",
    "\n",
    "\n",
    "# level_2 # filter on nested only\n",
    "level_3 = level_2[0][0], level_2[0][1], level_2[1][0], level_2[1][1]\n",
    "# level_2 # filter on nested only\n",
    "level_3"
   ]
  },
  {
   "cell_type": "code",
   "execution_count": 96,
   "id": "d8524d2d-99f6-40f1-addc-079b5e75eefb",
   "metadata": {},
   "outputs": [
    {
     "data": {
      "text/plain": [
       "([4, 3], 4, [8, 4], 9)"
      ]
     },
     "execution_count": 96,
     "metadata": {},
     "output_type": "execute_result"
    }
   ],
   "source": [
    "# 0-(0-1), 1-(0[done]-1[done])\n",
    "# base: 0-0-(0, 1)\n",
    "\n",
    "level_4 = level_3[0][0], level_3[0][1], level_3[3][0], level_3[3][1]\n",
    "level_4"
   ]
  },
  {
   "cell_type": "code",
   "execution_count": null,
   "id": "f5db50aa-334a-4261-bbee-fd5993a91de6",
   "metadata": {},
   "outputs": [],
   "source": [
    "[4, 3], 4, 4, 7, [8, 4], 9, 1, 1"
   ]
  },
  {
   "cell_type": "code",
   "execution_count": 97,
   "id": "4e2e20a9-746d-4bfe-b403-c1529981b83c",
   "metadata": {},
   "outputs": [],
   "source": [
    "test_nodes = [[[[[4,3],4],4],[7,[[8,4],9]]], [1, 1]]\n"
   ]
  },
  {
   "cell_type": "code",
   "execution_count": 100,
   "id": "dda13a4a-b01b-445c-9760-994c757374c0",
   "metadata": {},
   "outputs": [
    {
     "data": {
      "text/plain": [
       "([[[4, 3], 4], 4], [7, [[8, 4], 9]])"
      ]
     },
     "execution_count": 100,
     "metadata": {},
     "output_type": "execute_result"
    }
   ],
   "source": [
    "test_nodes[0][0], test_nodes[0][1]"
   ]
  },
  {
   "cell_type": "code",
   "execution_count": 101,
   "id": "367656dc-c5a1-456c-915b-479d14f07be8",
   "metadata": {},
   "outputs": [
    {
     "data": {
      "text/plain": [
       "(1, 1)"
      ]
     },
     "execution_count": 101,
     "metadata": {},
     "output_type": "execute_result"
    }
   ],
   "source": [
    "test_nodes[1][0], test_nodes[1][1]"
   ]
  },
  {
   "cell_type": "code",
   "execution_count": null,
   "id": "b817ac54-eb06-4e9c-bb47-0765d5342f9d",
   "metadata": {},
   "outputs": [],
   "source": []
  },
  {
   "cell_type": "code",
   "execution_count": null,
   "id": "1b5ee81a-509b-422e-8bf6-5234a2782fee",
   "metadata": {},
   "outputs": [],
   "source": []
  },
  {
   "cell_type": "markdown",
   "id": "d7b00335-e69e-468f-b8cd-24451b7d0709",
   "metadata": {},
   "source": [
    "# try 2"
   ]
  },
  {
   "cell_type": "code",
   "execution_count": 157,
   "id": "3ed66e98-1d3e-4ef3-b8d3-628ab22d5881",
   "metadata": {},
   "outputs": [],
   "source": [
    "import copy"
   ]
  },
  {
   "cell_type": "code",
   "execution_count": null,
   "id": "921fcf0c-10e1-4c85-a758-6a736e03b8b7",
   "metadata": {},
   "outputs": [],
   "source": [
    "# algorithm\n",
    "# check level from 1 to 4\n",
    "    # per level\n",
    "    # if end is found remove from all level todo\n",
    "    # put index in endpoint\n",
    "# sort all endpoint in order\n",
    "    # on first exploz, add points to the left and right adjacent indexes in sorted endpoints\n",
    "    # on first do split, replace the found endpoint index with splitting\n",
    "# repeat if first left action is handled to preserve order of actions"
   ]
  },
  {
   "cell_type": "code",
   "execution_count": 162,
   "id": "26806145-e0b3-4feb-a15c-41fb89c43b83",
   "metadata": {},
   "outputs": [],
   "source": [
    "# all indices per level\n",
    "level_1 = [[0], [1]]\n",
    "level_2 = [[0, 0], [0, 1], [1, 0], [1, 1]]\n",
    "level_3 = [\n",
    "    [0, 0, 0],\n",
    "    [0, 0, 1],\n",
    "    [0, 1, 0],\n",
    "    [0, 1, 1],\n",
    "    [1, 0, 0],\n",
    "    [1, 0, 1],\n",
    "    [1, 1, 0],\n",
    "    [1, 1, 1]\n",
    "]\n",
    "level_4 = [\n",
    "    [0, 0, 0, 0],\n",
    "    [0, 0, 0, 1],\n",
    "    [0, 0, 1, 0],\n",
    "    [0, 0, 1, 1],\n",
    "    [0, 1, 0, 0],\n",
    "    [0, 1, 0, 1],\n",
    "    [0, 1, 1, 0],\n",
    "    [0, 1, 1, 1],\n",
    "    [1, 0, 0, 0],\n",
    "    [1, 0, 0, 1],\n",
    "    [1, 0, 1, 0],\n",
    "    [1, 0, 1, 1],\n",
    "    [1, 1, 0, 0],\n",
    "    [1, 1, 0, 1],\n",
    "    [1, 1, 1, 0],\n",
    "    [1, 1, 1, 1]\n",
    "]"
   ]
  },
  {
   "cell_type": "code",
   "execution_count": 319,
   "id": "95750b7e-6c72-4714-ba7a-906f328bd62e",
   "metadata": {},
   "outputs": [],
   "source": [
    "class endpoint_class():    \n",
    "    def __init__(self):\n",
    "        self.endpoints = []\n",
    "    \n",
    "    def append(self, index: [list, list]):\n",
    "        self.endpoints = self.endpoints + index\n",
    "        \n",
    "    def index_leveled(self, level: int):\n",
    "        level_list = list(filter(lambda x: len(x) == level, self.endpoints))\n",
    "        \n",
    "        return level_list"
   ]
  },
  {
   "cell_type": "code",
   "execution_count": 182,
   "id": "6ee67d5e-94c1-477e-b72f-938eac5b9f65",
   "metadata": {},
   "outputs": [],
   "source": [
    "def index_builder(indexes):\n",
    "    index_string = ''\n",
    "    for index in indexes:\n",
    "        index_string += f'[{index}]'\n",
    "    \n",
    "    return index_string"
   ]
  },
  {
   "cell_type": "code",
   "execution_count": 163,
   "id": "c518282e-0b83-4149-9174-82f7619b89c0",
   "metadata": {},
   "outputs": [],
   "source": [
    "test1 = [[[[[4,3],4],4],[7,[[8,4],9]]],[1,1]]"
   ]
  },
  {
   "cell_type": "code",
   "execution_count": 164,
   "id": "181baa29-894c-454f-ad23-67ee7a82497b",
   "metadata": {},
   "outputs": [],
   "source": [
    "level_1_todo = copy.deepcopy(level_1)\n",
    "level_2_todo = copy.deepcopy(level_2)\n",
    "level_3_todo = copy.deepcopy(level_3)\n",
    "level_4_todo = copy.deepcopy(level_4)"
   ]
  },
  {
   "cell_type": "code",
   "execution_count": 160,
   "id": "db74bbdd-1171-4cff-82dd-3644669c9050",
   "metadata": {},
   "outputs": [],
   "source": [
    "snailfish = test1"
   ]
  },
  {
   "cell_type": "code",
   "execution_count": 326,
   "id": "074ed151-f760-472c-9a7b-3881c78c5e8a",
   "metadata": {},
   "outputs": [
    {
     "name": "stdout",
     "output_type": "stream",
     "text": [
      "[[[[4, 3], 4], 4], [7, [[8, 4], 9]]] [0]\n",
      "[1, 1] [1]\n",
      "-----------\n",
      "[[[4, 3], 4], 4] [0][0]\n",
      "[7, [[8, 4], 9]] [0][1]\n",
      "1 [1][0]\n",
      "1 [1][1]\n",
      "-----------\n"
     ]
    }
   ],
   "source": [
    "endpoints = endpoint_class()\n",
    "\n",
    "for level_number, level in enumerate([level_1_todo, level_2_todo, level_3_todo, level_4_todo][:2]):\n",
    "    \n",
    "    # filter level todos on already collected endpoints\n",
    "    #for i in range \n",
    "    \n",
    "    # for every level check the indices\n",
    "    for index in level:\n",
    "        index_string = index_builder(index)\n",
    "    \n",
    "        snail = eval(f'snailfish{index_string}')\n",
    "        print(snail, index_string)\n",
    "        \n",
    "        # check if snail is endpoint\n",
    "        if type(snail) is int:\n",
    "            endpoints.append([index])\n",
    "    \n",
    "    \n",
    "    print('-----------')"
   ]
  },
  {
   "cell_type": "code",
   "execution_count": 327,
   "id": "6a84ed29-65a7-4952-86ec-a65d1dc20675",
   "metadata": {},
   "outputs": [
    {
     "ename": "SyntaxError",
     "evalue": "invalid syntax (525519296.py, line 1)",
     "output_type": "error",
     "traceback": [
      "\u001b[0;36m  Cell \u001b[0;32mIn [327], line 1\u001b[0;36m\u001b[0m\n\u001b[0;31m    |\u001b[0m\n\u001b[0m    ^\u001b[0m\n\u001b[0;31mSyntaxError\u001b[0m\u001b[0;31m:\u001b[0m invalid syntax\n"
     ]
    }
   ],
   "source": []
  },
  {
   "cell_type": "code",
   "execution_count": 321,
   "id": "02fe6fe7-db7b-4cdd-8f2a-b9928e2334b8",
   "metadata": {},
   "outputs": [
    {
     "data": {
      "text/plain": [
       "[[1, 0], [1, 1]]"
      ]
     },
     "execution_count": 321,
     "metadata": {},
     "output_type": "execute_result"
    }
   ],
   "source": [
    "endpoints.endpoints"
   ]
  },
  {
   "cell_type": "code",
   "execution_count": 206,
   "id": "7bf20feb-55d5-407c-8ae5-4fb37b9ed904",
   "metadata": {},
   "outputs": [
    {
     "data": {
      "text/plain": [
       "[[1, 0], [1, 1], [0, 0, 1]]"
      ]
     },
     "execution_count": 206,
     "metadata": {},
     "output_type": "execute_result"
    }
   ],
   "source": [
    "ends = [[1, 0], [1, 1],[0, 0, 1]]\n",
    "ends"
   ]
  },
  {
   "cell_type": "code",
   "execution_count": 207,
   "id": "1addfb1c-ee95-4fc7-9548-dc74df13952c",
   "metadata": {},
   "outputs": [
    {
     "data": {
      "text/plain": [
       "[[0, 0, 0, 0],\n",
       " [0, 0, 0, 1],\n",
       " [0, 0, 1, 0],\n",
       " [0, 0, 1, 1],\n",
       " [0, 1, 0, 0],\n",
       " [0, 1, 0, 1],\n",
       " [0, 1, 1, 0],\n",
       " [0, 1, 1, 1],\n",
       " [1, 0, 0, 0],\n",
       " [1, 0, 0, 1],\n",
       " [1, 0, 1, 0],\n",
       " [1, 0, 1, 1],\n",
       " [1, 1, 0, 0],\n",
       " [1, 1, 0, 1],\n",
       " [1, 1, 1, 0],\n",
       " [1, 1, 1, 1]]"
      ]
     },
     "execution_count": 207,
     "metadata": {},
     "output_type": "execute_result"
    }
   ],
   "source": [
    "level_4_todo"
   ]
  },
  {
   "cell_type": "code",
   "execution_count": 211,
   "id": "b9a23b01-5a97-4b11-8f05-93cf808aca38",
   "metadata": {},
   "outputs": [
    {
     "data": {
      "text/plain": [
       "[[0, 0, 0, 0],\n",
       " [0, 0, 0, 1],\n",
       " [0, 0, 1, 0],\n",
       " [0, 0, 1, 1],\n",
       " [0, 1, 0, 0],\n",
       " [0, 1, 0, 1],\n",
       " [0, 1, 1, 0],\n",
       " [0, 1, 1, 1],\n",
       " [1, 0, 0, 0],\n",
       " [1, 0, 0, 1],\n",
       " [1, 0, 1, 0],\n",
       " [1, 0, 1, 1],\n",
       " [1, 1, 0, 0],\n",
       " [1, 1, 0, 1],\n",
       " [1, 1, 1, 0],\n",
       " [1, 1, 1, 1]]"
      ]
     },
     "execution_count": 211,
     "metadata": {},
     "output_type": "execute_result"
    }
   ],
   "source": [
    "level_4_todo"
   ]
  },
  {
   "cell_type": "code",
   "execution_count": 213,
   "id": "aaec6e3e-d6b7-4170-85ec-7c9096b7c539",
   "metadata": {},
   "outputs": [
    {
     "name": "stdout",
     "output_type": "stream",
     "text": [
      "[0, 0, 1, 0]\n",
      "[0, 0, 1, 1]\n",
      "[1, 0, 0, 0]\n",
      "[1, 0, 0, 0]\n",
      "[1, 0, 0, 1]\n",
      "[1, 0, 0, 1]\n",
      "[1, 0, 1, 0]\n",
      "[1, 0, 1, 0]\n",
      "[1, 0, 1, 1]\n",
      "[1, 0, 1, 1]\n",
      "[1, 1, 0, 0]\n",
      "[1, 1, 0, 0]\n",
      "[1, 1, 0, 1]\n",
      "[1, 1, 0, 1]\n",
      "[1, 1, 1, 0]\n",
      "[1, 1, 1, 0]\n",
      "[1, 1, 1, 1]\n",
      "[1, 1, 1, 1]\n"
     ]
    }
   ],
   "source": [
    "for index in level_4_todo:\n",
    "    for end in ends:\n",
    "        if index[:len(end)] in ends:\n",
    "            print(index)"
   ]
  },
  {
   "cell_type": "code",
   "execution_count": 214,
   "id": "a0b8b5b6-13d9-46c7-b998-61357b1656d0",
   "metadata": {},
   "outputs": [
    {
     "data": {
      "text/plain": [
       "[[1, 0], [1, 1], [0, 0, 1]]"
      ]
     },
     "execution_count": 214,
     "metadata": {},
     "output_type": "execute_result"
    }
   ],
   "source": [
    "ends"
   ]
  },
  {
   "cell_type": "code",
   "execution_count": 303,
   "id": "bcfd14b2-4a8f-4f68-996d-4c9b750c227a",
   "metadata": {},
   "outputs": [],
   "source": [
    "e = endpoints()"
   ]
  },
  {
   "cell_type": "code",
   "execution_count": 304,
   "id": "178dd171-6e04-4c16-9d8b-9438ce58e233",
   "metadata": {},
   "outputs": [],
   "source": [
    "listo = [[1, 2]]"
   ]
  },
  {
   "cell_type": "code",
   "execution_count": 308,
   "id": "21cd6d88-ce2e-4b31-9ce4-5d8ca5f4b10f",
   "metadata": {},
   "outputs": [],
   "source": [
    "e.append(listo)"
   ]
  },
  {
   "cell_type": "code",
   "execution_count": 311,
   "id": "ba645319-7303-4c0e-a1fd-bc47815d8423",
   "metadata": {},
   "outputs": [],
   "source": [
    "e.append([[0, 0, 1]])"
   ]
  },
  {
   "cell_type": "code",
   "execution_count": 312,
   "id": "46cd586d-4529-45a8-9e62-7517eaa1e24c",
   "metadata": {},
   "outputs": [
    {
     "data": {
      "text/plain": [
       "[[1, 2], [1, 2], [0, 0, 1]]"
      ]
     },
     "execution_count": 312,
     "metadata": {},
     "output_type": "execute_result"
    }
   ],
   "source": [
    "e.endpoints"
   ]
  },
  {
   "cell_type": "code",
   "execution_count": 314,
   "id": "d3ba175d-1467-492f-ad73-6cdd37af034a",
   "metadata": {},
   "outputs": [
    {
     "data": {
      "text/plain": [
       "[[0, 0, 1]]"
      ]
     },
     "execution_count": 314,
     "metadata": {},
     "output_type": "execute_result"
    }
   ],
   "source": [
    "e.index_leveled(3)"
   ]
  },
  {
   "cell_type": "code",
   "execution_count": null,
   "id": "88fb0f3a-5839-4e8f-ba91-d40cfe2b7dce",
   "metadata": {},
   "outputs": [],
   "source": []
  },
  {
   "cell_type": "code",
   "execution_count": null,
   "id": "e763e76c-536e-4ff8-a27b-53c3b5328711",
   "metadata": {},
   "outputs": [],
   "source": []
  }
 ],
 "metadata": {
  "kernelspec": {
   "display_name": "Python 3 (ipykernel)",
   "language": "python",
   "name": "python3"
  },
  "language_info": {
   "codemirror_mode": {
    "name": "ipython",
    "version": 3
   },
   "file_extension": ".py",
   "mimetype": "text/x-python",
   "name": "python",
   "nbconvert_exporter": "python",
   "pygments_lexer": "ipython3",
   "version": "3.9.13"
  }
 },
 "nbformat": 4,
 "nbformat_minor": 5
}
