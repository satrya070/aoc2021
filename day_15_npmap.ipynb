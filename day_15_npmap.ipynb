{
 "cells": [
  {
   "cell_type": "code",
   "execution_count": 1,
   "id": "d37f473a-886d-4af9-86c6-87a27839da7d",
   "metadata": {},
   "outputs": [],
   "source": [
    "import numpy as np"
   ]
  },
  {
   "cell_type": "code",
   "execution_count": 135,
   "id": "44029500-9ff7-49d8-a2c4-fd83a0429ff6",
   "metadata": {},
   "outputs": [],
   "source": [
    "LIM = 2\n",
    "END = (LIM, LIM)\n",
    "INF = 10000"
   ]
  },
  {
   "cell_type": "code",
   "execution_count": 136,
   "id": "6f2c5cf5-7636-451e-8584-bb905eda9d9d",
   "metadata": {},
   "outputs": [],
   "source": [
    "def get_neighbors(r, c):\n",
    "    \n",
    "    neighbors = [\n",
    "        (max(r-1, 0), c),\n",
    "        (r, min(c+1, LIM)),\n",
    "        (min(r+1, LIM), c),\n",
    "        (r, max(c-1, 0))\n",
    "    ]\n",
    "    \n",
    "    # remove self\n",
    "    neighbors = list(filter(lambda x: x != (r, c), neighbors))\n",
    "    \n",
    "    # remove duplicates (edge nodes)\n",
    "    neighbors = list(set(neighbors))\n",
    "\n",
    "    return neighbors"
   ]
  },
  {
   "cell_type": "code",
   "execution_count": 137,
   "id": "b5fe8dad-94e0-4975-a801-3686c8030712",
   "metadata": {},
   "outputs": [],
   "source": [
    "cmapping = np.array([\n",
    "    [1, 8, 3],\n",
    "    [7, 9, 2],\n",
    "    [3, 5, 5]\n",
    "])"
   ]
  },
  {
   "cell_type": "code",
   "execution_count": 147,
   "id": "713e7ec1-5940-45ba-ad92-d65a02ef21bb",
   "metadata": {},
   "outputs": [],
   "source": [
    "visited = np.zeros(shape=(DIM, DIM), dtype='uint16')\n",
    "\n",
    "distmap = np.ones(shape=(DIM, DIM), dtype='uint16')\n",
    "distmap.fill(INF)"
   ]
  },
  {
   "cell_type": "code",
   "execution_count": 148,
   "id": "ebd20ef0-9d98-420a-8cd9-a2070a0f7a93",
   "metadata": {},
   "outputs": [],
   "source": [
    "# init start node\n",
    "distmap[0, 0] = 0"
   ]
  },
  {
   "cell_type": "code",
   "execution_count": 149,
   "id": "6d0147db-2479-40af-a8d4-435888b3a301",
   "metadata": {},
   "outputs": [
    {
     "name": "stdout",
     "output_type": "stream",
     "text": [
      "Done!\n"
     ]
    }
   ],
   "source": [
    "for i in range(100):\n",
    "    non_visited = np.where(visited == 0)\n",
    "    r, c = np.where(distmap == min(distmap[non_visited]))  # pick lowest in 'queue'\n",
    "    r, c = r[0], c[0]  # just pick first if queues with same value\n",
    "    \n",
    "    if (r, c) == END:\n",
    "        print('Done!')\n",
    "        break\n",
    "        \n",
    "    neighbors = get_neighbors(r, c)\n",
    "\n",
    "    for neighbor in neighbors:\n",
    "        nr, nc = neighbor\n",
    "\n",
    "        if distmap[r, c] + cmapping[nr, nc] < distmap[nr, nc]:\n",
    "            distmap[nr, nc] = distmap[r, c] + cmapping[nr, nc]\n",
    "    \n",
    "    # add to visited\n",
    "    visited[r, c] = 1"
   ]
  },
  {
   "cell_type": "code",
   "execution_count": 150,
   "id": "337e09d9-6d0d-4dbb-bc39-c544fa4394ff",
   "metadata": {},
   "outputs": [
    {
     "data": {
      "text/plain": [
       "8"
      ]
     },
     "execution_count": 150,
     "metadata": {},
     "output_type": "execute_result"
    }
   ],
   "source": [
    "i"
   ]
  },
  {
   "cell_type": "code",
   "execution_count": 151,
   "id": "b4d1551e-17eb-48b4-bbec-b909409ceb8a",
   "metadata": {},
   "outputs": [
    {
     "data": {
      "text/plain": [
       "array([[1, 1, 1],\n",
       "       [1, 1, 1],\n",
       "       [1, 1, 0]], dtype=uint16)"
      ]
     },
     "execution_count": 151,
     "metadata": {},
     "output_type": "execute_result"
    }
   ],
   "source": [
    "visited"
   ]
  },
  {
   "cell_type": "code",
   "execution_count": 152,
   "id": "3a67c8b7-a05f-4145-a394-28e71d02292a",
   "metadata": {},
   "outputs": [
    {
     "data": {
      "text/plain": [
       "array([[ 0,  8, 11],\n",
       "       [ 7, 16, 13],\n",
       "       [10, 15, 18]], dtype=uint16)"
      ]
     },
     "execution_count": 152,
     "metadata": {},
     "output_type": "execute_result"
    }
   ],
   "source": [
    "distmap"
   ]
  },
  {
   "cell_type": "code",
   "execution_count": 153,
   "id": "09019c25-d507-456f-afe4-373ef028f815",
   "metadata": {},
   "outputs": [
    {
     "data": {
      "text/plain": [
       "[(0, 1), (1, 0), (1, 2), (2, 1)]"
      ]
     },
     "execution_count": 153,
     "metadata": {},
     "output_type": "execute_result"
    }
   ],
   "source": [
    "neighbors"
   ]
  },
  {
   "cell_type": "code",
   "execution_count": null,
   "id": "c662c3b6-e2d2-4ecc-968d-3ca5f9b78b86",
   "metadata": {},
   "outputs": [],
   "source": []
  },
  {
   "cell_type": "code",
   "execution_count": null,
   "id": "29252b63-31ac-47a1-a621-7453f10d1dde",
   "metadata": {},
   "outputs": [],
   "source": []
  },
  {
   "cell_type": "code",
   "execution_count": null,
   "id": "7f61f6fe-558e-4ff8-a7dd-ea01a46a158e",
   "metadata": {},
   "outputs": [],
   "source": []
  },
  {
   "cell_type": "code",
   "execution_count": 62,
   "id": "b4ac6a21-ce67-4aec-9c12-5951a33931cc",
   "metadata": {},
   "outputs": [],
   "source": [
    "nodes = [(1, (0, 0)), (4, (1, 0)), (5, (0, 1))]"
   ]
  },
  {
   "cell_type": "code",
   "execution_count": 63,
   "id": "61f161ee-324f-40b4-ae9d-2de05c1689d2",
   "metadata": {},
   "outputs": [],
   "source": [
    "queue = []"
   ]
  },
  {
   "cell_type": "code",
   "execution_count": 69,
   "id": "2ea37a0c-59a1-4f24-b3fa-291584237581",
   "metadata": {},
   "outputs": [],
   "source": [
    "heapq.heappush(queue, nodes[0])\n",
    "heapq.heappush(queue, nodes[2])\n",
    "heapq.heappush(queue, nodes[1])"
   ]
  },
  {
   "cell_type": "code",
   "execution_count": 65,
   "id": "1bf9939b-b036-4048-8c95-43667a5a700d",
   "metadata": {},
   "outputs": [],
   "source": [
    "current = heapq.heappop(queue)"
   ]
  },
  {
   "cell_type": "code",
   "execution_count": 66,
   "id": "334c7693-1ba6-4bc6-8690-3d612c3a2eac",
   "metadata": {},
   "outputs": [
    {
     "data": {
      "text/plain": [
       "(1, (0, 0))"
      ]
     },
     "execution_count": 66,
     "metadata": {},
     "output_type": "execute_result"
    }
   ],
   "source": [
    "shortest, position = current\n",
    "shortest, position"
   ]
  },
  {
   "cell_type": "code",
   "execution_count": null,
   "id": "c77f55ae-9d24-4944-9ceb-40824829472f",
   "metadata": {},
   "outputs": [],
   "source": [
    "visited = []"
   ]
  },
  {
   "cell_type": "code",
   "execution_count": null,
   "id": "09cfcb1c-3a5d-49d3-befd-5634ac71431f",
   "metadata": {},
   "outputs": [],
   "source": [
    "shortest, position = current\n",
    "\n",
    "# get neighbor positions\n",
    "neighbors = get_neighbors(position)\n",
    "\n",
    "for neighbor in neighbors:\n",
    "    if neighbor in visited:\n",
    "        continue\n",
    "\n",
    "    r, c = neighbor\n",
    "\n",
    "    if shortest + mapping[r, c] < dist_map[r, c]:\n",
    "        dist_map[r, c] = shortest + dist\n",
    "    \n",
    "    heapq.heappush(queue, (shortest + dist, neighbor))\n",
    "    \n",
    "    # TODO already heap?\n",
    "\n",
    "    # TODO is visited already?\n",
    "\n",
    "visited.append(position)"
   ]
  },
  {
   "cell_type": "code",
   "execution_count": 72,
   "id": "dfb2041f-15e5-47a6-af0f-248572b8c430",
   "metadata": {},
   "outputs": [
    {
     "data": {
      "text/plain": [
       "[(1, (0, 0)), (1, (0, 0)), (4, (1, 0)), (4, (1, 0)), (5, (0, 1)), (5, (0, 1))]"
      ]
     },
     "execution_count": 72,
     "metadata": {},
     "output_type": "execute_result"
    }
   ],
   "source": [
    "queue"
   ]
  },
  {
   "cell_type": "code",
   "execution_count": 73,
   "id": "bc6c5de1-c45e-4d3e-b356-67c4ee425bab",
   "metadata": {},
   "outputs": [
    {
     "data": {
      "text/plain": [
       "{(1, (0, 0)), (4, (1, 0)), (5, (0, 1))}"
      ]
     },
     "execution_count": 73,
     "metadata": {},
     "output_type": "execute_result"
    }
   ],
   "source": [
    "set(queue)"
   ]
  },
  {
   "cell_type": "code",
   "execution_count": null,
   "id": "39096d41-1226-4bed-9d62-94b3a196131a",
   "metadata": {},
   "outputs": [],
   "source": [
    "# for node in enumerate(queue)\n",
    "# if pos == neighbor\n",
    "#.   if value"
   ]
  },
  {
   "cell_type": "code",
   "execution_count": null,
   "id": "40f7d20b-8fa9-438e-9cc2-d656f0550159",
   "metadata": {},
   "outputs": [],
   "source": [
    "# update min\n",
    "if node in queue\n",
    "if node val is smaller\n",
    "heapq.heapreplace"
   ]
  },
  {
   "cell_type": "code",
   "execution_count": 76,
   "id": "f469465b-07dc-40e1-b725-5847e4734ae8",
   "metadata": {},
   "outputs": [
    {
     "data": {
      "text/plain": [
       "\u001b[0;31mSignature:\u001b[0m \u001b[0mheapq\u001b[0m\u001b[0;34m.\u001b[0m\u001b[0mheappop\u001b[0m\u001b[0;34m(\u001b[0m\u001b[0mheap\u001b[0m\u001b[0;34m,\u001b[0m \u001b[0;34m/\u001b[0m\u001b[0;34m)\u001b[0m\u001b[0;34m\u001b[0m\u001b[0;34m\u001b[0m\u001b[0m\n",
       "\u001b[0;31mDocstring:\u001b[0m Pop the smallest item off the heap, maintaining the heap invariant.\n",
       "\u001b[0;31mType:\u001b[0m      builtin_function_or_method\n"
      ]
     },
     "metadata": {},
     "output_type": "display_data"
    }
   ],
   "source": [
    "?heapq.heappop"
   ]
  },
  {
   "cell_type": "code",
   "execution_count": 95,
   "id": "46a8dead-9a92-419c-b729-171eb95aeb18",
   "metadata": {},
   "outputs": [],
   "source": [
    "a = np.array([\n",
    "    [100, 100, 2],\n",
    "    [1, 100, 1]\n",
    "])"
   ]
  },
  {
   "cell_type": "code",
   "execution_count": 96,
   "id": "12d864d6-9755-4807-afa7-820d3dfd7281",
   "metadata": {},
   "outputs": [
    {
     "data": {
      "text/plain": [
       "(array([1, 1]), array([0, 2]))"
      ]
     },
     "execution_count": 96,
     "metadata": {},
     "output_type": "execute_result"
    }
   ],
   "source": [
    "np.where(a == np.min(a))"
   ]
  },
  {
   "cell_type": "code",
   "execution_count": 90,
   "id": "2cc697fb-b87c-4d30-ba11-de82815c9694",
   "metadata": {},
   "outputs": [
    {
     "data": {
      "text/plain": [
       "\u001b[0;31mDocstring:\u001b[0m\n",
       "where(condition, [x, y], /)\n",
       "\n",
       "Return elements chosen from `x` or `y` depending on `condition`.\n",
       "\n",
       ".. note::\n",
       "    When only `condition` is provided, this function is a shorthand for\n",
       "    ``np.asarray(condition).nonzero()``. Using `nonzero` directly should be\n",
       "    preferred, as it behaves correctly for subclasses. The rest of this\n",
       "    documentation covers only the case where all three arguments are\n",
       "    provided.\n",
       "\n",
       "Parameters\n",
       "----------\n",
       "condition : array_like, bool\n",
       "    Where True, yield `x`, otherwise yield `y`.\n",
       "x, y : array_like\n",
       "    Values from which to choose. `x`, `y` and `condition` need to be\n",
       "    broadcastable to some shape.\n",
       "\n",
       "Returns\n",
       "-------\n",
       "out : ndarray\n",
       "    An array with elements from `x` where `condition` is True, and elements\n",
       "    from `y` elsewhere.\n",
       "\n",
       "See Also\n",
       "--------\n",
       "choose\n",
       "nonzero : The function that is called when x and y are omitted\n",
       "\n",
       "Notes\n",
       "-----\n",
       "If all the arrays are 1-D, `where` is equivalent to::\n",
       "\n",
       "    [xv if c else yv\n",
       "     for c, xv, yv in zip(condition, x, y)]\n",
       "\n",
       "Examples\n",
       "--------\n",
       ">>> a = np.arange(10)\n",
       ">>> a\n",
       "array([0, 1, 2, 3, 4, 5, 6, 7, 8, 9])\n",
       ">>> np.where(a < 5, a, 10*a)\n",
       "array([ 0,  1,  2,  3,  4, 50, 60, 70, 80, 90])\n",
       "\n",
       "This can be used on multidimensional arrays too:\n",
       "\n",
       ">>> np.where([[True, False], [True, True]],\n",
       "...          [[1, 2], [3, 4]],\n",
       "...          [[9, 8], [7, 6]])\n",
       "array([[1, 8],\n",
       "       [3, 4]])\n",
       "\n",
       "The shapes of x, y, and the condition are broadcast together:\n",
       "\n",
       ">>> x, y = np.ogrid[:3, :4]\n",
       ">>> np.where(x < y, x, 10 + y)  # both x and 10+y are broadcast\n",
       "array([[10,  0,  0,  0],\n",
       "       [10, 11,  1,  1],\n",
       "       [10, 11, 12,  2]])\n",
       "\n",
       ">>> a = np.array([[0, 1, 2],\n",
       "...               [0, 2, 4],\n",
       "...               [0, 3, 6]])\n",
       ">>> np.where(a < 4, a, -1)  # -1 is broadcast\n",
       "array([[ 0,  1,  2],\n",
       "       [ 0,  2, -1],\n",
       "       [ 0,  3, -1]])\n",
       "\u001b[0;31mType:\u001b[0m      function\n"
      ]
     },
     "metadata": {},
     "output_type": "display_data"
    }
   ],
   "source": [
    "?np.where"
   ]
  },
  {
   "cell_type": "code",
   "execution_count": null,
   "id": "36aceaed-1cec-4774-b3ce-28aecc01971c",
   "metadata": {},
   "outputs": [],
   "source": []
  }
 ],
 "metadata": {
  "kernelspec": {
   "display_name": "Python 3 (ipykernel)",
   "language": "python",
   "name": "python3"
  },
  "language_info": {
   "codemirror_mode": {
    "name": "ipython",
    "version": 3
   },
   "file_extension": ".py",
   "mimetype": "text/x-python",
   "name": "python",
   "nbconvert_exporter": "python",
   "pygments_lexer": "ipython3",
   "version": "3.9.13"
  }
 },
 "nbformat": 4,
 "nbformat_minor": 5
}
