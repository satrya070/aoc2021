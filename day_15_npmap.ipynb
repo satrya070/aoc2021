{
 "cells": [
  {
   "cell_type": "code",
   "execution_count": 182,
   "id": "d37f473a-886d-4af9-86c6-87a27839da7d",
   "metadata": {},
   "outputs": [],
   "source": [
    "import numpy as np\n",
    "import matplotlib.pyplot as plt"
   ]
  },
  {
   "cell_type": "code",
   "execution_count": 249,
   "id": "3ed0c844-df6e-4f04-a3a2-95264bec8359",
   "metadata": {},
   "outputs": [],
   "source": [
    "with open('./data/input_15_2.txt') as handle:\n",
    "    rows = []\n",
    "    for line in handle.readlines():\n",
    "        row = [int(i) for i in line[:500]]\n",
    "        rows.append(row)"
   ]
  },
  {
   "cell_type": "code",
   "execution_count": 250,
   "id": "d7a3a86e-7c1c-4193-9883-193e80834112",
   "metadata": {},
   "outputs": [],
   "source": [
    "input_map = np.array(rows)"
   ]
  },
  {
   "cell_type": "code",
   "execution_count": 251,
   "id": "8a89c61b-631b-497b-a6e3-27cea478c18c",
   "metadata": {},
   "outputs": [
    {
     "data": {
      "text/plain": [
       "array([[2, 4, 9, ..., 8, 4, 9],\n",
       "       [7, 2, 6, ..., 4, 6, 9],\n",
       "       [5, 1, 9, ..., 3, 4, 2],\n",
       "       ...,\n",
       "       [8, 9, 1, ..., 4, 8, 1],\n",
       "       [4, 6, 4, ..., 1, 6, 2],\n",
       "       [8, 2, 3, ..., 6, 8, 5]])"
      ]
     },
     "execution_count": 251,
     "metadata": {},
     "output_type": "execute_result"
    }
   ],
   "source": [
    "input_map"
   ]
  },
  {
   "cell_type": "code",
   "execution_count": 252,
   "id": "2b6c7b9c-20f5-4c58-87b7-7c537345dc83",
   "metadata": {},
   "outputs": [
    {
     "data": {
      "text/plain": [
       "(500, 500)"
      ]
     },
     "execution_count": 252,
     "metadata": {},
     "output_type": "execute_result"
    }
   ],
   "source": [
    "input_map.shape"
   ]
  },
  {
   "cell_type": "markdown",
   "id": "ed5f14c5-2bf2-4bb0-bfd6-8d20eba3ad09",
   "metadata": {},
   "source": [
    "## Algo part"
   ]
  },
  {
   "cell_type": "code",
   "execution_count": 253,
   "id": "44029500-9ff7-49d8-a2c4-fd83a0429ff6",
   "metadata": {},
   "outputs": [],
   "source": [
    "LIM = 499\n",
    "END = (LIM, LIM)\n",
    "INF = 10000"
   ]
  },
  {
   "cell_type": "code",
   "execution_count": 254,
   "id": "6f2c5cf5-7636-451e-8584-bb905eda9d9d",
   "metadata": {},
   "outputs": [],
   "source": [
    "def get_neighbors(r, c):\n",
    "    \n",
    "    neighbors = [\n",
    "        (max(r-1, 0), c),\n",
    "        (r, min(c+1, LIM)),\n",
    "        (min(r+1, LIM), c),\n",
    "        (r, max(c-1, 0))\n",
    "    ]\n",
    "    \n",
    "    # remove self\n",
    "    neighbors = list(filter(lambda x: x != (r, c), neighbors))\n",
    "    \n",
    "    # remove duplicates (edge nodes)\n",
    "    neighbors = list(set(neighbors))\n",
    "\n",
    "    return neighbors"
   ]
  },
  {
   "cell_type": "code",
   "execution_count": 137,
   "id": "b5fe8dad-94e0-4975-a801-3686c8030712",
   "metadata": {
    "jupyter": {
     "source_hidden": true
    },
    "tags": []
   },
   "outputs": [],
   "source": [
    "cmapping = np.array([\n",
    "    [1, 8, 3],\n",
    "    [7, 9, 2],\n",
    "    [3, 5, 5]\n",
    "])"
   ]
  },
  {
   "cell_type": "code",
   "execution_count": 255,
   "id": "9c220ed8-5de9-49fa-a756-6c4d397a7955",
   "metadata": {},
   "outputs": [],
   "source": [
    "cmapping = input_map"
   ]
  },
  {
   "cell_type": "code",
   "execution_count": 263,
   "id": "713e7ec1-5940-45ba-ad92-d65a02ef21bb",
   "metadata": {},
   "outputs": [],
   "source": [
    "visited = np.zeros(shape=(LIM+1, LIM+1), dtype='uint16')\n",
    "\n",
    "distmap = np.ones(shape=(LIM+1, LIM+1), dtype='uint16')\n",
    "distmap.fill(INF)"
   ]
  },
  {
   "cell_type": "code",
   "execution_count": 264,
   "id": "d1bf86d3-f23b-42d7-b7e5-b6d55af61d6f",
   "metadata": {},
   "outputs": [
    {
     "data": {
      "text/plain": [
       "((500, 500), (500, 500), (500, 500))"
      ]
     },
     "execution_count": 264,
     "metadata": {},
     "output_type": "execute_result"
    }
   ],
   "source": [
    "cmapping.shape, visited.shape, distmap.shape"
   ]
  },
  {
   "cell_type": "code",
   "execution_count": 266,
   "id": "ebd20ef0-9d98-420a-8cd9-a2070a0f7a93",
   "metadata": {},
   "outputs": [],
   "source": [
    "# init start node\n",
    "distmap[0, 0] = 0"
   ]
  },
  {
   "cell_type": "code",
   "execution_count": 267,
   "id": "6d0147db-2479-40af-a8d4-435888b3a301",
   "metadata": {},
   "outputs": [
    {
     "name": "stdout",
     "output_type": "stream",
     "text": [
      "Done!\n",
      "CPU times: user 34min 21s, sys: 1.55 s, total: 34min 23s\n",
      "Wall time: 34min 24s\n"
     ]
    }
   ],
   "source": [
    "%%time\n",
    "\n",
    "#for i in range(100000):\n",
    "while (r, c) != END:\n",
    "    non_visited = np.where(visited == 0)\n",
    "    shortest_val = min(distmap[non_visited])\n",
    "    distmap[non_visited] == shortest_val  # of all non visited nodes get the ones equal to shortest_val\n",
    "    \n",
    "    r = non_visited[0][distmap[non_visited] == shortest_val] # get r/y of lowest unvisited\n",
    "    c = non_visited[1][distmap[non_visited] == shortest_val] # get c/x of lowest unvisited\n",
    "    \n",
    "    # r, c = np.where(distmap == min(distmap[non_visited]))  # pick lowest in 'queue'\n",
    "    r, c = r[0], c[0]  # just pick first if queues with same value\n",
    "    \n",
    "    if (r, c) == END:\n",
    "        print('Done!')\n",
    "        break\n",
    "        \n",
    "    neighbors = get_neighbors(r, c)\n",
    "\n",
    "    for neighbor in neighbors:\n",
    "        nr, nc = neighbor\n",
    "\n",
    "        if distmap[r, c] + cmapping[nr, nc] < distmap[nr, nc]:\n",
    "            distmap[nr, nc] = distmap[r, c] + cmapping[nr, nc]\n",
    "    \n",
    "    # add to visited\n",
    "    visited[r, c] = 1"
   ]
  },
  {
   "cell_type": "code",
   "execution_count": 268,
   "id": "58c1bd76-3a45-4167-942d-c80ffa16369c",
   "metadata": {},
   "outputs": [
    {
     "data": {
      "text/plain": [
       "<matplotlib.image.AxesImage at 0x7f7ee883c1f0>"
      ]
     },
     "execution_count": 268,
     "metadata": {},
     "output_type": "execute_result"
    },
    {
     "data": {
      "image/png": "[encoded data removed]",
      "text/plain": [
       "<Figure size 640x480 with 1 Axes>"
      ]
     },
     "metadata": {},
     "output_type": "display_data"
    }
   ],
   "source": [
    "plt.imshow(visited)"
   ]
  },
  {
   "cell_type": "code",
   "execution_count": 260,
   "id": "f6afe944-f097-4ae3-8804-adad1c33744a",
   "metadata": {},
   "outputs": [
    {
     "data": {
      "text/plain": [
       "<matplotlib.image.AxesImage at 0x7f7ed90bca00>"
      ]
     },
     "execution_count": 260,
     "metadata": {},
     "output_type": "execute_result"
    },
    {
     "data": {
      "image/png": "[encoded data removed]",
      "text/plain": [
       "<Figure size 640x480 with 1 Axes>"
      ]
     },
     "metadata": {},
     "output_type": "display_data"
    }
   ],
   "source": [
    "plt.imshow(visited)"
   ]
  },
  {
   "cell_type": "code",
   "execution_count": 261,
   "id": "991b992b-b1f4-438c-bedd-a62f7ba7b43b",
   "metadata": {},
   "outputs": [
    {
     "data": {
      "text/plain": [
       "<matplotlib.colorbar.Colorbar at 0x7f7ed9129100>"
      ]
     },
     "execution_count": 261,
     "metadata": {},
     "output_type": "execute_result"
    },
    {
     "data": {
      "image/png": "[encoded data removed]",
      "text/plain": [
       "<Figure size 640x480 with 2 Axes>"
      ]
     },
     "metadata": {},
     "output_type": "display_data"
    }
   ],
   "source": [
    "plt.imshow(distmap)\n",
    "plt.colorbar()"
   ]
  },
  {
   "cell_type": "code",
   "execution_count": 269,
   "id": "fcb57ca5-9e69-4438-baab-3e7c5248c458",
   "metadata": {},
   "outputs": [
    {
     "data": {
      "text/plain": [
       "<matplotlib.image.AxesImage at 0x7f7eb85651f0>"
      ]
     },
     "execution_count": 269,
     "metadata": {},
     "output_type": "execute_result"
    },
    {
     "data": {
      "image/png": "[encoded data removed]",
      "text/plain": [
       "<Figure size 640x480 with 1 Axes>"
      ]
     },
     "metadata": {},
     "output_type": "display_data"
    }
   ],
   "source": [
    "plt.imshow(distmap)"
   ]
  },
  {
   "cell_type": "code",
   "execution_count": 270,
   "id": "8dced3c5-3aca-405c-b3d8-faaf39cfe19d",
   "metadata": {},
   "outputs": [
    {
     "data": {
      "text/plain": [
       "array([[   0,    4,   13, ..., 1692, 1694, 1703],\n",
       "       [   7,    6,   12, ..., 1684, 1690, 1699],\n",
       "       [  12,    7,   16, ..., 1684, 1688, 1690],\n",
       "       ...,\n",
       "       [1704, 1706, 1697, ..., 2879, 2887, 2888],\n",
       "       [1708, 1707, 1701, ..., 2880, 2886, 2888],\n",
       "       [1714, 1706, 1704, ..., 2886, 2894, 2893]], dtype=uint16)"
      ]
     },
     "execution_count": 270,
     "metadata": {},
     "output_type": "execute_result"
    }
   ],
   "source": [
    "distmap"
   ]
  },
  {
   "cell_type": "code",
   "execution_count": 248,
   "id": "eac32c74-81e3-489e-8e89-f0329c648de7",
   "metadata": {},
   "outputs": [
    {
     "data": {
      "text/plain": [
       "array([[  0,   4,  13, ..., 434, 443, 444],\n",
       "       [  7,   6,  12, ..., 436, 434, 439],\n",
       "       [ 12,   7,  16, ..., 427, 432, 438],\n",
       "       ...,\n",
       "       [419, 418, 424, ..., 655, 664, 666],\n",
       "       [428, 420, 429, ..., 657, 664, 667],\n",
       "       [431, 427, 435, ..., 664, 673, 673]], dtype=uint16)"
      ]
     },
     "execution_count": 248,
     "metadata": {},
     "output_type": "execute_result"
    }
   ],
   "source": [
    "distmap"
   ]
  },
  {
   "cell_type": "code",
   "execution_count": 219,
   "id": "dcabd62c-c867-458b-9584-62ddfc98ae1d",
   "metadata": {},
   "outputs": [
    {
     "data": {
      "text/plain": [
       "(array([ 0,  0,  0, ..., 99, 99, 99]), array([2]))"
      ]
     },
     "execution_count": 219,
     "metadata": {},
     "output_type": "execute_result"
    }
   ],
   "source": [
    "non_visited[0][distmap[non_visited] == 10000], non_visited[1][distmap[non_visited] == 13]"
   ]
  },
  {
   "cell_type": "code",
   "execution_count": 207,
   "id": "337e09d9-6d0d-4dbb-bc39-c544fa4394ff",
   "metadata": {},
   "outputs": [
    {
     "data": {
      "text/plain": [
       "(array([1, 2]), array([0, 1]))"
      ]
     },
     "execution_count": 207,
     "metadata": {},
     "output_type": "execute_result"
    }
   ],
   "source": [
    "np.where(distmap == min(distmap[non_visited]))"
   ]
  },
  {
   "cell_type": "raw",
   "id": "89343e44-19c7-4e7c-bede-e83c3e106770",
   "metadata": {},
   "source": [
    "non_visited"
   ]
  },
  {
   "cell_type": "code",
   "execution_count": 206,
   "id": "ab332ebb-e25c-424c-b714-1c2f8a92c716",
   "metadata": {},
   "outputs": [
    {
     "data": {
      "text/plain": [
       "(1, 0)"
      ]
     },
     "execution_count": 206,
     "metadata": {},
     "output_type": "execute_result"
    }
   ],
   "source": [
    "r, c"
   ]
  },
  {
   "cell_type": "code",
   "execution_count": 198,
   "id": "b4d1551e-17eb-48b4-bbec-b909409ceb8a",
   "metadata": {},
   "outputs": [
    {
     "data": {
      "text/plain": [
       "array([[1, 1, 0, ..., 0, 0, 0],\n",
       "       [1, 1, 0, ..., 0, 0, 0],\n",
       "       [0, 0, 0, ..., 0, 0, 0],\n",
       "       ...,\n",
       "       [0, 0, 0, ..., 0, 0, 0],\n",
       "       [0, 0, 0, ..., 0, 0, 0],\n",
       "       [0, 0, 0, ..., 0, 0, 0]], dtype=uint16)"
      ]
     },
     "execution_count": 198,
     "metadata": {},
     "output_type": "execute_result"
    }
   ],
   "source": [
    "visited"
   ]
  },
  {
   "cell_type": "code",
   "execution_count": 199,
   "id": "3a67c8b7-a05f-4145-a394-28e71d02292a",
   "metadata": {},
   "outputs": [
    {
     "data": {
      "text/plain": [
       "array([[    0,     4,    13, ..., 10000, 10000, 10000],\n",
       "       [    7,     6,    12, ..., 10000, 10000, 10000],\n",
       "       [   12,     7, 10000, ..., 10000, 10000, 10000],\n",
       "       ...,\n",
       "       [10000, 10000, 10000, ..., 10000, 10000, 10000],\n",
       "       [10000, 10000, 10000, ..., 10000, 10000, 10000],\n",
       "       [10000, 10000, 10000, ..., 10000, 10000, 10000]], dtype=uint16)"
      ]
     },
     "execution_count": 199,
     "metadata": {},
     "output_type": "execute_result"
    }
   ],
   "source": [
    "distmap"
   ]
  },
  {
   "cell_type": "code",
   "execution_count": 153,
   "id": "09019c25-d507-456f-afe4-373ef028f815",
   "metadata": {},
   "outputs": [
    {
     "data": {
      "text/plain": [
       "[(0, 1), (1, 0), (1, 2), (2, 1)]"
      ]
     },
     "execution_count": 153,
     "metadata": {},
     "output_type": "execute_result"
    }
   ],
   "source": [
    "neighbors"
   ]
  },
  {
   "cell_type": "code",
   "execution_count": null,
   "id": "c662c3b6-e2d2-4ecc-968d-3ca5f9b78b86",
   "metadata": {},
   "outputs": [],
   "source": []
  },
  {
   "cell_type": "code",
   "execution_count": null,
   "id": "29252b63-31ac-47a1-a621-7453f10d1dde",
   "metadata": {},
   "outputs": [],
   "source": []
  },
  {
   "cell_type": "code",
   "execution_count": null,
   "id": "7f61f6fe-558e-4ff8-a7dd-ea01a46a158e",
   "metadata": {},
   "outputs": [],
   "source": []
  },
  {
   "cell_type": "code",
   "execution_count": 62,
   "id": "b4ac6a21-ce67-4aec-9c12-5951a33931cc",
   "metadata": {},
   "outputs": [],
   "source": [
    "nodes = [(1, (0, 0)), (4, (1, 0)), (5, (0, 1))]"
   ]
  },
  {
   "cell_type": "code",
   "execution_count": 63,
   "id": "61f161ee-324f-40b4-ae9d-2de05c1689d2",
   "metadata": {},
   "outputs": [],
   "source": [
    "queue = []"
   ]
  },
  {
   "cell_type": "code",
   "execution_count": 69,
   "id": "2ea37a0c-59a1-4f24-b3fa-291584237581",
   "metadata": {},
   "outputs": [],
   "source": [
    "heapq.heappush(queue, nodes[0])\n",
    "heapq.heappush(queue, nodes[2])\n",
    "heapq.heappush(queue, nodes[1])"
   ]
  },
  {
   "cell_type": "code",
   "execution_count": 65,
   "id": "1bf9939b-b036-4048-8c95-43667a5a700d",
   "metadata": {},
   "outputs": [],
   "source": [
    "current = heapq.heappop(queue)"
   ]
  },
  {
   "cell_type": "code",
   "execution_count": 66,
   "id": "334c7693-1ba6-4bc6-8690-3d612c3a2eac",
   "metadata": {},
   "outputs": [
    {
     "data": {
      "text/plain": [
       "(1, (0, 0))"
      ]
     },
     "execution_count": 66,
     "metadata": {},
     "output_type": "execute_result"
    }
   ],
   "source": [
    "shortest, position = current\n",
    "shortest, position"
   ]
  },
  {
   "cell_type": "code",
   "execution_count": null,
   "id": "c77f55ae-9d24-4944-9ceb-40824829472f",
   "metadata": {},
   "outputs": [],
   "source": [
    "visited = []"
   ]
  },
  {
   "cell_type": "code",
   "execution_count": null,
   "id": "09cfcb1c-3a5d-49d3-befd-5634ac71431f",
   "metadata": {},
   "outputs": [],
   "source": [
    "shortest, position = current\n",
    "\n",
    "# get neighbor positions\n",
    "neighbors = get_neighbors(position)\n",
    "\n",
    "for neighbor in neighbors:\n",
    "    if neighbor in visited:\n",
    "        continue\n",
    "\n",
    "    r, c = neighbor\n",
    "\n",
    "    if shortest + mapping[r, c] < dist_map[r, c]:\n",
    "        dist_map[r, c] = shortest + dist\n",
    "    \n",
    "    heapq.heappush(queue, (shortest + dist, neighbor))\n",
    "    \n",
    "    # TODO already heap?\n",
    "\n",
    "    # TODO is visited already?\n",
    "\n",
    "visited.append(position)"
   ]
  },
  {
   "cell_type": "code",
   "execution_count": 72,
   "id": "dfb2041f-15e5-47a6-af0f-248572b8c430",
   "metadata": {},
   "outputs": [
    {
     "data": {
      "text/plain": [
       "[(1, (0, 0)), (1, (0, 0)), (4, (1, 0)), (4, (1, 0)), (5, (0, 1)), (5, (0, 1))]"
      ]
     },
     "execution_count": 72,
     "metadata": {},
     "output_type": "execute_result"
    }
   ],
   "source": [
    "queue"
   ]
  },
  {
   "cell_type": "code",
   "execution_count": 73,
   "id": "bc6c5de1-c45e-4d3e-b356-67c4ee425bab",
   "metadata": {},
   "outputs": [
    {
     "data": {
      "text/plain": [
       "{(1, (0, 0)), (4, (1, 0)), (5, (0, 1))}"
      ]
     },
     "execution_count": 73,
     "metadata": {},
     "output_type": "execute_result"
    }
   ],
   "source": [
    "set(queue)"
   ]
  },
  {
   "cell_type": "code",
   "execution_count": null,
   "id": "39096d41-1226-4bed-9d62-94b3a196131a",
   "metadata": {},
   "outputs": [],
   "source": [
    "# for node in enumerate(queue)\n",
    "# if pos == neighbor\n",
    "#.   if value"
   ]
  },
  {
   "cell_type": "code",
   "execution_count": null,
   "id": "40f7d20b-8fa9-438e-9cc2-d656f0550159",
   "metadata": {},
   "outputs": [],
   "source": [
    "# update min\n",
    "if node in queue\n",
    "if node val is smaller\n",
    "heapq.heapreplace"
   ]
  },
  {
   "cell_type": "code",
   "execution_count": 76,
   "id": "f469465b-07dc-40e1-b725-5847e4734ae8",
   "metadata": {},
   "outputs": [
    {
     "data": {
      "text/plain": [
       "\u001b[0;31mSignature:\u001b[0m \u001b[0mheapq\u001b[0m\u001b[0;34m.\u001b[0m\u001b[0mheappop\u001b[0m\u001b[0;34m(\u001b[0m\u001b[0mheap\u001b[0m\u001b[0;34m,\u001b[0m \u001b[0;34m/\u001b[0m\u001b[0;34m)\u001b[0m\u001b[0;34m\u001b[0m\u001b[0;34m\u001b[0m\u001b[0m\n",
       "\u001b[0;31mDocstring:\u001b[0m Pop the smallest item off the heap, maintaining the heap invariant.\n",
       "\u001b[0;31mType:\u001b[0m      builtin_function_or_method\n"
      ]
     },
     "metadata": {},
     "output_type": "display_data"
    }
   ],
   "source": [
    "?heapq.heappop"
   ]
  },
  {
   "cell_type": "code",
   "execution_count": 95,
   "id": "46a8dead-9a92-419c-b729-171eb95aeb18",
   "metadata": {},
   "outputs": [],
   "source": [
    "a = np.array([\n",
    "    [100, 100, 2],\n",
    "    [1, 100, 1]\n",
    "])"
   ]
  },
  {
   "cell_type": "code",
   "execution_count": 96,
   "id": "12d864d6-9755-4807-afa7-820d3dfd7281",
   "metadata": {},
   "outputs": [
    {
     "data": {
      "text/plain": [
       "(array([1, 1]), array([0, 2]))"
      ]
     },
     "execution_count": 96,
     "metadata": {},
     "output_type": "execute_result"
    }
   ],
   "source": [
    "np.where(a == np.min(a))"
   ]
  },
  {
   "cell_type": "code",
   "execution_count": 90,
   "id": "2cc697fb-b87c-4d30-ba11-de82815c9694",
   "metadata": {},
   "outputs": [
    {
     "data": {
      "text/plain": [
       "\u001b[0;31mDocstring:\u001b[0m\n",
       "where(condition, [x, y], /)\n",
       "\n",
       "Return elements chosen from `x` or `y` depending on `condition`.\n",
       "\n",
       ".. note::\n",
       "    When only `condition` is provided, this function is a shorthand for\n",
       "    ``np.asarray(condition).nonzero()``. Using `nonzero` directly should be\n",
       "    preferred, as it behaves correctly for subclasses. The rest of this\n",
       "    documentation covers only the case where all three arguments are\n",
       "    provided.\n",
       "\n",
       "Parameters\n",
       "----------\n",
       "condition : array_like, bool\n",
       "    Where True, yield `x`, otherwise yield `y`.\n",
       "x, y : array_like\n",
       "    Values from which to choose. `x`, `y` and `condition` need to be\n",
       "    broadcastable to some shape.\n",
       "\n",
       "Returns\n",
       "-------\n",
       "out : ndarray\n",
       "    An array with elements from `x` where `condition` is True, and elements\n",
       "    from `y` elsewhere.\n",
       "\n",
       "See Also\n",
       "--------\n",
       "choose\n",
       "nonzero : The function that is called when x and y are omitted\n",
       "\n",
       "Notes\n",
       "-----\n",
       "If all the arrays are 1-D, `where` is equivalent to::\n",
       "\n",
       "    [xv if c else yv\n",
       "     for c, xv, yv in zip(condition, x, y)]\n",
       "\n",
       "Examples\n",
       "--------\n",
       ">>> a = np.arange(10)\n",
       ">>> a\n",
       "array([0, 1, 2, 3, 4, 5, 6, 7, 8, 9])\n",
       ">>> np.where(a < 5, a, 10*a)\n",
       "array([ 0,  1,  2,  3,  4, 50, 60, 70, 80, 90])\n",
       "\n",
       "This can be used on multidimensional arrays too:\n",
       "\n",
       ">>> np.where([[True, False], [True, True]],\n",
       "...          [[1, 2], [3, 4]],\n",
       "...          [[9, 8], [7, 6]])\n",
       "array([[1, 8],\n",
       "       [3, 4]])\n",
       "\n",
       "The shapes of x, y, and the condition are broadcast together:\n",
       "\n",
       ">>> x, y = np.ogrid[:3, :4]\n",
       ">>> np.where(x < y, x, 10 + y)  # both x and 10+y are broadcast\n",
       "array([[10,  0,  0,  0],\n",
       "       [10, 11,  1,  1],\n",
       "       [10, 11, 12,  2]])\n",
       "\n",
       ">>> a = np.array([[0, 1, 2],\n",
       "...               [0, 2, 4],\n",
       "...               [0, 3, 6]])\n",
       ">>> np.where(a < 4, a, -1)  # -1 is broadcast\n",
       "array([[ 0,  1,  2],\n",
       "       [ 0,  2, -1],\n",
       "       [ 0,  3, -1]])\n",
       "\u001b[0;31mType:\u001b[0m      function\n"
      ]
     },
     "metadata": {},
     "output_type": "display_data"
    }
   ],
   "source": [
    "?np.where"
   ]
  },
  {
   "cell_type": "code",
   "execution_count": null,
   "id": "36aceaed-1cec-4774-b3ce-28aecc01971c",
   "metadata": {},
   "outputs": [],
   "source": []
  }
 ],
 "metadata": {
  "kernelspec": {
   "display_name": "Python 3 (ipykernel)",
   "language": "python",
   "name": "python3"
  },
  "language_info": {
   "codemirror_mode": {
    "name": "ipython",
    "version": 3
   },
   "file_extension": ".py",
   "mimetype": "text/x-python",
   "name": "python",
   "nbconvert_exporter": "python",
   "pygments_lexer": "ipython3",
   "version": "3.9.13"
  }
 },
 "nbformat": 4,
 "nbformat_minor": 5
}
