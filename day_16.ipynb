{
 "cells": [
  {
   "cell_type": "code",
   "execution_count": 1,
   "id": "92d0d6f6-2e3d-4383-91ce-3f4ccf8718ef",
   "metadata": {},
   "outputs": [],
   "source": [
    "ex1 = '110100101111111000101000'"
   ]
  },
  {
   "cell_type": "code",
   "execution_count": 9,
   "id": "ebbb24a7-d6a5-4bf0-b7f6-a45d47e10cb7",
   "metadata": {},
   "outputs": [
    {
     "data": {
      "text/plain": [
       "(6, 4, 'literal')"
      ]
     },
     "execution_count": 9,
     "metadata": {},
     "output_type": "execute_result"
    }
   ],
   "source": [
    "version = BinaryToDecimal(ex1[:3])\n",
    "type_id = BinaryToDecimal(ex1[3:6])\n",
    "if type_id == 4:\n",
    "    value = 'literal'\n",
    "version, type_id, value"
   ]
  },
  {
   "cell_type": "code",
   "execution_count": 21,
   "id": "3c82a4f5-56a1-4aa2-8084-7cf5df818676",
   "metadata": {},
   "outputs": [
    {
     "name": "stdout",
     "output_type": "stream",
     "text": [
      "2021\n"
     ]
    }
   ],
   "source": [
    "# literal flow\n",
    "complete = ''\n",
    "for i in range(6,len(ex1), 5):\n",
    "    group = ex1[i + 1: i + 5]\n",
    "    complete += group\n",
    "    if ex1[i] == '0':\n",
    "        # last break\n",
    "        break\n",
    "\n",
    "print(BinaryToDecimal(complete))"
   ]
  },
  {
   "cell_type": "code",
   "execution_count": null,
   "id": "44bd9de5-6939-4919-803c-f71f35793f15",
   "metadata": {},
   "outputs": [],
   "source": []
  },
  {
   "cell_type": "code",
   "execution_count": null,
   "id": "08ceefb9-05fd-42e9-ad8e-befbaf447b3b",
   "metadata": {},
   "outputs": [],
   "source": []
  },
  {
   "cell_type": "code",
   "execution_count": 24,
   "id": "9b7bec68-df13-4258-8441-a9969202e740",
   "metadata": {},
   "outputs": [],
   "source": [
    "ex2 = '00111000000000000110111101000101001010010001001000000000'"
   ]
  },
  {
   "cell_type": "code",
   "execution_count": 27,
   "id": "c57ef19f-18c3-4d55-9f28-994691e9d1e4",
   "metadata": {},
   "outputs": [
    {
     "data": {
      "text/plain": [
       "(1, 6, 'operator')"
      ]
     },
     "execution_count": 27,
     "metadata": {},
     "output_type": "execute_result"
    }
   ],
   "source": [
    "version = BinaryToDecimal(ex2[:3])\n",
    "type_id = BinaryToDecimal(ex2[3:6])\n",
    "if type_id == 4:\n",
    "    flow = 'literal'\n",
    "else:\n",
    "    flow = 'operator'\n",
    "version, type_id, flow"
   ]
  },
  {
   "cell_type": "code",
   "execution_count": 30,
   "id": "881a03f1-effe-4cbf-a46c-a082c51cadc7",
   "metadata": {},
   "outputs": [
    {
     "data": {
      "text/plain": [
       "('0', '000000000011011', 27)"
      ]
     },
     "execution_count": 30,
     "metadata": {},
     "output_type": "execute_result"
    }
   ],
   "source": [
    "# operator flow\n",
    "length_type = ex2[6]\n",
    "total_length_bits = ex2[7: 7 + 15]\n",
    "length_type, total_length_bits, BinaryToDecimal(total_length_bits)"
   ]
  },
  {
   "cell_type": "code",
   "execution_count": 43,
   "id": "c89b84d6-f3d2-4ec3-89c6-d17a7968dd1f",
   "metadata": {},
   "outputs": [
    {
     "data": {
      "text/plain": [
       "('11010001010', '0101001000100100')"
      ]
     },
     "execution_count": 43,
     "metadata": {},
     "output_type": "execute_result"
    }
   ],
   "source": [
    "ex2[22: 22+11], ex2[33: 33+16] # 4"
   ]
  },
  {
   "cell_type": "code",
   "execution_count": 42,
   "id": "1d611a74-903e-4263-b0b8-d255228d68ca",
   "metadata": {},
   "outputs": [
    {
     "data": {
      "text/plain": [
       "1674"
      ]
     },
     "execution_count": 42,
     "metadata": {},
     "output_type": "execute_result"
    }
   ],
   "source": [
    "'110.100.01010' # 1010 = 10"
   ]
  },
  {
   "cell_type": "code",
   "execution_count": null,
   "id": "fc57fb14-29f4-4142-8e29-2114abeb2482",
   "metadata": {},
   "outputs": [],
   "source": [
    "'010100.100010010' # 24 : 0001"
   ]
  },
  {
   "cell_type": "code",
   "execution_count": 39,
   "id": "f52c606f-ba4a-4765-ad87-1a30d276eb8e",
   "metadata": {},
   "outputs": [
    {
     "data": {
      "text/plain": [
       "56"
      ]
     },
     "execution_count": 39,
     "metadata": {},
     "output_type": "execute_result"
    }
   ],
   "source": [
    "len('00111000000000000110111101000101001010010001001000000000')"
   ]
  },
  {
   "cell_type": "code",
   "execution_count": 4,
   "id": "8795e36c-ded1-4ed2-8763-64c404051150",
   "metadata": {},
   "outputs": [],
   "source": [
    "def BinaryToDecimal(binary):\n",
    "    decimal = 0\n",
    "    for digit in binary:\n",
    "        decimal = decimal*2 + int(digit)\n",
    "    return decimal"
   ]
  },
  {
   "cell_type": "code",
   "execution_count": 45,
   "id": "ecfdb49e-d4f1-4d9b-90a7-0007ef7e27cd",
   "metadata": {},
   "outputs": [
    {
     "data": {
      "text/plain": [
       "20"
      ]
     },
     "execution_count": 45,
     "metadata": {},
     "output_type": "execute_result"
    }
   ],
   "source": [
    "BinaryToDecimal('00010100')"
   ]
  },
  {
   "cell_type": "code",
   "execution_count": null,
   "id": "a5195678-936e-456e-bbbd-5e1c8bcda654",
   "metadata": {},
   "outputs": [],
   "source": []
  }
 ],
 "metadata": {
  "kernelspec": {
   "display_name": "Python 3 (ipykernel)",
   "language": "python",
   "name": "python3"
  },
  "language_info": {
   "codemirror_mode": {
    "name": "ipython",
    "version": 3
   },
   "file_extension": ".py",
   "mimetype": "text/x-python",
   "name": "python",
   "nbconvert_exporter": "python",
   "pygments_lexer": "ipython3",
   "version": "3.10.4"
  }
 },
 "nbformat": 4,
 "nbformat_minor": 5
}
