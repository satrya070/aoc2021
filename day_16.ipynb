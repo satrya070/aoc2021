{
 "cells": [
  {
   "cell_type": "code",
   "execution_count": 1,
   "id": "92d0d6f6-2e3d-4383-91ce-3f4ccf8718ef",
   "metadata": {},
   "outputs": [],
   "source": [
    "ex1 = '110100101111111000101000'"
   ]
  },
  {
   "cell_type": "code",
   "execution_count": 4,
   "id": "d68f2f70-8d51-4df7-994a-641defcc0cb8",
   "metadata": {
    "tags": []
   },
   "outputs": [],
   "source": [
    "hexmap = {\n",
    "        '0': '0000',\n",
    "        '1': '0001',\n",
    "        '2': '0010',\n",
    "        '3': '0011',\n",
    "        '4': '0100',\n",
    "        '5': '0101',\n",
    "        '6': '0110',\n",
    "        '7': '0111',\n",
    "        '8': '1000',\n",
    "        '9': '1001',\n",
    "        'A': '1010',\n",
    "        'B': '1011',\n",
    "        'C': '1100',\n",
    "        'D': '1101',\n",
    "        'E': '1110',\n",
    "        'F': '1111'\n",
    "    }"
   ]
  },
  {
   "cell_type": "code",
   "execution_count": 3,
   "id": "3c82a4f5-56a1-4aa2-8084-7cf5df818676",
   "metadata": {},
   "outputs": [],
   "source": [
    "def proc_literal():\n",
    "    \"\"\" process literal groups \"\"\"\n",
    "    complete = ''\n",
    "    for i in range(6,len(ex1), 5):\n",
    "        group = ex1[i + 1: i + 5]\n",
    "        complete += group\n",
    "        if ex1[i] == '0':\n",
    "            # last break\n",
    "            break"
   ]
  },
  {
   "cell_type": "code",
   "execution_count": 131,
   "id": "fdb3e611-6088-430c-90fc-632b6f4f7ded",
   "metadata": {},
   "outputs": [],
   "source": [
    "def group_counter(groups):\n",
    "    total_groups = 1\n",
    "    \n",
    "    if groups[0] == '0':\n",
    "        return total_groups\n",
    "\n",
    "    for k, i in enumerate(groups):\n",
    "        if (k+1) % 5 == 0:\n",
    "            if groups[k+1] == '1':\n",
    "                total_groups += 1\n",
    "            else:\n",
    "                break\n",
    "    \n",
    "    return total_groups"
   ]
  },
  {
   "cell_type": "code",
   "execution_count": 100,
   "id": "8795e36c-ded1-4ed2-8763-64c404051150",
   "metadata": {},
   "outputs": [],
   "source": [
    "def bintodec(binary):\n",
    "    decimal = 0\n",
    "    for digit in binary:\n",
    "        decimal = decimal*2 + int(digit)\n",
    "    return decimal"
   ]
  },
  {
   "cell_type": "code",
   "execution_count": 6,
   "id": "d3b8cdf7-22d8-45c3-b1b9-ab19f338acc8",
   "metadata": {},
   "outputs": [],
   "source": [
    "def hextobin(hexstring):    \n",
    "    binstring = ''\n",
    "    for c in hexstring:\n",
    "        binstring += hexmap[c]\n",
    "    \n",
    "    return binstring"
   ]
  },
  {
   "cell_type": "code",
   "execution_count": 7,
   "id": "b0afee8b-e676-48bc-b3b2-e23b89124968",
   "metadata": {},
   "outputs": [],
   "source": [
    "def get_version_type(binstring):\n",
    "    version = bintodec(binstring[:3])\n",
    "    type_id = bintodec(binstring[3:6])\n",
    "    if type_id == 4:\n",
    "        value = 'literal'\n",
    "    else:\n",
    "        value = 'operator'\n",
    "    \n",
    "    return value"
   ]
  },
  {
   "cell_type": "code",
   "execution_count": 8,
   "id": "ce54380a-1b4f-49c6-b043-542b50d24cf6",
   "metadata": {},
   "outputs": [],
   "source": [
    "def process_literal(binstring):\n",
    "    complete = ''\n",
    "    for i in range(6, len(binstring), 5):  # start, total, stepsize\n",
    "        group = binstring[i + 1: i + 5]\n",
    "        complete += group\n",
    "        \n",
    "        # last group\n",
    "        if binstring[i] == '0':\n",
    "            break\n",
    "    \n",
    "    return complete"
   ]
  },
  {
   "cell_type": "code",
   "execution_count": 9,
   "id": "9b7bec68-df13-4258-8441-a9969202e740",
   "metadata": {},
   "outputs": [],
   "source": [
    "ex2 = '00111000000000000110111101000101001010010001001000000000'"
   ]
  },
  {
   "cell_type": "code",
   "execution_count": 8,
   "id": "c57ef19f-18c3-4d55-9f28-994691e9d1e4",
   "metadata": {
    "collapsed": true,
    "jupyter": {
     "outputs_hidden": true
    },
    "tags": []
   },
   "outputs": [
    {
     "ename": "NameError",
     "evalue": "name 'BinaryToDecimal' is not defined",
     "output_type": "error",
     "traceback": [
      "\u001b[0;31m---------------------------------------------------------------------------\u001b[0m",
      "\u001b[0;31mNameError\u001b[0m                                 Traceback (most recent call last)",
      "Cell \u001b[0;32mIn [8], line 1\u001b[0m\n\u001b[0;32m----> 1\u001b[0m version \u001b[38;5;241m=\u001b[39m \u001b[43mBinaryToDecimal\u001b[49m(ex2[:\u001b[38;5;241m3\u001b[39m])\n\u001b[1;32m      2\u001b[0m type_id \u001b[38;5;241m=\u001b[39m BinaryToDecimal(ex2[\u001b[38;5;241m3\u001b[39m:\u001b[38;5;241m6\u001b[39m])\n\u001b[1;32m      3\u001b[0m \u001b[38;5;28;01mif\u001b[39;00m type_id \u001b[38;5;241m==\u001b[39m \u001b[38;5;241m4\u001b[39m:\n",
      "\u001b[0;31mNameError\u001b[0m: name 'BinaryToDecimal' is not defined"
     ]
    }
   ],
   "source": [
    "version = BinaryToDecimal(ex2[:3])\n",
    "type_id = BinaryToDecimal(ex2[3:6])\n",
    "if type_id == 4:\n",
    "    flow = 'literal'\n",
    "else:\n",
    "    flow = 'operator'\n",
    "version, type_id, flow"
   ]
  },
  {
   "cell_type": "code",
   "execution_count": 9,
   "id": "881a03f1-effe-4cbf-a46c-a082c51cadc7",
   "metadata": {
    "collapsed": true,
    "jupyter": {
     "outputs_hidden": true
    },
    "tags": []
   },
   "outputs": [
    {
     "ename": "NameError",
     "evalue": "name 'BinaryToDecimal' is not defined",
     "output_type": "error",
     "traceback": [
      "\u001b[0;31m---------------------------------------------------------------------------\u001b[0m",
      "\u001b[0;31mNameError\u001b[0m                                 Traceback (most recent call last)",
      "Cell \u001b[0;32mIn [9], line 4\u001b[0m\n\u001b[1;32m      2\u001b[0m length_type \u001b[38;5;241m=\u001b[39m ex2[\u001b[38;5;241m6\u001b[39m]\n\u001b[1;32m      3\u001b[0m total_length_bits \u001b[38;5;241m=\u001b[39m ex2[\u001b[38;5;241m7\u001b[39m: \u001b[38;5;241m7\u001b[39m \u001b[38;5;241m+\u001b[39m \u001b[38;5;241m15\u001b[39m]\n\u001b[0;32m----> 4\u001b[0m length_type, total_length_bits, \u001b[43mBinaryToDecimal\u001b[49m(total_length_bits)\n",
      "\u001b[0;31mNameError\u001b[0m: name 'BinaryToDecimal' is not defined"
     ]
    }
   ],
   "source": [
    "# operator flow\n",
    "length_type = ex2[6]\n",
    "total_length_bits = ex2[7: 7 + 15]\n",
    "length_type, total_length_bits, BinaryToDecimal(total_length_bits)"
   ]
  },
  {
   "cell_type": "code",
   "execution_count": null,
   "id": "67e2f074-0fcd-4c23-bd83-48fae0a93e6f",
   "metadata": {},
   "outputs": [],
   "source": [
    "# '010.100.10001.00100' = '00010100' = 20"
   ]
  },
  {
   "cell_type": "code",
   "execution_count": null,
   "id": "a5195678-936e-456e-bbbd-5e1c8bcda654",
   "metadata": {},
   "outputs": [],
   "source": []
  },
  {
   "cell_type": "markdown",
   "id": "2e7e1863-3142-4d94-975c-2cd22d350161",
   "metadata": {},
   "source": [
    "## hex to dec"
   ]
  },
  {
   "cell_type": "code",
   "execution_count": 69,
   "id": "f9df7b00-4a56-40dc-a4cc-73c2e1bedb9f",
   "metadata": {},
   "outputs": [
    {
     "data": {
      "text/plain": [
       "'110100101111111000101000'"
      ]
     },
     "execution_count": 69,
     "metadata": {},
     "output_type": "execute_result"
    }
   ],
   "source": [
    "hextobin('D2FE28')"
   ]
  },
  {
   "cell_type": "code",
   "execution_count": 9,
   "id": "8d1b7a5f-e329-4531-9234-9e846f098b65",
   "metadata": {},
   "outputs": [
    {
     "data": {
      "text/plain": [
       "'100010100000000001001010100000000001101010000000000000101111010001111000'"
      ]
     },
     "execution_count": 9,
     "metadata": {},
     "output_type": "execute_result"
    }
   ],
   "source": [
    "binstring"
   ]
  },
  {
   "cell_type": "code",
   "execution_count": 33,
   "id": "67411c7a-b28a-4123-933d-10f5178261c6",
   "metadata": {},
   "outputs": [
    {
     "data": {
      "text/plain": [
       "'operator'"
      ]
     },
     "execution_count": 33,
     "metadata": {},
     "output_type": "execute_result"
    }
   ],
   "source": [
    "type_id = get_version_type(binstring)\n",
    "type_id"
   ]
  },
  {
   "cell_type": "code",
   "execution_count": 31,
   "id": "69ac90a4-e562-4282-9493-fa8502e1b86e",
   "metadata": {},
   "outputs": [],
   "source": [
    "final = process_literal(binstring)"
   ]
  },
  {
   "cell_type": "code",
   "execution_count": 32,
   "id": "a5cebb56-a0a7-4a4d-be8a-cc99ba4089c3",
   "metadata": {},
   "outputs": [
    {
     "data": {
      "text/plain": [
       "'00000000'"
      ]
     },
     "execution_count": 32,
     "metadata": {},
     "output_type": "execute_result"
    }
   ],
   "source": [
    "final"
   ]
  },
  {
   "cell_type": "code",
   "execution_count": null,
   "id": "e79c2e29-b597-46c9-8f59-79cc5fa714d0",
   "metadata": {},
   "outputs": [],
   "source": [
    "# pointer = 0\n",
    "# loop\n",
    "# version\n",
    "# type_id\n",
    "\n",
    "# if literal\n",
    "    # literal_flow\n",
    "# else:\n",
    "    # operator_flow\n",
    "        # length_type\n",
    "        # if length_type = 0\n",
    "            # next 15 bits is length of subpackets\n",
    "        # else(1)\n",
    "            # next 11 btis is length of subpackets"
   ]
  },
  {
   "cell_type": "code",
   "execution_count": 37,
   "id": "e63dbdfa-d603-4b6b-9d7b-bcf43a98574b",
   "metadata": {},
   "outputs": [
    {
     "data": {
      "text/plain": [
       "27"
      ]
     },
     "execution_count": 37,
     "metadata": {},
     "output_type": "execute_result"
    }
   ],
   "source": [
    "binary_to_decimal('11011')"
   ]
  },
  {
   "cell_type": "code",
   "execution_count": 86,
   "id": "be752467-e609-4073-9b96-7a4ff67cb05e",
   "metadata": {},
   "outputs": [
    {
     "name": "stdout",
     "output_type": "stream",
     "text": [
      "00000000001001010100000000001101010000000000000101111010001111000\n"
     ]
    }
   ],
   "source": [
    "proc_str = binstring\n",
    "for i in range(1):\n",
    "    \n",
    "    type_id = get_version_type(proc_str)\n",
    "    proc_str = proc_str[6:]\n",
    "    \n",
    "    # TODO literal flow\n",
    "    \n",
    "    # operator flow\n",
    "    if type_id == 'operator':\n",
    "        length_type = proc_str[0]\n",
    "        proc_str = proc_str[1:]\n",
    "        \n",
    "        print(proc_str)\n",
    "\n",
    "        if length_type == '0':\n",
    "            sub_packages = binary_to_decimal(proc_str[:15])\n",
    "            proc_str = proc_str[15:]\n",
    "        else:\n",
    "            sub_packages = binary_to_decimal(proc_str[:11])\n",
    "            proc_str = proc_str[11:]"
   ]
  },
  {
   "cell_type": "code",
   "execution_count": 87,
   "id": "a914b3b9-3e63-4e06-8a09-4c15bf95677c",
   "metadata": {},
   "outputs": [
    {
     "data": {
      "text/plain": [
       "'001010100000000001101010000000000000101111010001111000'"
      ]
     },
     "execution_count": 87,
     "metadata": {},
     "output_type": "execute_result"
    }
   ],
   "source": [
    "proc_str"
   ]
  },
  {
   "cell_type": "code",
   "execution_count": 88,
   "id": "c4d34dad-6834-498f-83e8-cbbf6a6221f7",
   "metadata": {},
   "outputs": [
    {
     "data": {
      "text/plain": [
       "1"
      ]
     },
     "execution_count": 88,
     "metadata": {},
     "output_type": "execute_result"
    }
   ],
   "source": [
    "sub_packages"
   ]
  },
  {
   "cell_type": "code",
   "execution_count": 64,
   "id": "ff024ff6-df93-48fa-82b3-681fd4ef3959",
   "metadata": {},
   "outputs": [
    {
     "data": {
      "text/plain": [
       "1024"
      ]
     },
     "execution_count": 64,
     "metadata": {},
     "output_type": "execute_result"
    }
   ],
   "source": [
    "binary_to_decimal(process_str)"
   ]
  },
  {
   "cell_type": "code",
   "execution_count": 85,
   "id": "75f60912-ee56-4031-8879-5121f1bf6bd9",
   "metadata": {},
   "outputs": [
    {
     "data": {
      "text/plain": [
       "15"
      ]
     },
     "execution_count": 85,
     "metadata": {},
     "output_type": "execute_result"
    }
   ],
   "source": [
    "binary_to_decimal('1111')"
   ]
  },
  {
   "cell_type": "code",
   "execution_count": null,
   "id": "748f2824-df75-44d7-a869-d8bccba03b4b",
   "metadata": {},
   "outputs": [],
   "source": []
  },
  {
   "cell_type": "code",
   "execution_count": null,
   "id": "097dd0e6-f355-4ded-a163-db2d1b23c53b",
   "metadata": {},
   "outputs": [],
   "source": []
  },
  {
   "cell_type": "code",
   "execution_count": null,
   "id": "24c9d81b-1f86-4c68-aa5d-50672167e140",
   "metadata": {},
   "outputs": [],
   "source": []
  },
  {
   "cell_type": "markdown",
   "id": "54ed4ef3-4e70-4d6b-abc0-934ffda47548",
   "metadata": {},
   "source": [
    "## part 1: version counter"
   ]
  },
  {
   "cell_type": "code",
   "execution_count": 38,
   "id": "760b3a24-8425-4a2c-a7b0-87a2e225499f",
   "metadata": {},
   "outputs": [],
   "source": [
    "def proc_operator(proc_str):\n",
    "    length_type = proc_str[0]\n",
    "    proc_str = proc_str[1:]\n",
    "\n",
    "    #print(proc_str)\n",
    "\n",
    "    if length_type == '0':\n",
    "        num_subpacks = binary_to_decimal(proc_str[:15]) #\n",
    "        proc_str = proc_str[15:]\n",
    "    else:\n",
    "        num_subpacks = binary_to_decimal(proc_str[:11]) #\n",
    "        proc_str = proc_str[11:]\n",
    "    \n",
    "    return num_subpacks, proc_str"
   ]
  },
  {
   "cell_type": "code",
   "execution_count": null,
   "id": "f3c63ab7-1543-4447-ac98-512699367208",
   "metadata": {},
   "outputs": [],
   "source": []
  },
  {
   "cell_type": "code",
   "execution_count": null,
   "id": "6b4d7b89-8055-46fa-a73b-05f723156ca4",
   "metadata": {},
   "outputs": [],
   "source": []
  },
  {
   "cell_type": "code",
   "execution_count": 88,
   "id": "b8244ba3-2fe1-4c79-8a67-945fcb6727c1",
   "metadata": {},
   "outputs": [],
   "source": [
    "ex1 = hextobin('8A004A801A8002F478')\n",
    "ex2 = hextobin('620080001611562C8802118E34')"
   ]
  },
  {
   "cell_type": "code",
   "execution_count": 90,
   "id": "c7ea5c8c-1994-4781-a0c6-875892d7514e",
   "metadata": {
    "jupyter": {
     "source_hidden": true
    },
    "tags": []
   },
   "outputs": [],
   "source": [
    "def recur(proc_str, subpacks=None):\n",
    "    packet_version = bintodec(proc_str[:3])\n",
    "    type_version = bintodec(proc_str[3:6])\n",
    "    \n",
    "    if type_version != 4:\n",
    "        # operator\n",
    "        length_type = proc_str[6]\n",
    "\n",
    "        if length_type == '0':\n",
    "            # 15 bits version flow\n",
    "            subbits = bintodec(proc_str[7:22])\n",
    "            print(packet_version, type_version, length_type, subbits)\n",
    "            return recur(proc_str[22:22+subbits])\n",
    "        else:\n",
    "            # 11-bit subpack flow\n",
    "            subpacks = bintodec(proc_str[7:18])\n",
    "            print(packet_version, type_version, length_type, subpacks)\n",
    "            for i in range(subpacks):\n",
    "                proc_str = recur(proc_str[18:])\n",
    "            \n",
    "            return recur(proc_str[18:], subpacks)\n",
    "    else:\n",
    "        # literal (end_node)\n",
    "        print(packet_version, type_version, 'end')\n",
    "        # count groups * 5\n",
    "        len_groups = group_counter(proc_str[5:])\n",
    "        # subpacks -= 1\n",
    "        literal_length = 6 + len_groups * 5\n",
    "        return recur(proc_str[literal_length:], subpacks)"
   ]
  },
  {
   "cell_type": "code",
   "execution_count": null,
   "id": "cf1deb32-d8ee-4965-810d-358ddfb29e62",
   "metadata": {},
   "outputs": [],
   "source": [
    "def recur(proc_str, subpacks=None):\n",
    "    packet_version = bintodec(proc_str[:3])\n",
    "    type_version = bintodec(proc_str[3:6])\n",
    "    \n",
    "    if type_version != 4:\n",
    "        # operator\n",
    "        length_type = proc_str[6]\n",
    "\n",
    "        if length_type == '0':\n",
    "            # 15 bits version flow\n",
    "            subbits = bintodec(proc_str[7:22])\n",
    "            print(packet_version, type_version, length_type, subbits)\n",
    "            return recur(proc_str[22:22+subbits])\n",
    "        else:\n",
    "            # 11-bit subpack flow\n",
    "            subpacks = bintodec(proc_str[7:18])\n",
    "            print(packet_version, type_version, length_type, subpacks)\n",
    "            for i in range(subpacks):\n",
    "                proc_str = recur(proc_str[18:])\n",
    "            \n",
    "            return recur(proc_str[18:], subpacks)\n",
    "    else:\n",
    "        # literal (end_node)\n",
    "        print(packet_version, type_version, 'end')\n",
    "        # count groups * 5\n",
    "        len_groups = group_counter(proc_str[5:])\n",
    "        # subpacks -= 1\n",
    "        literal_length = 6 + len_groups * 5\n",
    "        return recur(proc_str[literal_length:], subpacks)"
   ]
  },
  {
   "cell_type": "code",
   "execution_count": null,
   "id": "6448e899-1542-4685-bffc-50086658d494",
   "metadata": {},
   "outputs": [],
   "source": [
    "# how does literal check length bits from type 2?"
   ]
  },
  {
   "cell_type": "code",
   "execution_count": 91,
   "id": "8e298e26-926f-4b54-9d3a-0ac4d1e90dc9",
   "metadata": {},
   "outputs": [
    {
     "name": "stdout",
     "output_type": "stream",
     "text": [
      "3 0 1 2\n",
      "0 0 0 22\n",
      "0 4 end\n"
     ]
    }
   ],
   "source": [
    "recur(ex2)"
   ]
  },
  {
   "cell_type": "code",
   "execution_count": 96,
   "id": "2f98f6e5-1d59-414e-b7ff-6f5b0217fac0",
   "metadata": {},
   "outputs": [
    {
     "data": {
      "text/plain": [
       "22"
      ]
     },
     "execution_count": 96,
     "metadata": {},
     "output_type": "execute_result"
    }
   ],
   "source": [
    "bintodec('0000010110')"
   ]
  },
  {
   "cell_type": "code",
   "execution_count": 87,
   "id": "96dc8607-a461-4c13-a575-0e268aceddf3",
   "metadata": {},
   "outputs": [
    {
     "name": "stdout",
     "output_type": "stream",
     "text": [
      "4 2 1 00000000001\n",
      "1 2 1 00000000001\n",
      "5 2 0 11\n",
      "6 4 end\n"
     ]
    }
   ],
   "source": [
    "recur(ex1)"
   ]
  },
  {
   "cell_type": "code",
   "execution_count": 66,
   "id": "4eec2d7c-6268-445b-a575-31a3b48dc45b",
   "metadata": {},
   "outputs": [
    {
     "data": {
      "text/plain": [
       "'100010100000000001001010100000000001101010000000000000101111010001111000'"
      ]
     },
     "execution_count": 66,
     "metadata": {},
     "output_type": "execute_result"
    }
   ],
   "source": [
    "ex1"
   ]
  },
  {
   "cell_type": "code",
   "execution_count": null,
   "id": "9bb2c856-930f-41ca-8557-a5aaa3abe0cf",
   "metadata": {},
   "outputs": [],
   "source": [
    "# ex 1\n",
    "# 100.010.1.00000000001            # 4-2-1-1\n",
    "    # 001.010.1.00000000001.           # 1-2-1-1\n",
    "        # 101.010.0.000000000001011.       # 5-2-0-11b\n",
    "            # 110.100.0.11110              # 6-4-l\n",
    "# 00                "
   ]
  },
  {
   "cell_type": "code",
   "execution_count": null,
   "id": "32596756-affa-495c-8bdc-4c8d19320b49",
   "metadata": {},
   "outputs": [],
   "source": [
    "# ex2\n",
    "\n",
    "# 011.000.1.00000000010.               # 3-0-1-2\n",
    "   # 000.000.0.000000000010110.        # 0-0-0-22bits\n",
    "       # 000.100.01010.                # 0-4-..\n",
    "       # 101.100.01011.                # 5-4-...\n",
    "   # 001.000.1.00000000010.            # 1-0-1-2\n",
    "       # 000.100.01100.                # 0-4-...\n",
    "       # 011.100.01101. 00             # 3-4-..."
   ]
  },
  {
   "cell_type": "code",
   "execution_count": null,
   "id": "00bb2058-8f65-4c84-b494-f7ebea019842",
   "metadata": {},
   "outputs": [],
   "source": [
    "# ex3\n",
    "# 110.000.0.000000001010100.         6-0-0-84b\n",
    "    # 000.000.0.000000000010110.     0-0-0-22b\n",
    "        # 000.100.01010.             -\n",
    "        # 110.100.01011.             -\n",
    "    # 100.000.1.00000000010.         4-0-1-2\n",
    "        # 111.100.01100.             -\n",
    "        # 000.100.01101.             -\n",
    "# 000000"
   ]
  },
  {
   "cell_type": "code",
   "execution_count": null,
   "id": "26b4c7d1-653e-405e-9f81-14c4334727cb",
   "metadata": {},
   "outputs": [],
   "source": [
    "# ex4\n",
    "# 101.000.0.000000001011011.   5-0-0-91\n",
    "    # 001.000.1.00000000001.   1-0-1-1\n",
    "        # 011.000.1.00000000101.   3-0-1-5\n",
    "            # 111.100.00110\n",
    "            # 110.100.00110.\n",
    "            # 101.100.01100.\n",
    "            # 010.100.01111.\n",
    "            # 010.100.01111\n",
    "# 0000000"
   ]
  },
  {
   "cell_type": "code",
   "execution_count": null,
   "id": "09e2cd33-65a0-4bba-9262-d40e2f5c8632",
   "metadata": {},
   "outputs": [],
   "source": []
  },
  {
   "cell_type": "code",
   "execution_count": null,
   "id": "86d3b25f-9137-47d4-b194-1c5f171ef6a5",
   "metadata": {},
   "outputs": [],
   "source": []
  },
  {
   "cell_type": "code",
   "execution_count": null,
   "id": "da6114be-c099-427e-a53d-503c10df8cc5",
   "metadata": {},
   "outputs": [],
   "source": []
  },
  {
   "cell_type": "markdown",
   "id": "e547db88-9712-4eea-85df-3d7a14e519ce",
   "metadata": {},
   "source": [
    "## try queue way"
   ]
  },
  {
   "cell_type": "code",
   "execution_count": 98,
   "id": "c4e46737-9db6-48f4-a8e7-2cad2f6f89f3",
   "metadata": {},
   "outputs": [],
   "source": [
    "ex2 = hextobin('620080001611562C8802118E34')"
   ]
  },
  {
   "cell_type": "code",
   "execution_count": null,
   "id": "441943a5-77ae-4d0a-a55a-ed0819fcf47a",
   "metadata": {},
   "outputs": [],
   "source": []
  },
  {
   "cell_type": "code",
   "execution_count": 101,
   "id": "1c5df14a-67f0-4067-a06f-9842b5e3c5db",
   "metadata": {},
   "outputs": [],
   "source": [
    "proc_str = ex2\n",
    "stack = []\n",
    "\n",
    "# while running:\n",
    "# if stack[-1][\"processed\"] == stack[-1][\"count\"]:\n",
    "\n",
    "packet_version = bintodec(proc_str[:3])\n",
    "type_version = bintodec(proc_str[3:6])\n",
    "\n",
    "# if literal\n",
    "if type_version == 4:\n",
    "    len_groups = group_counter(proc_str[6:])\n",
    "    package_bits = 6 + (len_groups * 5)\n",
    "\n",
    "    # update current node process\n",
    "    if stack[-1][\"type\"] == \"bits\":\n",
    "        stack[-1][\"processed\"] += package_bits\n",
    "    else:\n",
    "        stack[-1][\"processed\"] += 1  # subpacks\n",
    "\n",
    "    # update bits count\n",
    "    stack[-1][\"total_bits\"] += package_bits\n",
    "\n",
    "    # current node processing is done\n",
    "    if stack[-1][\"processed\"] == stack[-1][\"count\"]:\n",
    "        done = stack.pop()\n",
    "\n",
    "        # update parent when child is finished\n",
    "        if stack[-1][\"type\"] == \"bits\":\n",
    "            stack[-1][\"processed\"] += done[\"total_bits\"]\n",
    "        else:\n",
    "            stack[-1][\"processed\"] += 1  # subpacks\n",
    "\n",
    "# operator processing section\n",
    "length_type = proc_str[6]\n",
    "\n",
    "if length_type == '0':\n",
    "    # operator_type 0 flow\n",
    "    bits = bintodec(proc_str[7:22])\n",
    "    stack.append({\n",
    "        \"type\": \"bits\",\n",
    "        \"count\": bits,\n",
    "        \"processed\": 0,\n",
    "        \"total_bits\": 0\n",
    "    })\n",
    "else:\n",
    "    # operator_type 1 flow\n",
    "    subpacks = bintodec(proc_str[7:18])\n",
    "    stack.append({\n",
    "        \"type\": \"subpacks\",\n",
    "        \"count\": subpacks,\n",
    "        \"processed\": 0,\n",
    "        \"total_bits\": 0\n",
    "    })\n",
    "    \n",
    "if len(stacks) == 0:\n",
    "    running = False"
   ]
  },
  {
   "cell_type": "code",
   "execution_count": 102,
   "id": "57f3e3c7-79be-4db4-b9be-44146fcb5a22",
   "metadata": {},
   "outputs": [
    {
     "data": {
      "text/plain": [
       "[{'type': 'subpacks', 'count': 2}]"
      ]
     },
     "execution_count": 102,
     "metadata": {},
     "output_type": "execute_result"
    }
   ],
   "source": [
    "stack"
   ]
  },
  {
   "cell_type": "code",
   "execution_count": 106,
   "id": "28c8f71d-de3f-4fec-acee-4652e3bddb64",
   "metadata": {},
   "outputs": [
    {
     "data": {
      "text/plain": [
       "1"
      ]
     },
     "execution_count": 106,
     "metadata": {},
     "output_type": "execute_result"
    }
   ],
   "source": [
    "x = [1,2]\n",
    "b = x.pop()\n",
    "x[-1]"
   ]
  },
  {
   "cell_type": "code",
   "execution_count": 109,
   "id": "9bea9378-c269-4ec3-8538-f61548182212",
   "metadata": {},
   "outputs": [
    {
     "data": {
      "text/plain": [
       "1"
      ]
     },
     "execution_count": 109,
     "metadata": {},
     "output_type": "execute_result"
    }
   ],
   "source": [
    "x.pop()"
   ]
  },
  {
   "cell_type": "code",
   "execution_count": 111,
   "id": "e363764a-2ebd-4048-8764-eab744c6025a",
   "metadata": {},
   "outputs": [
    {
     "data": {
      "text/plain": [
       "False"
      ]
     },
     "execution_count": 111,
     "metadata": {},
     "output_type": "execute_result"
    }
   ],
   "source": [
    "x == "
   ]
  },
  {
   "cell_type": "code",
   "execution_count": null,
   "id": "a92d7a0a-6e75-42e2-95a9-c331c5e0e2a5",
   "metadata": {},
   "outputs": [],
   "source": []
  }
 ],
 "metadata": {
  "kernelspec": {
   "display_name": "Python 3 (ipykernel)",
   "language": "python",
   "name": "python3"
  },
  "language_info": {
   "codemirror_mode": {
    "name": "ipython",
    "version": 3
   },
   "file_extension": ".py",
   "mimetype": "text/x-python",
   "name": "python",
   "nbconvert_exporter": "python",
   "pygments_lexer": "ipython3",
   "version": "3.9.13"
  }
 },
 "nbformat": 4,
 "nbformat_minor": 5
}
