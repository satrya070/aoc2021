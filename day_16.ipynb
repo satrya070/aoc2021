{
 "cells": [
  {
   "cell_type": "code",
   "execution_count": 1,
   "id": "92d0d6f6-2e3d-4383-91ce-3f4ccf8718ef",
   "metadata": {},
   "outputs": [],
   "source": [
    "ex1 = '110100101111111000101000'"
   ]
  },
  {
   "cell_type": "code",
   "execution_count": 4,
   "id": "d68f2f70-8d51-4df7-994a-641defcc0cb8",
   "metadata": {
    "tags": []
   },
   "outputs": [],
   "source": [
    "hexmap = {\n",
    "        '0': '0000',\n",
    "        '1': '0001',\n",
    "        '2': '0010',\n",
    "        '3': '0011',\n",
    "        '4': '0100',\n",
    "        '5': '0101',\n",
    "        '6': '0110',\n",
    "        '7': '0111',\n",
    "        '8': '1000',\n",
    "        '9': '1001',\n",
    "        'A': '1010',\n",
    "        'B': '1011',\n",
    "        'C': '1100',\n",
    "        'D': '1101',\n",
    "        'E': '1110',\n",
    "        'F': '1111'\n",
    "    }"
   ]
  },
  {
   "cell_type": "code",
   "execution_count": 3,
   "id": "3c82a4f5-56a1-4aa2-8084-7cf5df818676",
   "metadata": {},
   "outputs": [],
   "source": [
    "def proc_literal():\n",
    "    \"\"\" process literal groups \"\"\"\n",
    "    complete = ''\n",
    "    for i in range(6,len(ex1), 5):\n",
    "        group = ex1[i + 1: i + 5]\n",
    "        complete += group\n",
    "        if ex1[i] == '0':\n",
    "            # last break\n",
    "            break"
   ]
  },
  {
   "cell_type": "code",
   "execution_count": 124,
   "id": "fdb3e611-6088-430c-90fc-632b6f4f7ded",
   "metadata": {},
   "outputs": [],
   "source": [
    "def group_counter(groups):\n",
    "    total_groups = 1\n",
    "    \n",
    "    if groups[0] == '0':\n",
    "        return total_groups\n",
    "\n",
    "    for k, i in enumerate(groups):\n",
    "        if (k+1) % 5 == 0:\n",
    "            if groups[k+1] == '1':\n",
    "                total_groups += 1\n",
    "            else:\n",
    "                total_groups += 1\n",
    "                break\n",
    "    \n",
    "    return total_groups"
   ]
  },
  {
   "cell_type": "code",
   "execution_count": 125,
   "id": "89dd3acf-f1be-49fb-811d-220bb1cdc739",
   "metadata": {},
   "outputs": [
    {
     "data": {
      "text/plain": [
       "4"
      ]
     },
     "execution_count": 125,
     "metadata": {},
     "output_type": "execute_result"
    }
   ],
   "source": [
    "group_counter('10110100101110000110101101100000000')"
   ]
  },
  {
   "cell_type": "code",
   "execution_count": 100,
   "id": "8795e36c-ded1-4ed2-8763-64c404051150",
   "metadata": {},
   "outputs": [],
   "source": [
    "def bintodec(binary):\n",
    "    decimal = 0\n",
    "    for digit in binary:\n",
    "        decimal = decimal*2 + int(digit)\n",
    "    return decimal"
   ]
  },
  {
   "cell_type": "code",
   "execution_count": 6,
   "id": "d3b8cdf7-22d8-45c3-b1b9-ab19f338acc8",
   "metadata": {},
   "outputs": [],
   "source": [
    "def hextobin(hexstring):    \n",
    "    binstring = ''\n",
    "    for c in hexstring:\n",
    "        binstring += hexmap[c]\n",
    "    \n",
    "    return binstring"
   ]
  },
  {
   "cell_type": "code",
   "execution_count": 7,
   "id": "b0afee8b-e676-48bc-b3b2-e23b89124968",
   "metadata": {},
   "outputs": [],
   "source": [
    "def get_version_type(binstring):\n",
    "    version = bintodec(binstring[:3])\n",
    "    type_id = bintodec(binstring[3:6])\n",
    "    if type_id == 4:\n",
    "        value = 'literal'\n",
    "    else:\n",
    "        value = 'operator'\n",
    "    \n",
    "    return value"
   ]
  },
  {
   "cell_type": "code",
   "execution_count": 8,
   "id": "ce54380a-1b4f-49c6-b043-542b50d24cf6",
   "metadata": {},
   "outputs": [],
   "source": [
    "def process_literal(binstring):\n",
    "    complete = ''\n",
    "    for i in range(6, len(binstring), 5):  # start, total, stepsize\n",
    "        group = binstring[i + 1: i + 5]\n",
    "        complete += group\n",
    "        \n",
    "        # last group\n",
    "        if binstring[i] == '0':\n",
    "            break\n",
    "    \n",
    "    return complete"
   ]
  },
  {
   "cell_type": "code",
   "execution_count": 9,
   "id": "9b7bec68-df13-4258-8441-a9969202e740",
   "metadata": {},
   "outputs": [],
   "source": [
    "ex2 = '00111000000000000110111101000101001010010001001000000000'"
   ]
  },
  {
   "cell_type": "code",
   "execution_count": 8,
   "id": "c57ef19f-18c3-4d55-9f28-994691e9d1e4",
   "metadata": {
    "collapsed": true,
    "jupyter": {
     "outputs_hidden": true
    },
    "tags": []
   },
   "outputs": [
    {
     "ename": "NameError",
     "evalue": "name 'BinaryToDecimal' is not defined",
     "output_type": "error",
     "traceback": [
      "\u001b[0;31m---------------------------------------------------------------------------\u001b[0m",
      "\u001b[0;31mNameError\u001b[0m                                 Traceback (most recent call last)",
      "Cell \u001b[0;32mIn [8], line 1\u001b[0m\n\u001b[0;32m----> 1\u001b[0m version \u001b[38;5;241m=\u001b[39m \u001b[43mBinaryToDecimal\u001b[49m(ex2[:\u001b[38;5;241m3\u001b[39m])\n\u001b[1;32m      2\u001b[0m type_id \u001b[38;5;241m=\u001b[39m BinaryToDecimal(ex2[\u001b[38;5;241m3\u001b[39m:\u001b[38;5;241m6\u001b[39m])\n\u001b[1;32m      3\u001b[0m \u001b[38;5;28;01mif\u001b[39;00m type_id \u001b[38;5;241m==\u001b[39m \u001b[38;5;241m4\u001b[39m:\n",
      "\u001b[0;31mNameError\u001b[0m: name 'BinaryToDecimal' is not defined"
     ]
    }
   ],
   "source": [
    "version = BinaryToDecimal(ex2[:3])\n",
    "type_id = BinaryToDecimal(ex2[3:6])\n",
    "if type_id == 4:\n",
    "    flow = 'literal'\n",
    "else:\n",
    "    flow = 'operator'\n",
    "version, type_id, flow"
   ]
  },
  {
   "cell_type": "code",
   "execution_count": 9,
   "id": "881a03f1-effe-4cbf-a46c-a082c51cadc7",
   "metadata": {
    "collapsed": true,
    "jupyter": {
     "outputs_hidden": true
    },
    "tags": []
   },
   "outputs": [
    {
     "ename": "NameError",
     "evalue": "name 'BinaryToDecimal' is not defined",
     "output_type": "error",
     "traceback": [
      "\u001b[0;31m---------------------------------------------------------------------------\u001b[0m",
      "\u001b[0;31mNameError\u001b[0m                                 Traceback (most recent call last)",
      "Cell \u001b[0;32mIn [9], line 4\u001b[0m\n\u001b[1;32m      2\u001b[0m length_type \u001b[38;5;241m=\u001b[39m ex2[\u001b[38;5;241m6\u001b[39m]\n\u001b[1;32m      3\u001b[0m total_length_bits \u001b[38;5;241m=\u001b[39m ex2[\u001b[38;5;241m7\u001b[39m: \u001b[38;5;241m7\u001b[39m \u001b[38;5;241m+\u001b[39m \u001b[38;5;241m15\u001b[39m]\n\u001b[0;32m----> 4\u001b[0m length_type, total_length_bits, \u001b[43mBinaryToDecimal\u001b[49m(total_length_bits)\n",
      "\u001b[0;31mNameError\u001b[0m: name 'BinaryToDecimal' is not defined"
     ]
    }
   ],
   "source": [
    "# operator flow\n",
    "length_type = ex2[6]\n",
    "total_length_bits = ex2[7: 7 + 15]\n",
    "length_type, total_length_bits, BinaryToDecimal(total_length_bits)"
   ]
  },
  {
   "cell_type": "code",
   "execution_count": null,
   "id": "67e2f074-0fcd-4c23-bd83-48fae0a93e6f",
   "metadata": {},
   "outputs": [],
   "source": [
    "# '010.100.10001.00100' = '00010100' = 20"
   ]
  },
  {
   "cell_type": "code",
   "execution_count": null,
   "id": "a5195678-936e-456e-bbbd-5e1c8bcda654",
   "metadata": {},
   "outputs": [],
   "source": []
  },
  {
   "cell_type": "markdown",
   "id": "2e7e1863-3142-4d94-975c-2cd22d350161",
   "metadata": {},
   "source": [
    "## hex to dec"
   ]
  },
  {
   "cell_type": "code",
   "execution_count": 69,
   "id": "f9df7b00-4a56-40dc-a4cc-73c2e1bedb9f",
   "metadata": {},
   "outputs": [
    {
     "data": {
      "text/plain": [
       "'110100101111111000101000'"
      ]
     },
     "execution_count": 69,
     "metadata": {},
     "output_type": "execute_result"
    }
   ],
   "source": [
    "hextobin('D2FE28')"
   ]
  },
  {
   "cell_type": "code",
   "execution_count": 9,
   "id": "8d1b7a5f-e329-4531-9234-9e846f098b65",
   "metadata": {},
   "outputs": [
    {
     "data": {
      "text/plain": [
       "'100010100000000001001010100000000001101010000000000000101111010001111000'"
      ]
     },
     "execution_count": 9,
     "metadata": {},
     "output_type": "execute_result"
    }
   ],
   "source": [
    "binstring"
   ]
  },
  {
   "cell_type": "code",
   "execution_count": 33,
   "id": "67411c7a-b28a-4123-933d-10f5178261c6",
   "metadata": {},
   "outputs": [
    {
     "data": {
      "text/plain": [
       "'operator'"
      ]
     },
     "execution_count": 33,
     "metadata": {},
     "output_type": "execute_result"
    }
   ],
   "source": [
    "type_id = get_version_type(binstring)\n",
    "type_id"
   ]
  },
  {
   "cell_type": "code",
   "execution_count": 31,
   "id": "69ac90a4-e562-4282-9493-fa8502e1b86e",
   "metadata": {},
   "outputs": [],
   "source": [
    "final = process_literal(binstring)"
   ]
  },
  {
   "cell_type": "code",
   "execution_count": 32,
   "id": "a5cebb56-a0a7-4a4d-be8a-cc99ba4089c3",
   "metadata": {},
   "outputs": [
    {
     "data": {
      "text/plain": [
       "'00000000'"
      ]
     },
     "execution_count": 32,
     "metadata": {},
     "output_type": "execute_result"
    }
   ],
   "source": [
    "final"
   ]
  },
  {
   "cell_type": "code",
   "execution_count": null,
   "id": "e79c2e29-b597-46c9-8f59-79cc5fa714d0",
   "metadata": {},
   "outputs": [],
   "source": [
    "# pointer = 0\n",
    "# loop\n",
    "# version\n",
    "# type_id\n",
    "\n",
    "# if literal\n",
    "    # literal_flow\n",
    "# else:\n",
    "    # operator_flow\n",
    "        # length_type\n",
    "        # if length_type = 0\n",
    "            # next 15 bits is length of subpackets\n",
    "        # else(1)\n",
    "            # next 11 btis is length of subpackets"
   ]
  },
  {
   "cell_type": "code",
   "execution_count": 37,
   "id": "e63dbdfa-d603-4b6b-9d7b-bcf43a98574b",
   "metadata": {},
   "outputs": [
    {
     "data": {
      "text/plain": [
       "27"
      ]
     },
     "execution_count": 37,
     "metadata": {},
     "output_type": "execute_result"
    }
   ],
   "source": [
    "binary_to_decimal('11011')"
   ]
  },
  {
   "cell_type": "code",
   "execution_count": 86,
   "id": "be752467-e609-4073-9b96-7a4ff67cb05e",
   "metadata": {},
   "outputs": [
    {
     "name": "stdout",
     "output_type": "stream",
     "text": [
      "00000000001001010100000000001101010000000000000101111010001111000\n"
     ]
    }
   ],
   "source": [
    "proc_str = binstring\n",
    "for i in range(1):\n",
    "    \n",
    "    type_id = get_version_type(proc_str)\n",
    "    proc_str = proc_str[6:]\n",
    "    \n",
    "    # TODO literal flow\n",
    "    \n",
    "    # operator flow\n",
    "    if type_id == 'operator':\n",
    "        length_type = proc_str[0]\n",
    "        proc_str = proc_str[1:]\n",
    "        \n",
    "        print(proc_str)\n",
    "\n",
    "        if length_type == '0':\n",
    "            sub_packages = binary_to_decimal(proc_str[:15])\n",
    "            proc_str = proc_str[15:]\n",
    "        else:\n",
    "            sub_packages = binary_to_decimal(proc_str[:11])\n",
    "            proc_str = proc_str[11:]"
   ]
  },
  {
   "cell_type": "code",
   "execution_count": 87,
   "id": "a914b3b9-3e63-4e06-8a09-4c15bf95677c",
   "metadata": {},
   "outputs": [
    {
     "data": {
      "text/plain": [
       "'001010100000000001101010000000000000101111010001111000'"
      ]
     },
     "execution_count": 87,
     "metadata": {},
     "output_type": "execute_result"
    }
   ],
   "source": [
    "proc_str"
   ]
  },
  {
   "cell_type": "code",
   "execution_count": 88,
   "id": "c4d34dad-6834-498f-83e8-cbbf6a6221f7",
   "metadata": {},
   "outputs": [
    {
     "data": {
      "text/plain": [
       "1"
      ]
     },
     "execution_count": 88,
     "metadata": {},
     "output_type": "execute_result"
    }
   ],
   "source": [
    "sub_packages"
   ]
  },
  {
   "cell_type": "code",
   "execution_count": 64,
   "id": "ff024ff6-df93-48fa-82b3-681fd4ef3959",
   "metadata": {},
   "outputs": [
    {
     "data": {
      "text/plain": [
       "1024"
      ]
     },
     "execution_count": 64,
     "metadata": {},
     "output_type": "execute_result"
    }
   ],
   "source": [
    "binary_to_decimal(process_str)"
   ]
  },
  {
   "cell_type": "code",
   "execution_count": 85,
   "id": "75f60912-ee56-4031-8879-5121f1bf6bd9",
   "metadata": {},
   "outputs": [
    {
     "data": {
      "text/plain": [
       "15"
      ]
     },
     "execution_count": 85,
     "metadata": {},
     "output_type": "execute_result"
    }
   ],
   "source": [
    "binary_to_decimal('1111')"
   ]
  },
  {
   "cell_type": "code",
   "execution_count": null,
   "id": "748f2824-df75-44d7-a869-d8bccba03b4b",
   "metadata": {},
   "outputs": [],
   "source": []
  },
  {
   "cell_type": "code",
   "execution_count": null,
   "id": "097dd0e6-f355-4ded-a163-db2d1b23c53b",
   "metadata": {},
   "outputs": [],
   "source": []
  },
  {
   "cell_type": "code",
   "execution_count": null,
   "id": "24c9d81b-1f86-4c68-aa5d-50672167e140",
   "metadata": {},
   "outputs": [],
   "source": []
  },
  {
   "cell_type": "markdown",
   "id": "54ed4ef3-4e70-4d6b-abc0-934ffda47548",
   "metadata": {},
   "source": [
    "## part 1: version counter"
   ]
  },
  {
   "cell_type": "code",
   "execution_count": 38,
   "id": "760b3a24-8425-4a2c-a7b0-87a2e225499f",
   "metadata": {},
   "outputs": [],
   "source": [
    "def proc_operator(proc_str):\n",
    "    length_type = proc_str[0]\n",
    "    proc_str = proc_str[1:]\n",
    "\n",
    "    #print(proc_str)\n",
    "\n",
    "    if length_type == '0':\n",
    "        num_subpacks = binary_to_decimal(proc_str[:15]) #\n",
    "        proc_str = proc_str[15:]\n",
    "    else:\n",
    "        num_subpacks = binary_to_decimal(proc_str[:11]) #\n",
    "        proc_str = proc_str[11:]\n",
    "    \n",
    "    return num_subpacks, proc_str"
   ]
  },
  {
   "cell_type": "code",
   "execution_count": null,
   "id": "f3c63ab7-1543-4447-ac98-512699367208",
   "metadata": {},
   "outputs": [],
   "source": []
  },
  {
   "cell_type": "code",
   "execution_count": null,
   "id": "6b4d7b89-8055-46fa-a73b-05f723156ca4",
   "metadata": {},
   "outputs": [],
   "source": []
  },
  {
   "cell_type": "code",
   "execution_count": 88,
   "id": "b8244ba3-2fe1-4c79-8a67-945fcb6727c1",
   "metadata": {},
   "outputs": [],
   "source": [
    "ex1 = hextobin('8A004A801A8002F478')\n",
    "ex2 = hextobin('620080001611562C8802118E34')"
   ]
  },
  {
   "cell_type": "code",
   "execution_count": 90,
   "id": "c7ea5c8c-1994-4781-a0c6-875892d7514e",
   "metadata": {
    "jupyter": {
     "source_hidden": true
    },
    "tags": []
   },
   "outputs": [],
   "source": [
    "def recur(proc_str, subpacks=None):\n",
    "    packet_version = bintodec(proc_str[:3])\n",
    "    type_version = bintodec(proc_str[3:6])\n",
    "    \n",
    "    if type_version != 4:\n",
    "        # operator\n",
    "        length_type = proc_str[6]\n",
    "\n",
    "        if length_type == '0':\n",
    "            # 15 bits version flow\n",
    "            subbits = bintodec(proc_str[7:22])\n",
    "            print(packet_version, type_version, length_type, subbits)\n",
    "            return recur(proc_str[22:22+subbits])\n",
    "        else:\n",
    "            # 11-bit subpack flow\n",
    "            subpacks = bintodec(proc_str[7:18])\n",
    "            print(packet_version, type_version, length_type, subpacks)\n",
    "            for i in range(subpacks):\n",
    "                proc_str = recur(proc_str[18:])\n",
    "            \n",
    "            return recur(proc_str[18:], subpacks)\n",
    "    else:\n",
    "        # literal (end_node)\n",
    "        print(packet_version, type_version, 'end')\n",
    "        # count groups * 5\n",
    "        len_groups = group_counter(proc_str[5:])\n",
    "        # subpacks -= 1\n",
    "        literal_length = 6 + len_groups * 5\n",
    "        return recur(proc_str[literal_length:], subpacks)"
   ]
  },
  {
   "cell_type": "code",
   "execution_count": null,
   "id": "cf1deb32-d8ee-4965-810d-358ddfb29e62",
   "metadata": {},
   "outputs": [],
   "source": [
    "def recur(proc_str, subpacks=None):\n",
    "    packet_version = bintodec(proc_str[:3])\n",
    "    type_version = bintodec(proc_str[3:6])\n",
    "    \n",
    "    if type_version != 4:\n",
    "        # operator\n",
    "        length_type = proc_str[6]\n",
    "\n",
    "        if length_type == '0':\n",
    "            # 15 bits version flow\n",
    "            subbits = bintodec(proc_str[7:22])\n",
    "            print(packet_version, type_version, length_type, subbits)\n",
    "            return recur(proc_str[22:22+subbits])\n",
    "        else:\n",
    "            # 11-bit subpack flow\n",
    "            subpacks = bintodec(proc_str[7:18])\n",
    "            print(packet_version, type_version, length_type, subpacks)\n",
    "            for i in range(subpacks):\n",
    "                proc_str = recur(proc_str[18:])\n",
    "            \n",
    "            return recur(proc_str[18:], subpacks)\n",
    "    else:\n",
    "        # literal (end_node)\n",
    "        print(packet_version, type_version, 'end')\n",
    "        # count groups * 5\n",
    "        len_groups = group_counter(proc_str[5:])\n",
    "        # subpacks -= 1\n",
    "        literal_length = 6 + len_groups * 5\n",
    "        return recur(proc_str[literal_length:], subpacks)"
   ]
  },
  {
   "cell_type": "code",
   "execution_count": null,
   "id": "6448e899-1542-4685-bffc-50086658d494",
   "metadata": {},
   "outputs": [],
   "source": [
    "# how does literal check length bits from type 2?"
   ]
  },
  {
   "cell_type": "code",
   "execution_count": 91,
   "id": "8e298e26-926f-4b54-9d3a-0ac4d1e90dc9",
   "metadata": {},
   "outputs": [
    {
     "name": "stdout",
     "output_type": "stream",
     "text": [
      "3 0 1 2\n",
      "0 0 0 22\n",
      "0 4 end\n"
     ]
    }
   ],
   "source": [
    "recur(ex2)"
   ]
  },
  {
   "cell_type": "code",
   "execution_count": 96,
   "id": "2f98f6e5-1d59-414e-b7ff-6f5b0217fac0",
   "metadata": {},
   "outputs": [
    {
     "data": {
      "text/plain": [
       "22"
      ]
     },
     "execution_count": 96,
     "metadata": {},
     "output_type": "execute_result"
    }
   ],
   "source": [
    "bintodec('0000010110')"
   ]
  },
  {
   "cell_type": "code",
   "execution_count": 87,
   "id": "96dc8607-a461-4c13-a575-0e268aceddf3",
   "metadata": {},
   "outputs": [
    {
     "name": "stdout",
     "output_type": "stream",
     "text": [
      "4 2 1 00000000001\n",
      "1 2 1 00000000001\n",
      "5 2 0 11\n",
      "6 4 end\n"
     ]
    }
   ],
   "source": [
    "recur(ex1)"
   ]
  },
  {
   "cell_type": "code",
   "execution_count": 66,
   "id": "4eec2d7c-6268-445b-a575-31a3b48dc45b",
   "metadata": {},
   "outputs": [
    {
     "data": {
      "text/plain": [
       "'100010100000000001001010100000000001101010000000000000101111010001111000'"
      ]
     },
     "execution_count": 66,
     "metadata": {},
     "output_type": "execute_result"
    }
   ],
   "source": [
    "ex1"
   ]
  },
  {
   "cell_type": "code",
   "execution_count": null,
   "id": "9bb2c856-930f-41ca-8557-a5aaa3abe0cf",
   "metadata": {},
   "outputs": [],
   "source": [
    "# ex 1\n",
    "# 100.010.1.00000000001            # 4-2-1-1\n",
    "    # 001.010.1.00000000001.           # 1-2-1-1\n",
    "        # 101.010.0.000000000001011.       # 5-2-0-11b\n",
    "            # 110.100.0.11110              # 6-4-l\n",
    "# 00                "
   ]
  },
  {
   "cell_type": "code",
   "execution_count": null,
   "id": "32596756-affa-495c-8bdc-4c8d19320b49",
   "metadata": {},
   "outputs": [],
   "source": [
    "# ex2\n",
    "\n",
    "# 011.000.1.00000000010.               # 3-0-1-2\n",
    "   # 000.000.0.000000000010110.        # 0-0-0-22bits\n",
    "       # 000.100.01010.                # 0-4-..\n",
    "       # 101.100.01011.                # 5-4-...\n",
    "   # 001.000.1.00000000010.            # 1-0-1-2\n",
    "       # 000.100.01100.                # 0-4-...\n",
    "       # 011.100.01101. 00             # 3-4-..."
   ]
  },
  {
   "cell_type": "code",
   "execution_count": null,
   "id": "00bb2058-8f65-4c84-b494-f7ebea019842",
   "metadata": {},
   "outputs": [],
   "source": [
    "# ex3\n",
    "# 110.000.0.000000001010100.         6-0-0-84b\n",
    "    # 000.000.0.000000000010110.     0-0-0-22b\n",
    "        # 000.100.01010.             -\n",
    "        # 110.100.01011.             -\n",
    "    # 100.000.1.00000000010.         4-0-1-2\n",
    "        # 111.100.01100.             -\n",
    "        # 000.100.01101.             -\n",
    "# 000000"
   ]
  },
  {
   "cell_type": "code",
   "execution_count": null,
   "id": "26b4c7d1-653e-405e-9f81-14c4334727cb",
   "metadata": {},
   "outputs": [],
   "source": [
    "# ex4\n",
    "# 101.000.0.000000001011011.   5-0-0-91\n",
    "    # 001.000.1.00000000001.   1-0-1-1\n",
    "        # 011.000.1.00000000101.   3-0-1-5\n",
    "            # 111.100.00110\n",
    "            # 110.100.00110.\n",
    "            # 101.100.01100.\n",
    "            # 010.100.01111.\n",
    "            # 010.100.01111\n",
    "# 0000000"
   ]
  },
  {
   "cell_type": "code",
   "execution_count": null,
   "id": "09e2cd33-65a0-4bba-9262-d40e2f5c8632",
   "metadata": {},
   "outputs": [],
   "source": []
  },
  {
   "cell_type": "code",
   "execution_count": null,
   "id": "86d3b25f-9137-47d4-b194-1c5f171ef6a5",
   "metadata": {},
   "outputs": [],
   "source": []
  },
  {
   "cell_type": "code",
   "execution_count": null,
   "id": "da6114be-c099-427e-a53d-503c10df8cc5",
   "metadata": {},
   "outputs": [],
   "source": []
  },
  {
   "cell_type": "markdown",
   "id": "e547db88-9712-4eea-85df-3d7a14e519ce",
   "metadata": {},
   "source": [
    "## try queue way"
   ]
  },
  {
   "cell_type": "code",
   "execution_count": 98,
   "id": "c4e46737-9db6-48f4-a8e7-2cad2f6f89f3",
   "metadata": {},
   "outputs": [],
   "source": [
    "ex2 = hextobin('620080001611562C8802118E34')"
   ]
  },
  {
   "cell_type": "code",
   "execution_count": null,
   "id": "441943a5-77ae-4d0a-a55a-ed0819fcf47a",
   "metadata": {},
   "outputs": [],
   "source": []
  },
  {
   "cell_type": "code",
   "execution_count": 101,
   "id": "1c5df14a-67f0-4067-a06f-9842b5e3c5db",
   "metadata": {},
   "outputs": [],
   "source": [
    "proc_str = ex2\n",
    "stack = []\n",
    "\n",
    "# while running:\n",
    "# if stack[-1][\"processed\"] == stack[-1][\"count\"]:\n",
    "\n",
    "packet_version = bintodec(proc_str[:3])\n",
    "type_version = bintodec(proc_str[3:6])\n",
    "\n",
    "# if literal\n",
    "if type_version == 4:\n",
    "    len_groups = group_counter(proc_str[6:])\n",
    "    package_bits = 6 + (len_groups * 5)\n",
    "\n",
    "    # update current node process\n",
    "    if stack[-1][\"type\"] == \"bits\":\n",
    "        stack[-1][\"processed\"] += package_bits\n",
    "    else:\n",
    "        stack[-1][\"processed\"] += 1  # subpacks\n",
    "\n",
    "    # update bits count\n",
    "    stack[-1][\"total_bits\"] += package_bits\n",
    "\n",
    "    # current node processing is done\n",
    "    if stack[-1][\"processed\"] == stack[-1][\"count\"]:\n",
    "        done = stack.pop()\n",
    "\n",
    "        # update parent when child is finished\n",
    "        if stack[-1][\"type\"] == \"bits\":\n",
    "            stack[-1][\"processed\"] += done[\"total_bits\"]\n",
    "        else:\n",
    "            stack[-1][\"processed\"] += 1  # subpacks\n",
    "\n",
    "# operator processing section\n",
    "length_type = proc_str[6]\n",
    "\n",
    "if length_type == '0':\n",
    "    # operator_type 0 flow\n",
    "    bits = bintodec(proc_str[7:22])\n",
    "    stack.append({\n",
    "        \"type\": \"bits\",\n",
    "        \"count\": bits,\n",
    "        \"processed\": 0,\n",
    "        \"total_bits\": 0\n",
    "    })\n",
    "else:\n",
    "    # operator_type 1 flow\n",
    "    subpacks = bintodec(proc_str[7:18])\n",
    "    stack.append({\n",
    "        \"type\": \"subpacks\",\n",
    "        \"count\": subpacks,\n",
    "        \"processed\": 0,\n",
    "        \"total_bits\": 0\n",
    "    })\n",
    "    \n",
    "if len(stacks) == 0:\n",
    "    running = False"
   ]
  },
  {
   "cell_type": "code",
   "execution_count": 102,
   "id": "57f3e3c7-79be-4db4-b9be-44146fcb5a22",
   "metadata": {},
   "outputs": [
    {
     "data": {
      "text/plain": [
       "[{'type': 'subpacks', 'count': 2}]"
      ]
     },
     "execution_count": 102,
     "metadata": {},
     "output_type": "execute_result"
    }
   ],
   "source": [
    "stack"
   ]
  },
  {
   "cell_type": "code",
   "execution_count": 106,
   "id": "28c8f71d-de3f-4fec-acee-4652e3bddb64",
   "metadata": {},
   "outputs": [
    {
     "data": {
      "text/plain": [
       "1"
      ]
     },
     "execution_count": 106,
     "metadata": {},
     "output_type": "execute_result"
    }
   ],
   "source": [
    "x = [1,2]\n",
    "b = x.pop()\n",
    "x[-1]"
   ]
  },
  {
   "cell_type": "code",
   "execution_count": 109,
   "id": "9bea9378-c269-4ec3-8538-f61548182212",
   "metadata": {},
   "outputs": [
    {
     "data": {
      "text/plain": [
       "1"
      ]
     },
     "execution_count": 109,
     "metadata": {},
     "output_type": "execute_result"
    }
   ],
   "source": [
    "x.pop()"
   ]
  },
  {
   "cell_type": "code",
   "execution_count": 111,
   "id": "e363764a-2ebd-4048-8764-eab744c6025a",
   "metadata": {},
   "outputs": [
    {
     "data": {
      "text/plain": [
       "False"
      ]
     },
     "execution_count": 111,
     "metadata": {},
     "output_type": "execute_result"
    }
   ],
   "source": [
    "x == "
   ]
  },
  {
   "cell_type": "code",
   "execution_count": null,
   "id": "a92d7a0a-6e75-42e2-95a9-c331c5e0e2a5",
   "metadata": {},
   "outputs": [],
   "source": []
  },
  {
   "cell_type": "code",
   "execution_count": null,
   "id": "f37ee0e6-1d07-4303-a14b-7c085827d916",
   "metadata": {},
   "outputs": [],
   "source": []
  },
  {
   "cell_type": "markdown",
   "id": "e57ff8c9-920b-414f-a98d-909163fff7bb",
   "metadata": {},
   "source": [
    "## test part 1"
   ]
  },
  {
   "cell_type": "code",
   "execution_count": 114,
   "id": "895b71f1-44b9-4c2c-aa26-1389f5830bc5",
   "metadata": {},
   "outputs": [],
   "source": [
    "real = hextobin('4057231006FF2D2E1AD8025275E4EB45A9ED518E5F1AB4363C60084953FB09E008725772E8ECAC312F0C18025400D34F732333DCC8FCEDF7CFE504802B4B00426E1A129B86846441840193007E3041483E4008541F8490D4C01A89B0DE17280472FE937C8E6ECD2F0D63B0379AC72FF8CBC9CC01F4CCBE49777098D4169DE4BF2869DE6DACC015F005C401989D0423F0002111723AC289DED3E64401004B084F074BBECE829803D3A0D3AD51BD001D586B2BEAFFE0F1CC80267F005E54D254C272950F00119264DA7E9A3E9FE6BB2C564F5376A49625534C01B0004222B41D8A80008446A8990880010A83518A12B01A48C0639A0178060059801C404F990128AE007801002803AB1801A0030A280184026AA8014C01C9B005CE0011AB00304800694BE2612E00A45C97CC3C7C4020A600433253F696A7E74B54DE46F395EC5E2009C9FF91689D6F3005AC0119AF4698E4E2713B2609C7E92F57D2CB1CE0600063925CFE736DE04625CC6A2B71050055793B4679F08CA725CDCA1F4792CCB566494D8F4C69808010494499E469C289BA7B9E2720152EC0130004320FC1D8420008647E8230726FDFED6E6A401564EBA6002FD3417350D7C28400C8C8600A5003EB22413BED673AB8EC95ED0CE5D480285C00372755E11CCFB164920070B40118DB1AE5901C0199DCD8D616CFA89009BF600880021304E0EC52100623A4648AB33EB51BCC017C0040E490A490A532F86016CA064E2B4939CEABC99F9009632FDE3AE00660200D4398CD120401F8C70DE2DB004A9296C662750663EC89C1006AF34B9A00BCFDBB4BBFCB5FBFF98980273B5BD37FCC4DF00354100762EC258C6000854158750A2072001F9338AC05A1E800535230DDE318597E61567D88C013A00C2A63D5843D80A958FBBBF5F46F2947F952D7003E5E1AC4A854400404A069802B25618E008667B7BAFEF24A9DD024F72DBAAFCB312002A9336C20CE84')"
   ]
  },
  {
   "cell_type": "code",
   "execution_count": null,
   "id": "e79b354a-ab10-4d39-b790-4c02fbb4d54e",
   "metadata": {},
   "outputs": [],
   "source": [
    "# 010.000.0.001010111001000.                             # 2-0-0-5576\n",
    "    # 110.001.0.000000001101111.                         # 6-1-0-111\n",
    "        # 111.100.10110.10010.11100.00110.               # 9-4-1-2 #t26\n",
    "        # 101.101.1.00000000010.                                       # 5-5-1-2 #t18\n",
    "            # 010.100.10011.10101.11100.10011.10101.10100.01011.       # 2-4      #t41\n",
    "            # 010.100.11110.11010.10100.01100.                         # 2-4     #t26\n",
    "        # 011.100.10111.11000.11010.10110.10000.11011.00011.           # 3-4     $ t41\n",
    "    # 110.001.1.00000000010.                                          # 6-1-1-2\n",
    "        # 000.100.10010.10100.11111.11011.00001.                      # 0-4 \n",
    "        # 001.111.0.000000001000011.                                  # 1-7-0-67b\n",
    "            # 100.100.10101.11011.10010.11101.00011.                  # 4-4.   # t31\n",
    "            # 101.100.10101.10000.11000.10010.11110.00011.            # 5-4    # t36\n",
    "    # 0000011000000000100101010000000000110100110100111101110011001000110011001111011100110010001111110011101101111101111100111111100101000001001000000000101011010010110000000001000010011011100001101000010010100110111000011010000100011001000100000110000100000000011001001100000000011111100011000001000001010010000011111001000000000010000101010000011111100001001001000011010100110000000001101010001001101100001101111000010111001010000000010001110010111111101001001101111100100011100110111011001101001011110000110101100011101100000011011110011010110001110010111111111000110010111100100111001100000000011111010011001100101111100100100101110111011100001001100011010100000101101001110111100100101111110010100001101001110111100110110110101100110000000001010111110000000001011100010000000001100110001001110100000100001000111111000000000000001000010001000101110010001110101100001010001001110111101101001111100110010001000000000100000000010010110000100001001111000001110100101110111110110011101000001010011000000000111101001110100000110100111010110101010001101111010000000000011101010110000110101100101011111010101111111111100000111100011100110010000000001001100111111100000000010111100101010011010010010101001100001001110010100101010000111100000000000100011001001001100100110110100111111010011010001111101001111111100110101110110010110001010110010011110101001101110110101001001001011000100101010100110100110000000001101100000000000001000010001000101011010000011101100010101000000000000000100001000100011010101000100110010000100010000000000000010000101010000011010100011000101000010010101100000001101001001000110000000110001110011010000000010111100000000110000000000101100110000000000111000100000001001111100110010000000100101000101011100000000001111000000000010000000000101000000000111010101100011000000000011010000000000011000010100010100000000001100001000000001001101010101010000000000101001100000000011100100110110000000001011100111000000000000100011010101100000000001100000100100000000000011010010100101111100010011000010010111000000000101001000101110010010111110011000011110001111100010000000010000010100110000000000100001100110010010100111111011010010110101001111110011101001011010101001101111001000110111100111001010111101100010111100010000000001001110010011111111110010001011010001001110101101111001100000000010110101100000000010001100110101111010001101001100011100100111000100111000100111011001001100000100111000111111010010010111101010111110100101100101100011100111000000110000000000000011000111001001001011100111111100111001101101101111000000100011000100101110011000110101000101011011100010000010100000000010101010111100100111011010001100111100111110000100011001010011100100101110011011100101000011111010001111001001011001100101101010110011001001001010011011000111101001100011010011000000010000000000100000100100101000100100110011110010001101001110000101000100110111010011110111001111000100111001000000001010100101110110000000001001100000000000001000011001000001111110000011101100001000010000000000000100001100100011111101000001000110000011100100110111111011111111011010110111001101010010000000001010101100100111010111010011000000000001011111101001101000001011100110101000011010111110000101000010000000000110010001100100001100000000010100101000000000011111010110010001001000001001110111110110101100111001110101011100011101100100101011110110100001100111001011101010010000000001010000101110000000000001101110010011101010101111000010001110011001111101100010110010010010010000000000111000010110100000000010001100011011011000110101110010110010000000111000000000110011001110111001101100011010110000101101100111110101000100100000000100110111111011000000000100010000000000000100001001100000100111000001110110001010010000100000000011000100011101001000110010010001010101100110011111010110101000110111100110000000001011111000000000001000000111001001001000010100100100100001010010100110010111110000110000000010110110010100000011001001110001010110100100100111001110011101010101111001001100111111001000000001001011000110010111111011110001110101110000000000110011000000010000000001101010000111001100011001101000100100000010000000001111110001100011100001101111000101101101100000000010010101001001010010110110001100110001001110101000001100110001111101100100010011100000100000000011010101111001101001011100110100000000010111100111111011011101101001011101111111100101101011111101111111111100110001001100000000010011100111011010110111101001101111111110011000100110111110000000000110101010000010000000001110110001011101100001001011000110001100000000000001000010101000001010110000111010100001010001000000111001000000000000111111001001100111000101011000000010110100001111010000000000001010011010100100011000011011101111000110001100001011001011111100110000101010110011111011000100011000000000100111010000000001100001010100110001111010101100001000011110110000000101010010101100011111011101110111111010111110100011011110010100101000111111110010101001011010111000000000011111001011110000110101100010010101000010101000100000000000100000001001010000001101001100000000010101100100101011000011000111000000000100001100110011110110111101110101111111011110010010010101001110111010000001001001111011100101101101110101010111111001011001100010010000000000010101010010011001101101100001000001100111010000100"
   ]
  },
  {
   "cell_type": "code",
   "execution_count": 120,
   "id": "b660d3eb-9dc9-480d-897f-d90981cbb482",
   "metadata": {},
   "outputs": [
    {
     "data": {
      "text/plain": [
       "67"
      ]
     },
     "execution_count": 120,
     "metadata": {},
     "output_type": "execute_result"
    }
   ],
   "source": [
    "bintodec('1000011')"
   ]
  },
  {
   "cell_type": "code",
   "execution_count": 115,
   "id": "c3d6d3c6-e45a-426d-b49b-8b4f05f90bf4",
   "metadata": {},
   "outputs": [
    {
     "data": {
      "text/plain": [
       "'01000000010101110010001100010000000001101111111100101101001011100001101011011000000000100101001001110101111001001110101101000101101010011110110101010001100011100101111100011010101101000011011000111100011000000000100001001001010100111111101100001001111000000000100001110010010101110111001011101000111011001010110000110001001011110000110000011000000000100101010000000000110100110100111101110011001000110011001111011100110010001111110011101101111101111100111111100101000001001000000000101011010010110000000001000010011011100001101000010010100110111000011010000100011001000100000110000100000000011001001100000000011111100011000001000001010010000011111001000000000010000101010000011111100001001001000011010100110000000001101010001001101100001101111000010111001010000000010001110010111111101001001101111100100011100110111011001101001011110000110101100011101100000011011110011010110001110010111111111000110010111100100111001100000000011111010011001100101111100100100101110111011100001001100011010100000101101001110111100100101111110010100001101001110111100110110110101100110000000001010111110000000001011100010000000001100110001001110100000100001000111111000000000000001000010001000101110010001110101100001010001001110111101101001111100110010001000000000100000000010010110000100001001111000001110100101110111110110011101000001010011000000000111101001110100000110100111010110101010001101111010000000000011101010110000110101100101011111010101111111111100000111100011100110010000000001001100111111100000000010111100101010011010010010101001100001001110010100101010000111100000000000100011001001001100100110110100111111010011010001111101001111111100110101110110010110001010110010011110101001101110110101001001001011000100101010100110100110000000001101100000000000001000010001000101011010000011101100010101000000000000000100001000100011010101000100110010000100010000000000000010000101010000011010100011000101000010010101100000001101001001000110000000110001110011010000000010111100000000110000000000101100110000000000111000100000001001111100110010000000100101000101011100000000001111000000000010000000000101000000000111010101100011000000000011010000000000011000010100010100000000001100001000000001001101010101010000000000101001100000000011100100110110000000001011100111000000000000100011010101100000000001100000100100000000000011010010100101111100010011000010010111000000000101001000101110010010111110011000011110001111100010000000010000010100110000000000100001100110010010100111111011010010110101001111110011101001011010101001101111001000110111100111001010111101100010111100010000000001001110010011111111110010001011010001001110101101111001100000000010110101100000000010001100110101111010001101001100011100100111000100111000100111011001001100000100111000111111010010010111101010111110100101100101100011100111000000110000000000000011000111001001001011100111111100111001101101101111000000100011000100101110011000110101000101011011100010000010100000000010101010111100100111011010001100111100111110000100011001010011100100101110011011100101000011111010001111001001011001100101101010110011001001001010011011000111101001100011010011000000010000000000100000100100101000100100110011110010001101001110000101000100110111010011110111001111000100111001000000001010100101110110000000001001100000000000001000011001000001111110000011101100001000010000000000000100001100100011111101000001000110000011100100110111111011111111011010110111001101010010000000001010101100100111010111010011000000000001011111101001101000001011100110101000011010111110000101000010000000000110010001100100001100000000010100101000000000011111010110010001001000001001110111110110101100111001110101011100011101100100101011110110100001100111001011101010010000000001010000101110000000000001101110010011101010101111000010001110011001111101100010110010010010010000000000111000010110100000000010001100011011011000110101110010110010000000111000000000110011001110111001101100011010110000101101100111110101000100100000000100110111111011000000000100010000000000000100001001100000100111000001110110001010010000100000000011000100011101001000110010010001010101100110011111010110101000110111100110000000001011111000000000001000000111001001001000010100100100100001010010100110010111110000110000000010110110010100000011001001110001010110100100100111001110011101010101111001001100111111001000000001001011000110010111111011110001110101110000000000110011000000010000000001101010000111001100011001101000100100000010000000001111110001100011100001101111000101101101100000000010010101001001010010110110001100110001001110101000001100110001111101100100010011100000100000000011010101111001101001011100110100000000010111100111111011011101101001011101111111100101101011111101111111111100110001001100000000010011100111011010110111101001101111111110011000100110111110000000000110101010000010000000001110110001011101100001001011000110001100000000000001000010101000001010110000111010100001010001000000111001000000000000111111001001100111000101011000000010110100001111010000000000001010011010100100011000011011101111000110001100001011001011111100110000101010110011111011000100011000000000100111010000000001100001010100110001111010101100001000011110110000000101010010101100011111011101110111111010111110100011011110010100101000111111110010101001011010111000000000011111001011110000110101100010010101000010101000100000000000100000001001010000001101001100000000010101100100101011000011000111000000000100001100110011110110111101110101111111011110010010010101001110111010000001001001111011100101101101110101010111111001011001100010010000000000010101010010011001101101100001000001100111010000100'"
      ]
     },
     "execution_count": 115,
     "metadata": {},
     "output_type": "execute_result"
    }
   ],
   "source": [
    "real"
   ]
  },
  {
   "cell_type": "code",
   "execution_count": null,
   "id": "c3e0a934-e8e3-4704-894d-796ac4698be7",
   "metadata": {},
   "outputs": [],
   "source": []
  }
 ],
 "metadata": {
  "kernelspec": {
   "display_name": "Python 3 (ipykernel)",
   "language": "python",
   "name": "python3"
  },
  "language_info": {
   "codemirror_mode": {
    "name": "ipython",
    "version": 3
   },
   "file_extension": ".py",
   "mimetype": "text/x-python",
   "name": "python",
   "nbconvert_exporter": "python",
   "pygments_lexer": "ipython3",
   "version": "3.9.13"
  }
 },
 "nbformat": 4,
 "nbformat_minor": 5
}
