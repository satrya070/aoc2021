{
 "cells": [
  {
   "cell_type": "code",
   "execution_count": 1,
   "id": "b1a9001f-8902-4ef2-aed8-e73fed3d557e",
   "metadata": {},
   "outputs": [
    {
     "data": {
      "text/plain": [
       "31"
      ]
     },
     "execution_count": 1,
     "metadata": {},
     "output_type": "execute_result"
    }
   ],
   "source": [
    "len('....................TTTTTTTTTTT')"
   ]
  },
  {
   "cell_type": "code",
   "execution_count": null,
   "id": "c12b026e-32df-44ce-b18d-8a039ca40d26",
   "metadata": {},
   "outputs": [],
   "source": [
    "31, -5"
   ]
  },
  {
   "cell_type": "code",
   "execution_count": null,
   "id": "7248901e-e5e0-48ac-9981-37b44fe7ac62",
   "metadata": {},
   "outputs": [],
   "source": []
  },
  {
   "cell_type": "code",
   "execution_count": 2,
   "id": "48d3f200-6e07-4a6b-9c9e-e6431edf43c8",
   "metadata": {},
   "outputs": [
    {
     "data": {
      "text/plain": [
       "21"
      ]
     },
     "execution_count": 2,
     "metadata": {},
     "output_type": "execute_result"
    }
   ],
   "source": [
    "6+5+4+3+2+1"
   ]
  },
  {
   "cell_type": "code",
   "execution_count": 4,
   "id": "aaf208dd-bbd9-471c-98fd-8048de132d6d",
   "metadata": {},
   "outputs": [
    {
     "data": {
      "text/plain": [
       "11"
      ]
     },
     "execution_count": 4,
     "metadata": {},
     "output_type": "execute_result"
    }
   ],
   "source": [
    "len('TTTTTTTTTTT')"
   ]
  },
  {
   "cell_type": "code",
   "execution_count": 5,
   "id": "279000a2-fd35-4aeb-9b11-79db4763e010",
   "metadata": {},
   "outputs": [
    {
     "data": {
      "text/plain": [
       "21"
      ]
     },
     "execution_count": 5,
     "metadata": {},
     "output_type": "execute_result"
    }
   ],
   "source": [
    "len('....................T')"
   ]
  },
  {
   "cell_type": "code",
   "execution_count": 6,
   "id": "f1233bd0-b0de-44ef-bfe8-058303895b86",
   "metadata": {},
   "outputs": [
    {
     "data": {
      "text/plain": [
       "21"
      ]
     },
     "execution_count": 6,
     "metadata": {},
     "output_type": "execute_result"
    }
   ],
   "source": [
    "len('S........#...........')"
   ]
  },
  {
   "cell_type": "code",
   "execution_count": 7,
   "id": "ecf26631-6acc-416e-8d24-26086e5080c0",
   "metadata": {},
   "outputs": [
    {
     "data": {
      "text/plain": [
       "21"
      ]
     },
     "execution_count": 7,
     "metadata": {},
     "output_type": "execute_result"
    }
   ],
   "source": [
    "len('....................T')"
   ]
  },
  {
   "cell_type": "code",
   "execution_count": 8,
   "id": "dc926219-e728-4c66-9396-81d8b56c45d9",
   "metadata": {},
   "outputs": [
    {
     "data": {
      "text/plain": [
       "22"
      ]
     },
     "execution_count": 8,
     "metadata": {},
     "output_type": "execute_result"
    }
   ],
   "source": [
    "len('....................TT')"
   ]
  },
  {
   "cell_type": "code",
   "execution_count": null,
   "id": "bf3f4766-d030-4601-81fe-acf9539aa269",
   "metadata": {},
   "outputs": [],
   "source": [
    "def cfact(n):\n",
    "    n "
   ]
  },
  {
   "cell_type": "code",
   "execution_count": 9,
   "id": "0f4dbc04-0aa1-48c0-88ff-9e41a0ce2536",
   "metadata": {},
   "outputs": [
    {
     "data": {
      "text/plain": [
       "53"
      ]
     },
     "execution_count": 9,
     "metadata": {},
     "output_type": "execute_result"
    }
   ],
   "source": [
    " +4+3 +2 +1 +0\n",
    "5+9+12+14+15+15"
   ]
  },
  {
   "cell_type": "code",
   "execution_count": 10,
   "id": "60379e03-43fa-4def-9421-da386a4705ef",
   "metadata": {},
   "outputs": [
    {
     "data": {
      "text/plain": [
       "0.5555555555555556"
      ]
     },
     "execution_count": 10,
     "metadata": {},
     "output_type": "execute_result"
    }
   ],
   "source": [
    "22-"
   ]
  },
  {
   "cell_type": "code",
   "execution_count": 11,
   "id": "94668faf-a5b5-4e32-ace5-fb2d3e98c4c8",
   "metadata": {},
   "outputs": [
    {
     "data": {
      "text/plain": [
       "0.75"
      ]
     },
     "execution_count": 11,
     "metadata": {},
     "output_type": "execute_result"
    }
   ],
   "source": [
    "3+5+6"
   ]
  },
  {
   "cell_type": "code",
   "execution_count": 12,
   "id": "8e40a015-4c74-417a-b430-13fda5f8f76a",
   "metadata": {},
   "outputs": [
    {
     "data": {
      "text/plain": [
       "0.8571428571428571"
      ]
     },
     "execution_count": 12,
     "metadata": {},
     "output_type": "execute_result"
    }
   ],
   "source": [
    "12/14"
   ]
  },
  {
   "cell_type": "code",
   "execution_count": 22,
   "id": "3d3649b5-32ac-40cf-aa94-a38631d5472d",
   "metadata": {},
   "outputs": [
    {
     "data": {
      "text/plain": [
       "22"
      ]
     },
     "execution_count": 22,
     "metadata": {},
     "output_type": "execute_result"
    }
   ],
   "source": [
    "len('S....................#')"
   ]
  },
  {
   "cell_type": "code",
   "execution_count": 18,
   "id": "3599c682-7bd2-4f94-943b-ec7d85ce3b5a",
   "metadata": {},
   "outputs": [
    {
     "data": {
      "text/plain": [
       "5"
      ]
     },
     "execution_count": 18,
     "metadata": {},
     "output_type": "execute_result"
    }
   ],
   "source": [
    "9//2 + 1"
   ]
  },
  {
   "cell_type": "code",
   "execution_count": 21,
   "id": "3551b796-73ca-4278-9b7e-014ca6f516dc",
   "metadata": {},
   "outputs": [
    {
     "data": {
      "text/plain": [
       "8.0"
      ]
     },
     "execution_count": 21,
     "metadata": {},
     "output_type": "execute_result"
    }
   ],
   "source": [
    "22-21-19-16-12-7-1?"
   ]
  },
  {
   "cell_type": "code",
   "execution_count": null,
   "id": "ed86ae62-4e0a-4ab1-9f0f-15d1423b8c53",
   "metadata": {},
   "outputs": [],
   "source": [
    "# what if y +1 -1?"
   ]
  },
  {
   "cell_type": "code",
   "execution_count": 53,
   "id": "d9d45f42-63b9-48f1-a92a-0493d0d692d0",
   "metadata": {},
   "outputs": [
    {
     "name": "stdout",
     "output_type": "stream",
     "text": [
      "7 9\n",
      "---- 6 8\n",
      "12 16\n",
      "---- 5 7\n",
      "16 22\n",
      "---- 4 6\n",
      "19 27\n",
      "---- 3 5\n",
      "21 31\n",
      "---- 2 4\n",
      "22 34\n",
      "---- 1 3\n",
      "22 36\n",
      "---- 0 2\n",
      "22 37\n",
      "---- 0 1\n",
      "22 37\n",
      "---- 0 0\n",
      "22 36\n",
      "---- 0 -1\n",
      "22 34\n",
      "---- 0 -2\n",
      "22 31\n",
      "---- 0 -3\n",
      "22 27\n",
      "---- 0 -4\n",
      "22 22\n",
      "---- 0 -5\n",
      "22 16\n",
      "---- 0 -6\n",
      "22 9\n",
      "---- 0 -7\n",
      "22 1\n",
      "---- 0 -8\n",
      "22 -8\n",
      "---- 0 -9\n",
      "22 -18\n",
      "---- 0 -10\n",
      "22 -29\n",
      "---- 0 -11\n",
      "22 -41\n",
      "---- 0 -12\n",
      "22 -54\n",
      "---- 0 -13\n",
      "22 -68\n",
      "---- 0 -14\n",
      "22 -83\n",
      "---- 0 -15\n",
      "22 -99\n",
      "---- 0 -16\n",
      "22 -116\n",
      "---- 0 -17\n",
      "22 -134\n",
      "---- 0 -18\n",
      "22 -153\n",
      "---- 0 -19\n",
      "22 -173\n",
      "---- 0 -20\n",
      "22 -194\n",
      "---- 0 -21\n"
     ]
    }
   ],
   "source": [
    "y_list = []\n",
    "\n",
    "# position calculator\n",
    "x_step = 6\n",
    "y_step = 8\n",
    "\n",
    "x = 1\n",
    "y = 1\n",
    "\n",
    "for i in range(10):\n",
    "    x = x + x_step\n",
    "    y = y + y_step\n",
    "\n",
    "    print(x, y)\n",
    "    print('----',x_step, y_step)\n",
    "    y_list.append(y)\n",
    "    \n",
    "    if x_step > 0:\n",
    "        x_step = x_step - 1\n",
    "    \n",
    "    #if y_step <= 0:\n",
    "    y_step = y_step - 1"
   ]
  },
  {
   "cell_type": "code",
   "execution_count": 50,
   "id": "d605c761-6e2d-4ed1-ac89-e69657f049a7",
   "metadata": {},
   "outputs": [
    {
     "data": {
      "text/plain": [
       "'[11, 20, 28, 35, 41, 46, 50, 53, 55, 56, 56, 55, 53, 50, 46, 41, 35, 28, 20, 11, 1, -10, -22, -35, -49, -64, -80, -97, -115, -134]'"
      ]
     },
     "execution_count": 50,
     "metadata": {},
     "output_type": "execute_result"
    }
   ],
   "source": [
    "# 6,10\n",
    "str(y_list)"
   ]
  },
  {
   "cell_type": "code",
   "execution_count": 52,
   "id": "ad6498c6-f133-4b79-a152-29c3c8a326e9",
   "metadata": {},
   "outputs": [
    {
     "data": {
      "text/plain": [
       "'[10, 18, 25, 31, 36, 40, 43, 45, 46, 46, 45, 43, 40, 36, 31, 25, 18, 10, 1, -9, -20, -32, -45, -59, -74, -90, -107, -125, -144, -164]'"
      ]
     },
     "execution_count": 52,
     "metadata": {},
     "output_type": "execute_result"
    }
   ],
   "source": [
    "# 6, 9\n",
    "str(y_list)"
   ]
  },
  {
   "cell_type": "code",
   "execution_count": 54,
   "id": "f5ed3c32-eea9-44a0-bcfd-69330e88e889",
   "metadata": {},
   "outputs": [
    {
     "data": {
      "text/plain": [
       "'[9, 16, 22, 27, 31, 34, 36, 37, 37, 36, 34, 31, 27, 22, 16, 9, 1, -8, -18, -29, -41, -54, -68, -83, -99, -116, -134, -153, -173, -194]'"
      ]
     },
     "execution_count": 54,
     "metadata": {},
     "output_type": "execute_result"
    }
   ],
   "source": [
    "# 6, 8\n",
    "str(y_list)"
   ]
  },
  {
   "cell_type": "code",
   "execution_count": null,
   "id": "f9334062-198e-45e9-a601-af7ce86e8aea",
   "metadata": {},
   "outputs": [],
   "source": []
  },
  {
   "cell_type": "code",
   "execution_count": 64,
   "id": "b7d8b579-b545-4251-8414-250074839d5e",
   "metadata": {
    "collapsed": true,
    "jupyter": {
     "outputs_hidden": true
    },
    "tags": []
   },
   "outputs": [
    {
     "name": "stdout",
     "output_type": "stream",
     "text": [
      "106\n",
      "211\n",
      "315\n",
      "418\n",
      "520\n",
      "621\n",
      "721\n",
      "820\n",
      "918\n",
      "1015\n",
      "1111\n",
      "1206\n",
      "1300\n",
      "1393\n",
      "1485\n",
      "1576\n",
      "1666\n",
      "1755\n",
      "1843\n",
      "1930\n",
      "2016\n",
      "2101\n",
      "2185\n",
      "2268\n",
      "2350\n",
      "2431\n",
      "2511\n",
      "2590\n",
      "2668\n",
      "2745\n",
      "2821\n",
      "2896\n",
      "2970\n",
      "3043\n",
      "3115\n",
      "3186\n",
      "3256\n",
      "3325\n",
      "3393\n",
      "3460\n",
      "3526\n",
      "3591\n",
      "3655\n",
      "3718\n",
      "3780\n",
      "3841\n",
      "3901\n",
      "3960\n",
      "4018\n",
      "4075\n",
      "4131\n",
      "4186\n",
      "4240\n",
      "4293\n",
      "4345\n",
      "4396\n",
      "4446\n",
      "4495\n",
      "4543\n",
      "4590\n",
      "4636\n",
      "4681\n",
      "4725\n",
      "4768\n",
      "4810\n",
      "4851\n",
      "4891\n",
      "4930\n",
      "4968\n",
      "5005\n",
      "5041\n",
      "5076\n",
      "5110\n",
      "5143\n",
      "5175\n",
      "5206\n",
      "5236\n",
      "5265\n",
      "5293\n",
      "5320\n",
      "5346\n",
      "5371\n",
      "5395\n",
      "5418\n",
      "5440\n",
      "5461\n",
      "5481\n",
      "5500\n",
      "5518\n",
      "5535\n",
      "5551\n",
      "5566\n",
      "5580\n",
      "5593\n",
      "5605\n",
      "5616\n",
      "5626\n",
      "5635\n",
      "5643\n",
      "5650\n",
      "5656\n",
      "5661\n",
      "5665\n",
      "5668\n",
      "5670\n",
      "5671\n",
      "5671\n",
      "5670\n",
      "5668\n",
      "5665\n",
      "5661\n",
      "5656\n",
      "5650\n",
      "5643\n",
      "5635\n",
      "5626\n",
      "5616\n",
      "5605\n",
      "5593\n",
      "5580\n",
      "5566\n",
      "5551\n",
      "5535\n",
      "5518\n",
      "5500\n",
      "5481\n",
      "5461\n",
      "5440\n",
      "5418\n",
      "5395\n",
      "5371\n",
      "5346\n",
      "5320\n",
      "5293\n",
      "5265\n",
      "5236\n",
      "5206\n",
      "5175\n",
      "5143\n",
      "5110\n",
      "5076\n",
      "5041\n",
      "5005\n",
      "4968\n",
      "4930\n",
      "4891\n",
      "4851\n",
      "4810\n",
      "4768\n",
      "4725\n",
      "4681\n",
      "4636\n",
      "4590\n",
      "4543\n",
      "4495\n",
      "4446\n",
      "4396\n",
      "4345\n",
      "4293\n",
      "4240\n",
      "4186\n",
      "4131\n",
      "4075\n",
      "4018\n",
      "3960\n",
      "3901\n",
      "3841\n",
      "3780\n",
      "3718\n",
      "3655\n",
      "3591\n",
      "3526\n",
      "3460\n",
      "3393\n",
      "3325\n",
      "3256\n",
      "3186\n",
      "3115\n",
      "3043\n",
      "2970\n",
      "2896\n",
      "2821\n",
      "2745\n",
      "2668\n",
      "2590\n",
      "2511\n",
      "2431\n",
      "2350\n",
      "2268\n",
      "2185\n",
      "2101\n",
      "2016\n",
      "1930\n",
      "1843\n",
      "1755\n",
      "1666\n",
      "1576\n",
      "1485\n",
      "1393\n",
      "1300\n"
     ]
    }
   ],
   "source": [
    "\n",
    "heights = []\n",
    "step = 106\n",
    "total = 0\n",
    "for i in range(200):\n",
    "    total = total + step\n",
    "    heights.append(total)\n",
    "    print(total)\n",
    "    \n",
    "    step = step - 1"
   ]
  },
  {
   "cell_type": "code",
   "execution_count": 65,
   "id": "646747c8-8a0c-4ce6-9147-7c1803c4422b",
   "metadata": {},
   "outputs": [
    {
     "data": {
      "text/plain": [
       "5671"
      ]
     },
     "execution_count": 65,
     "metadata": {},
     "output_type": "execute_result"
    }
   ],
   "source": [
    "max(heights)"
   ]
  },
  {
   "cell_type": "code",
   "execution_count": null,
   "id": "df494478-d8b8-44de-8b63-9a4b168caeea",
   "metadata": {},
   "outputs": [],
   "source": []
  },
  {
   "cell_type": "markdown",
   "id": "dbb0346f-d2f0-467f-a80d-45357ab988b3",
   "metadata": {},
   "source": [
    "# part 2"
   ]
  },
  {
   "cell_type": "code",
   "execution_count": 68,
   "id": "675a84b9-daa9-4c8d-88bd-06048dd0535e",
   "metadata": {},
   "outputs": [],
   "source": [
    "ex_solutions_str = '23,-10|25,-9|27,-5|29,-6|22,-6|21,-7|9,0|27,-7|24,-5|\\\n",
    "25,-7|26,-6|25,-5|6,8|11,-2|20,-5|29,-10|6,3|28,-7|\\\n",
    "8,0|30,-6|29,-8|20,-10|6,7|6,4|6,1|14,-4|21,-6|\\\n",
    "26,-10|7,-1|7,7|8,-1|21,-9|6,2|20,-7|30,-10|14,-3|\\\n",
    "20,-8|13,-2|7,3|28,-8|29,-9|15,-3|22,-5|26,-8|25,-8|\\\n",
    "25,-6|15,-4|9,-2|15,-2|12,-2|28,-9|12,-3|24,-6|23,-7|\\\n",
    "25,-10|7,8|11,-3|26,-7|7,1|23,-9|6,0|22,-10|27,-6|\\\n",
    "8,1|22,-8|13,-4|7,6|28,-6|11,-4|12,-4|26,-9|7,4|\\\n",
    "24,-10|23,-8|30,-8|7,0|9,-1|10,-1|26,-5|22,-9|6,5|\\\n",
    "7,5|23,-6|28,-10|10,-2|11,-1|20,-9|14,-2|29,-7|13,-3|\\\n",
    "23,-5|24,-8|27,-9|30,-7|28,-5|21,-10|7,9|6,6|21,-5|\\\n",
    "27,-10|7,2|30,-9|21,-8|22,-7|24,-9|20,-6|6,9|29,-5|\\\n",
    "8,-2|27,-8|30,-5|24,-7'"
   ]
  },
  {
   "cell_type": "code",
   "execution_count": 73,
   "id": "e334a010-4a1d-404f-ab8e-55fe992d90f1",
   "metadata": {
    "collapsed": true,
    "jupyter": {
     "outputs_hidden": true
    },
    "tags": []
   },
   "outputs": [
    {
     "name": "stdout",
     "output_type": "stream",
     "text": [
      "23 -10\n",
      "25 -9\n",
      "27 -5\n",
      "29 -6\n",
      "22 -6\n",
      "21 -7\n",
      "9 0\n",
      "27 -7\n",
      "24 -5\n",
      "25 -7\n",
      "26 -6\n",
      "25 -5\n",
      "6 8\n",
      "11 -2\n",
      "20 -5\n",
      "29 -10\n",
      "6 3\n",
      "28 -7\n",
      "8 0\n",
      "30 -6\n",
      "29 -8\n",
      "20 -10\n",
      "6 7\n",
      "6 4\n",
      "6 1\n",
      "14 -4\n",
      "21 -6\n",
      "26 -10\n",
      "7 -1\n",
      "7 7\n",
      "8 -1\n",
      "21 -9\n",
      "6 2\n",
      "20 -7\n",
      "30 -10\n",
      "14 -3\n",
      "20 -8\n",
      "13 -2\n",
      "7 3\n",
      "28 -8\n",
      "29 -9\n",
      "15 -3\n",
      "22 -5\n",
      "26 -8\n",
      "25 -8\n",
      "25 -6\n",
      "15 -4\n",
      "9 -2\n",
      "15 -2\n",
      "12 -2\n",
      "28 -9\n",
      "12 -3\n",
      "24 -6\n",
      "23 -7\n",
      "25 -10\n",
      "7 8\n",
      "11 -3\n",
      "26 -7\n",
      "7 1\n",
      "23 -9\n",
      "6 0\n",
      "22 -10\n",
      "27 -6\n",
      "8 1\n",
      "22 -8\n",
      "13 -4\n",
      "7 6\n",
      "28 -6\n",
      "11 -4\n",
      "12 -4\n",
      "26 -9\n",
      "7 4\n",
      "24 -10\n",
      "23 -8\n",
      "30 -8\n",
      "7 0\n",
      "9 -1\n",
      "10 -1\n",
      "26 -5\n",
      "22 -9\n",
      "6 5\n",
      "7 5\n",
      "23 -6\n",
      "28 -10\n",
      "10 -2\n",
      "11 -1\n",
      "20 -9\n",
      "14 -2\n",
      "29 -7\n",
      "13 -3\n",
      "23 -5\n",
      "24 -8\n",
      "27 -9\n",
      "30 -7\n",
      "28 -5\n",
      "21 -10\n",
      "7 9\n",
      "6 6\n",
      "21 -5\n",
      "27 -10\n",
      "7 2\n",
      "30 -9\n",
      "21 -8\n",
      "22 -7\n",
      "24 -9\n",
      "20 -6\n",
      "6 9\n",
      "29 -5\n",
      "8 -2\n",
      "27 -8\n",
      "30 -5\n",
      "24 -7\n"
     ]
    }
   ],
   "source": [
    "shots = []\n",
    "for shot in ex_solutions_str.split('|'):\n",
    "    x, y = shot.split(',')\n",
    "    print(x, y)\n",
    "    shots.append((x, y))"
   ]
  },
  {
   "cell_type": "code",
   "execution_count": 75,
   "id": "6729b2a9-2337-425b-b6a0-8cea0aa007b4",
   "metadata": {},
   "outputs": [],
   "source": [
    "shots.sort()"
   ]
  },
  {
   "cell_type": "code",
   "execution_count": 76,
   "id": "e5a77a44-df3d-4c37-b06b-c29ca25cf27b",
   "metadata": {},
   "outputs": [
    {
     "data": {
      "text/plain": [
       "[('10', '-1'),\n",
       " ('10', '-2'),\n",
       " ('11', '-1'),\n",
       " ('11', '-2'),\n",
       " ('11', '-3'),\n",
       " ('11', '-4'),\n",
       " ('12', '-2'),\n",
       " ('12', '-3'),\n",
       " ('12', '-4'),\n",
       " ('13', '-2'),\n",
       " ('13', '-3'),\n",
       " ('13', '-4'),\n",
       " ('14', '-2'),\n",
       " ('14', '-3'),\n",
       " ('14', '-4'),\n",
       " ('15', '-2'),\n",
       " ('15', '-3'),\n",
       " ('15', '-4'),\n",
       " ('20', '-10'),\n",
       " ('20', '-5'),\n",
       " ('20', '-6'),\n",
       " ('20', '-7'),\n",
       " ('20', '-8'),\n",
       " ('20', '-9'),\n",
       " ('21', '-10'),\n",
       " ('21', '-5'),\n",
       " ('21', '-6'),\n",
       " ('21', '-7'),\n",
       " ('21', '-8'),\n",
       " ('21', '-9'),\n",
       " ('22', '-10'),\n",
       " ('22', '-5'),\n",
       " ('22', '-6'),\n",
       " ('22', '-7'),\n",
       " ('22', '-8'),\n",
       " ('22', '-9'),\n",
       " ('23', '-10'),\n",
       " ('23', '-5'),\n",
       " ('23', '-6'),\n",
       " ('23', '-7'),\n",
       " ('23', '-8'),\n",
       " ('23', '-9'),\n",
       " ('24', '-10'),\n",
       " ('24', '-5'),\n",
       " ('24', '-6'),\n",
       " ('24', '-7'),\n",
       " ('24', '-8'),\n",
       " ('24', '-9'),\n",
       " ('25', '-10'),\n",
       " ('25', '-5'),\n",
       " ('25', '-6'),\n",
       " ('25', '-7'),\n",
       " ('25', '-8'),\n",
       " ('25', '-9'),\n",
       " ('26', '-10'),\n",
       " ('26', '-5'),\n",
       " ('26', '-6'),\n",
       " ('26', '-7'),\n",
       " ('26', '-8'),\n",
       " ('26', '-9'),\n",
       " ('27', '-10'),\n",
       " ('27', '-5'),\n",
       " ('27', '-6'),\n",
       " ('27', '-7'),\n",
       " ('27', '-8'),\n",
       " ('27', '-9'),\n",
       " ('28', '-10'),\n",
       " ('28', '-5'),\n",
       " ('28', '-6'),\n",
       " ('28', '-7'),\n",
       " ('28', '-8'),\n",
       " ('28', '-9'),\n",
       " ('29', '-10'),\n",
       " ('29', '-5'),\n",
       " ('29', '-6'),\n",
       " ('29', '-7'),\n",
       " ('29', '-8'),\n",
       " ('29', '-9'),\n",
       " ('30', '-10'),\n",
       " ('30', '-5'),\n",
       " ('30', '-6'),\n",
       " ('30', '-7'),\n",
       " ('30', '-8'),\n",
       " ('30', '-9'),\n",
       " ('6', '0'),\n",
       " ('6', '1'),\n",
       " ('6', '2'),\n",
       " ('6', '3'),\n",
       " ('6', '4'),\n",
       " ('6', '5'),\n",
       " ('6', '6'),\n",
       " ('6', '7'),\n",
       " ('6', '8'),\n",
       " ('6', '9'),\n",
       " ('7', '-1'),\n",
       " ('7', '0'),\n",
       " ('7', '1'),\n",
       " ('7', '2'),\n",
       " ('7', '3'),\n",
       " ('7', '4'),\n",
       " ('7', '5'),\n",
       " ('7', '6'),\n",
       " ('7', '7'),\n",
       " ('7', '8'),\n",
       " ('7', '9'),\n",
       " ('8', '-1'),\n",
       " ('8', '-2'),\n",
       " ('8', '0'),\n",
       " ('8', '1'),\n",
       " ('9', '-1'),\n",
       " ('9', '-2'),\n",
       " ('9', '0')]"
      ]
     },
     "execution_count": 76,
     "metadata": {},
     "output_type": "execute_result"
    }
   ],
   "source": [
    "shots"
   ]
  },
  {
   "cell_type": "code",
   "execution_count": 269,
   "id": "207f4d6c-5286-485d-93b2-d16df13de9d1",
   "metadata": {},
   "outputs": [],
   "source": [
    "def x_stepper(step, minx, maxx):\n",
    "    \"\"\"\n",
    "    progressions ending with numbers means steps are exhausted, and thus it end in the\n",
    "    target area\n",
    "    \"\"\"\n",
    "    progression = [] \n",
    "    total = 0\n",
    "    \n",
    "    while total <= maxx and step > 0:\n",
    "        total = total + step\n",
    "        \n",
    "        if total >= minx and total <= maxx:\n",
    "            progression.append(total)\n",
    "            #progression.append(1)\n",
    "        else:\n",
    "            #progression.append(total)\n",
    "            progression.append(0)\n",
    "        \n",
    "        step = step - 1\n",
    "    \n",
    "    return progression"
   ]
  },
  {
   "cell_type": "code",
   "execution_count": 257,
   "id": "9250af8b-9505-402b-8e6e-9250a81afd50",
   "metadata": {},
   "outputs": [],
   "source": [
    "def y_stepper(step, maxy, miny):\n",
    "    progression = []\n",
    "    total = 0\n",
    "        \n",
    "    if step > 0:\n",
    "        # pre steps before source level y\n",
    "        progression = progression + [0 for i in range(step+(step+1))]\n",
    "        \n",
    "        step = (step + 1) * -1  # always goes through source y-level and start first step into negative with incremented 1 from gravity\n",
    "    \n",
    "    while total >= miny:\n",
    "        total = total + step\n",
    "        \n",
    "        if total <= maxy and total >= miny:\n",
    "            #progression.append(total)\n",
    "            progression.append(total)\n",
    "        else:\n",
    "            progression.append(0)\n",
    "\n",
    "        step = step - 1\n",
    "    \n",
    "    return progression"
   ]
  },
  {
   "cell_type": "code",
   "execution_count": 264,
   "id": "f211d3dc-0ae5-484f-a7d5-200ef0a9d89c",
   "metadata": {},
   "outputs": [
    {
     "data": {
      "text/plain": [
       "[0, 0, 0, 0, 0, 0, 0, 0, 0, 0, 0, 0, 0, 0, 0, 0, 0, 0, 0, -10, 0]"
      ]
     },
     "execution_count": 264,
     "metadata": {},
     "output_type": "execute_result"
    }
   ],
   "source": [
    "y_stepper(9, -5, -10)"
   ]
  },
  {
   "cell_type": "code",
   "execution_count": 81,
   "id": "ec7a781e-fbe8-49eb-928a-202b25267672",
   "metadata": {
    "jupyter": {
     "source_hidden": true
    },
    "tags": []
   },
   "outputs": [],
   "source": [
    "def y_stepper(step, minimum=-50):\n",
    "    progression = []\n",
    "    total = 0\n",
    "    while step >= 0:\n",
    "        total = total + step\n",
    "        progression.append(total)\n",
    "\n",
    "        step = step - 1\n",
    "    \n",
    "    step += 1\n",
    "    \n",
    "    \n",
    "    \n",
    "    \n",
    "    return progression"
   ]
  },
  {
   "cell_type": "code",
   "execution_count": 265,
   "id": "780f1588-dcd9-4601-8817-b27940e896e5",
   "metadata": {},
   "outputs": [],
   "source": [
    "y_listings = []\n",
    "\n",
    "# max y is min_y + 1, min is just lowest bound min_y\n",
    "for i in range(-10, 10, 1):\n",
    "    y_listings.append(\n",
    "        (i, y_stepper(i, -5, -10))\n",
    "    )"
   ]
  },
  {
   "cell_type": "code",
   "execution_count": 379,
   "id": "502bb080-c3b5-4fde-90d8-081aa8214f67",
   "metadata": {},
   "outputs": [
    {
     "data": {
      "text/plain": [
       "[(-10, [-10, 0]), (-9, [-9, 0]), (-8, [-8, 0]), (-7, [-7, 0]), (-6, [-6, 0])]"
      ]
     },
     "execution_count": 379,
     "metadata": {},
     "output_type": "execute_result"
    }
   ],
   "source": [
    "y_listings[:5]"
   ]
  },
  {
   "cell_type": "code",
   "execution_count": 267,
   "id": "7eaaa643-4fea-4d54-a5a1-1a0b713cc237",
   "metadata": {},
   "outputs": [],
   "source": [
    "x_listings = []\n",
    "\n",
    "for i in range(31, 0, -1):\n",
    "    x_listings.append(\n",
    "        (i, x_stepper(i, 20, 30))\n",
    "    )"
   ]
  },
  {
   "cell_type": "code",
   "execution_count": 380,
   "id": "ffcf2b1c-ed08-4463-a000-de4604eb42c0",
   "metadata": {},
   "outputs": [
    {
     "data": {
      "text/plain": [
       "[(31, [0]), (30, [30, 0]), (29, [29, 0]), (28, [28, 0]), (27, [27, 0])]"
      ]
     },
     "execution_count": 380,
     "metadata": {},
     "output_type": "execute_result"
    }
   ],
   "source": [
    "x_listings[:5]"
   ]
  },
  {
   "cell_type": "code",
   "execution_count": 273,
   "id": "d5b25654-7cfd-43a9-836a-5f493c6f39c2",
   "metadata": {},
   "outputs": [
    {
     "data": {
      "text/plain": [
       "21"
      ]
     },
     "execution_count": 273,
     "metadata": {},
     "output_type": "execute_result"
    }
   ],
   "source": [
    "len(y_listings[-1][1])"
   ]
  },
  {
   "cell_type": "code",
   "execution_count": 385,
   "id": "f285cd9c-c574-4b88-9c33-bec6c12d96a9",
   "metadata": {
    "collapsed": true,
    "jupyter": {
     "outputs_hidden": true
    },
    "tags": []
   },
   "outputs": [
    {
     "name": "stdout",
     "output_type": "stream",
     "text": [
      "31 [0]\n",
      "----\n",
      "30 [30, 0]\n",
      "30 -10\n",
      "30 -9\n",
      "30 -8\n",
      "30 -7\n",
      "30 -6\n",
      "30 -5\n",
      "----\n",
      "29 [29, 0]\n",
      "29 -10\n",
      "29 -9\n",
      "29 -8\n",
      "29 -7\n",
      "29 -6\n",
      "29 -5\n",
      "----\n",
      "28 [28, 0]\n",
      "28 -10\n",
      "28 -9\n",
      "28 -8\n",
      "28 -7\n",
      "28 -6\n",
      "28 -5\n",
      "----\n",
      "27 [27, 0]\n",
      "27 -10\n",
      "27 -9\n",
      "27 -8\n",
      "27 -7\n",
      "27 -6\n",
      "27 -5\n",
      "----\n",
      "26 [26, 0]\n",
      "26 -10\n",
      "26 -9\n",
      "26 -8\n",
      "26 -7\n",
      "26 -6\n",
      "26 -5\n",
      "----\n",
      "25 [25, 0]\n",
      "25 -10\n",
      "25 -9\n",
      "25 -8\n",
      "25 -7\n",
      "25 -6\n",
      "25 -5\n",
      "----\n",
      "24 [24, 0]\n",
      "24 -10\n",
      "24 -9\n",
      "24 -8\n",
      "24 -7\n",
      "24 -6\n",
      "24 -5\n",
      "----\n",
      "23 [23, 0]\n",
      "23 -10\n",
      "23 -9\n",
      "23 -8\n",
      "23 -7\n",
      "23 -6\n",
      "23 -5\n",
      "----\n",
      "22 [22, 0]\n",
      "22 -10\n",
      "22 -9\n",
      "22 -8\n",
      "22 -7\n",
      "22 -6\n",
      "22 -5\n",
      "----\n",
      "21 [21, 0]\n",
      "21 -10\n",
      "21 -9\n",
      "21 -8\n",
      "21 -7\n",
      "21 -6\n",
      "21 -5\n",
      "----\n",
      "20 [20, 0]\n",
      "20 -10\n",
      "20 -9\n",
      "20 -8\n",
      "20 -7\n",
      "20 -6\n",
      "20 -5\n",
      "----\n",
      "19 [0, 0]\n",
      "----\n",
      "18 [0, 0]\n",
      "----\n",
      "17 [0, 0]\n",
      "----\n",
      "16 [0, 0]\n",
      "----\n",
      "15 [0, 29, 0]\n",
      "15 -4\n",
      "15 -3\n",
      "15 -2\n",
      "----\n",
      "14 [0, 27, 0]\n",
      "14 -4\n",
      "14 -3\n",
      "14 -2\n",
      "----\n",
      "13 [0, 25, 0]\n",
      "13 -4\n",
      "13 -3\n",
      "13 -2\n",
      "----\n",
      "12 [0, 23, 0]\n",
      "12 -4\n",
      "12 -3\n",
      "12 -2\n",
      "----\n",
      "11 [0, 21, 30, 0]\n",
      "11 -4\n",
      "11 -3\n",
      "11 -2\n",
      "11 -1\n",
      "----\n",
      "10 [0, 0, 27, 0]\n",
      "10 -2\n",
      "10 -1\n",
      "----\n",
      "9 [0, 0, 24, 30, 0]\n",
      "9 -2\n",
      "9 -1\n",
      "9 0\n",
      "----\n",
      "8 [0, 0, 21, 26, 30, 0]\n",
      "8 -2\n",
      "8 -1\n",
      "8 0\n",
      "8 1\n",
      "----\n",
      "7 [0, 0, 0, 22, 25, 27, 28]\n",
      "7 -1\n",
      "7 0\n",
      "7 1\n",
      "7 2\n",
      "7 3\n",
      "7 4\n",
      "7 5\n",
      "7 6\n",
      "7 7\n",
      "7 8\n",
      "7 9\n",
      "----\n",
      "6 [0, 0, 0, 0, 20, 21]\n",
      "6 0\n",
      "6 1\n",
      "6 2\n",
      "6 3\n",
      "6 4\n",
      "6 5\n",
      "6 6\n",
      "6 7\n",
      "6 8\n",
      "6 9\n",
      "----\n",
      "5 [0, 0, 0, 0, 0]\n",
      "----\n",
      "4 [0, 0, 0, 0]\n",
      "----\n",
      "3 [0, 0, 0]\n",
      "----\n",
      "2 [0, 0]\n",
      "----\n",
      "1 [0]\n",
      "----\n"
     ]
    }
   ],
   "source": [
    "valids = []\n",
    "\n",
    "for x_key, list_x in x_listings:\n",
    "    print(x_key, list_x)\n",
    "    for y_key, list_y in y_listings:\n",
    "        y_extend = len(list_y)\n",
    "        \n",
    "        if len(list_x) < y_extend:\n",
    "            list_x = extend_x(list_x, y_extend)\n",
    "        \n",
    "        # print(list_x[:y_extend], list_y)\n",
    "        \n",
    "        if comparator(list_x[:y_extend], list_y):\n",
    "            print(x_key, y_key)\n",
    "            valids.append((x_key, y_key))\n",
    "        #comparetor(list_x[:y_extend], list_y)\n",
    "    print('----')"
   ]
  },
  {
   "cell_type": "code",
   "execution_count": 387,
   "id": "2617a4e3-5d7a-4d38-9430-cb82057ecde1",
   "metadata": {},
   "outputs": [
    {
     "data": {
      "text/plain": [
       "112"
      ]
     },
     "execution_count": 387,
     "metadata": {},
     "output_type": "execute_result"
    }
   ],
   "source": [
    "len(valids)"
   ]
  },
  {
   "cell_type": "code",
   "execution_count": 280,
   "id": "d0f1c30b-2670-4d1c-9f75-7d294100b6ce",
   "metadata": {},
   "outputs": [],
   "source": [
    "def extend_x(list_x, y_extend):\n",
    "    x_extend = len(list_x)\n",
    "    remaining = y_extend - x_extend\n",
    "    end = list_x[-1]\n",
    "    \n",
    "    # x ends inside target area\n",
    "    if end != 0:\n",
    "        list_x = list_x + [end for i in range(remaining)]\n",
    "    else:\n",
    "        list_x = list_x + [0 for i in range(remaining)]\n",
    "    \n",
    "    return list_x"
   ]
  },
  {
   "cell_type": "code",
   "execution_count": 282,
   "id": "38f5612b-9041-4435-9d6b-87933f654827",
   "metadata": {},
   "outputs": [
    {
     "data": {
      "text/plain": [
       "[1, 2, 0, 0, 0]"
      ]
     },
     "execution_count": 282,
     "metadata": {},
     "output_type": "execute_result"
    }
   ],
   "source": [
    "extend_x([1,2,0], 5)"
   ]
  },
  {
   "cell_type": "code",
   "execution_count": 364,
   "id": "815b75e5-3405-4131-bcc9-663ec33a3f60",
   "metadata": {},
   "outputs": [],
   "source": [
    "def valid(x, y, area = [20, -10, 30, -5]):\n",
    "    min_x, min_y, max_x, max_y = area\n",
    "    \n",
    "    valid_x = min_x <= x <= max_x\n",
    "    valid_y = min_y <= y <= max_y\n",
    "    \n",
    "    #print(min_x, x, min_x)\n",
    "    #print(min_y, y, min_y)\n",
    "    \n",
    "    if valid_x and valid_y:\n",
    "        return True\n",
    "    else:\n",
    "        return False"
   ]
  },
  {
   "cell_type": "code",
   "execution_count": 365,
   "id": "f4f7e8e5-7a1f-4222-987f-97015b62263c",
   "metadata": {},
   "outputs": [
    {
     "data": {
      "text/plain": [
       "True"
      ]
     },
     "execution_count": 365,
     "metadata": {},
     "output_type": "execute_result"
    }
   ],
   "source": [
    "valid(20, -5, [20, -10, 30, -5])"
   ]
  },
  {
   "cell_type": "code",
   "execution_count": 377,
   "id": "499e14e3-1ce5-47ef-8813-bc88cf667cf0",
   "metadata": {},
   "outputs": [],
   "source": [
    "def comparator(list_x, list_y):\n",
    "    for x, y in zip(list_x, list_y):\n",
    "        if x == 0 and y == 0:\n",
    "            continue\n",
    "        else:\n",
    "            if valid(x, y):\n",
    "                #print('T', x, y)\n",
    "                return True\n",
    "            # else:\n",
    "            #     print('F', x, y)\n",
    "    return False"
   ]
  },
  {
   "cell_type": "code",
   "execution_count": 378,
   "id": "390e95b4-97c0-41a3-8e36-6ef89f27b9eb",
   "metadata": {},
   "outputs": [
    {
     "data": {
      "text/plain": [
       "True"
      ]
     },
     "execution_count": 378,
     "metadata": {},
     "output_type": "execute_result"
    }
   ],
   "source": [
    "comparator([0, 0, 0, 22, 25, 27, 28, 28, 28, 28],[0, 0, 0, 0, 0, 0, 0, 0, -9, 0])"
   ]
  },
  {
   "cell_type": "code",
   "execution_count": 343,
   "id": "e58d380d-e673-4242-b3e9-9febf46994a9",
   "metadata": {},
   "outputs": [
    {
     "data": {
      "text/plain": [
       "True"
      ]
     },
     "execution_count": 343,
     "metadata": {},
     "output_type": "execute_result"
    }
   ],
   "source": [
    "comparator([30, 0, 0, 0][:2], [-5, 0])"
   ]
  },
  {
   "cell_type": "code",
   "execution_count": 358,
   "id": "b597195d-f603-429a-bde4-eb1abcead12b",
   "metadata": {},
   "outputs": [
    {
     "data": {
      "text/plain": [
       "10"
      ]
     },
     "execution_count": 358,
     "metadata": {},
     "output_type": "execute_result"
    }
   ],
   "source": [
    "len([0, 0, 0, 0, 0, 0, 0, 0, -9, 0])"
   ]
  },
  {
   "cell_type": "code",
   "execution_count": 359,
   "id": "c7caf902-f4b9-4564-8763-ef8147a8cbe9",
   "metadata": {},
   "outputs": [
    {
     "data": {
      "text/plain": [
       "10"
      ]
     },
     "execution_count": 359,
     "metadata": {},
     "output_type": "execute_result"
    }
   ],
   "source": [
    "len([0, 0, 0, 22, 25, 27, 28, 28, 28, 28])"
   ]
  },
  {
   "cell_type": "code",
   "execution_count": 366,
   "id": "40506765-48fa-4bc6-a349-1da7f3ecdfd8",
   "metadata": {},
   "outputs": [
    {
     "data": {
      "text/plain": [
       "True"
      ]
     },
     "execution_count": 366,
     "metadata": {},
     "output_type": "execute_result"
    }
   ],
   "source": [
    "valid(29, -9)"
   ]
  },
  {
   "cell_type": "code",
   "execution_count": null,
   "id": "2006b931-5bf0-4e31-8035-a99e60b08172",
   "metadata": {},
   "outputs": [],
   "source": []
  }
 ],
 "metadata": {
  "kernelspec": {
   "display_name": "Python 3 (ipykernel)",
   "language": "python",
   "name": "python3"
  },
  "language_info": {
   "codemirror_mode": {
    "name": "ipython",
    "version": 3
   },
   "file_extension": ".py",
   "mimetype": "text/x-python",
   "name": "python",
   "nbconvert_exporter": "python",
   "pygments_lexer": "ipython3",
   "version": "3.9.13"
  }
 },
 "nbformat": 4,
 "nbformat_minor": 5
}
