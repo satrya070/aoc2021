{
 "cells": [
  {
   "cell_type": "code",
   "execution_count": 1,
   "id": "b1a9001f-8902-4ef2-aed8-e73fed3d557e",
   "metadata": {},
   "outputs": [
    {
     "data": {
      "text/plain": [
       "31"
      ]
     },
     "execution_count": 1,
     "metadata": {},
     "output_type": "execute_result"
    }
   ],
   "source": [
    "len('....................TTTTTTTTTTT')"
   ]
  },
  {
   "cell_type": "code",
   "execution_count": null,
   "id": "c12b026e-32df-44ce-b18d-8a039ca40d26",
   "metadata": {},
   "outputs": [],
   "source": [
    "31, -5"
   ]
  },
  {
   "cell_type": "code",
   "execution_count": null,
   "id": "7248901e-e5e0-48ac-9981-37b44fe7ac62",
   "metadata": {},
   "outputs": [],
   "source": []
  },
  {
   "cell_type": "code",
   "execution_count": 2,
   "id": "48d3f200-6e07-4a6b-9c9e-e6431edf43c8",
   "metadata": {},
   "outputs": [
    {
     "data": {
      "text/plain": [
       "21"
      ]
     },
     "execution_count": 2,
     "metadata": {},
     "output_type": "execute_result"
    }
   ],
   "source": [
    "6+5+4+3+2+1"
   ]
  },
  {
   "cell_type": "code",
   "execution_count": 4,
   "id": "aaf208dd-bbd9-471c-98fd-8048de132d6d",
   "metadata": {},
   "outputs": [
    {
     "data": {
      "text/plain": [
       "11"
      ]
     },
     "execution_count": 4,
     "metadata": {},
     "output_type": "execute_result"
    }
   ],
   "source": [
    "len('TTTTTTTTTTT')"
   ]
  },
  {
   "cell_type": "code",
   "execution_count": 5,
   "id": "279000a2-fd35-4aeb-9b11-79db4763e010",
   "metadata": {},
   "outputs": [
    {
     "data": {
      "text/plain": [
       "21"
      ]
     },
     "execution_count": 5,
     "metadata": {},
     "output_type": "execute_result"
    }
   ],
   "source": [
    "len('....................T')"
   ]
  },
  {
   "cell_type": "code",
   "execution_count": 6,
   "id": "f1233bd0-b0de-44ef-bfe8-058303895b86",
   "metadata": {},
   "outputs": [
    {
     "data": {
      "text/plain": [
       "21"
      ]
     },
     "execution_count": 6,
     "metadata": {},
     "output_type": "execute_result"
    }
   ],
   "source": [
    "len('S........#...........')"
   ]
  },
  {
   "cell_type": "code",
   "execution_count": 7,
   "id": "ecf26631-6acc-416e-8d24-26086e5080c0",
   "metadata": {},
   "outputs": [
    {
     "data": {
      "text/plain": [
       "21"
      ]
     },
     "execution_count": 7,
     "metadata": {},
     "output_type": "execute_result"
    }
   ],
   "source": [
    "len('....................T')"
   ]
  },
  {
   "cell_type": "code",
   "execution_count": 8,
   "id": "dc926219-e728-4c66-9396-81d8b56c45d9",
   "metadata": {},
   "outputs": [
    {
     "data": {
      "text/plain": [
       "22"
      ]
     },
     "execution_count": 8,
     "metadata": {},
     "output_type": "execute_result"
    }
   ],
   "source": [
    "len('....................TT')"
   ]
  },
  {
   "cell_type": "code",
   "execution_count": null,
   "id": "bf3f4766-d030-4601-81fe-acf9539aa269",
   "metadata": {},
   "outputs": [],
   "source": [
    "def cfact(n):\n",
    "    n "
   ]
  },
  {
   "cell_type": "code",
   "execution_count": 9,
   "id": "0f4dbc04-0aa1-48c0-88ff-9e41a0ce2536",
   "metadata": {},
   "outputs": [
    {
     "data": {
      "text/plain": [
       "53"
      ]
     },
     "execution_count": 9,
     "metadata": {},
     "output_type": "execute_result"
    }
   ],
   "source": [
    " +4+3 +2 +1 +0\n",
    "5+9+12+14+15+15"
   ]
  },
  {
   "cell_type": "code",
   "execution_count": 10,
   "id": "60379e03-43fa-4def-9421-da386a4705ef",
   "metadata": {},
   "outputs": [
    {
     "data": {
      "text/plain": [
       "0.5555555555555556"
      ]
     },
     "execution_count": 10,
     "metadata": {},
     "output_type": "execute_result"
    }
   ],
   "source": [
    "22-"
   ]
  },
  {
   "cell_type": "code",
   "execution_count": 11,
   "id": "94668faf-a5b5-4e32-ace5-fb2d3e98c4c8",
   "metadata": {},
   "outputs": [
    {
     "data": {
      "text/plain": [
       "0.75"
      ]
     },
     "execution_count": 11,
     "metadata": {},
     "output_type": "execute_result"
    }
   ],
   "source": [
    "3+5+6"
   ]
  },
  {
   "cell_type": "code",
   "execution_count": 12,
   "id": "8e40a015-4c74-417a-b430-13fda5f8f76a",
   "metadata": {},
   "outputs": [
    {
     "data": {
      "text/plain": [
       "0.8571428571428571"
      ]
     },
     "execution_count": 12,
     "metadata": {},
     "output_type": "execute_result"
    }
   ],
   "source": [
    "12/14"
   ]
  },
  {
   "cell_type": "code",
   "execution_count": 22,
   "id": "3d3649b5-32ac-40cf-aa94-a38631d5472d",
   "metadata": {},
   "outputs": [
    {
     "data": {
      "text/plain": [
       "22"
      ]
     },
     "execution_count": 22,
     "metadata": {},
     "output_type": "execute_result"
    }
   ],
   "source": [
    "len('S....................#')"
   ]
  },
  {
   "cell_type": "code",
   "execution_count": 18,
   "id": "3599c682-7bd2-4f94-943b-ec7d85ce3b5a",
   "metadata": {},
   "outputs": [
    {
     "data": {
      "text/plain": [
       "5"
      ]
     },
     "execution_count": 18,
     "metadata": {},
     "output_type": "execute_result"
    }
   ],
   "source": [
    "9//2 + 1"
   ]
  },
  {
   "cell_type": "code",
   "execution_count": 21,
   "id": "3551b796-73ca-4278-9b7e-014ca6f516dc",
   "metadata": {},
   "outputs": [
    {
     "data": {
      "text/plain": [
       "8.0"
      ]
     },
     "execution_count": 21,
     "metadata": {},
     "output_type": "execute_result"
    }
   ],
   "source": [
    "22-21-19-16-12-7-1?"
   ]
  },
  {
   "cell_type": "code",
   "execution_count": null,
   "id": "ed86ae62-4e0a-4ab1-9f0f-15d1423b8c53",
   "metadata": {},
   "outputs": [],
   "source": [
    "# what if y +1 -1?"
   ]
  },
  {
   "cell_type": "code",
   "execution_count": 53,
   "id": "d9d45f42-63b9-48f1-a92a-0493d0d692d0",
   "metadata": {},
   "outputs": [
    {
     "name": "stdout",
     "output_type": "stream",
     "text": [
      "7 9\n",
      "---- 6 8\n",
      "12 16\n",
      "---- 5 7\n",
      "16 22\n",
      "---- 4 6\n",
      "19 27\n",
      "---- 3 5\n",
      "21 31\n",
      "---- 2 4\n",
      "22 34\n",
      "---- 1 3\n",
      "22 36\n",
      "---- 0 2\n",
      "22 37\n",
      "---- 0 1\n",
      "22 37\n",
      "---- 0 0\n",
      "22 36\n",
      "---- 0 -1\n",
      "22 34\n",
      "---- 0 -2\n",
      "22 31\n",
      "---- 0 -3\n",
      "22 27\n",
      "---- 0 -4\n",
      "22 22\n",
      "---- 0 -5\n",
      "22 16\n",
      "---- 0 -6\n",
      "22 9\n",
      "---- 0 -7\n",
      "22 1\n",
      "---- 0 -8\n",
      "22 -8\n",
      "---- 0 -9\n",
      "22 -18\n",
      "---- 0 -10\n",
      "22 -29\n",
      "---- 0 -11\n",
      "22 -41\n",
      "---- 0 -12\n",
      "22 -54\n",
      "---- 0 -13\n",
      "22 -68\n",
      "---- 0 -14\n",
      "22 -83\n",
      "---- 0 -15\n",
      "22 -99\n",
      "---- 0 -16\n",
      "22 -116\n",
      "---- 0 -17\n",
      "22 -134\n",
      "---- 0 -18\n",
      "22 -153\n",
      "---- 0 -19\n",
      "22 -173\n",
      "---- 0 -20\n",
      "22 -194\n",
      "---- 0 -21\n"
     ]
    }
   ],
   "source": [
    "y_list = []\n",
    "\n",
    "# position calculator\n",
    "x_step = 6\n",
    "y_step = 8\n",
    "\n",
    "x = 1\n",
    "y = 1\n",
    "\n",
    "for i in range(30):\n",
    "    x = x + x_step\n",
    "    y = y + y_step\n",
    "\n",
    "    print(x, y)\n",
    "    print('----',x_step, y_step)\n",
    "    y_list.append(y)\n",
    "    \n",
    "    if x_step > 0:\n",
    "        x_step = x_step - 1\n",
    "    \n",
    "    #if y_step <= 0:\n",
    "    y_step = y_step - 1"
   ]
  },
  {
   "cell_type": "code",
   "execution_count": 50,
   "id": "d605c761-6e2d-4ed1-ac89-e69657f049a7",
   "metadata": {},
   "outputs": [
    {
     "data": {
      "text/plain": [
       "'[11, 20, 28, 35, 41, 46, 50, 53, 55, 56, 56, 55, 53, 50, 46, 41, 35, 28, 20, 11, 1, -10, -22, -35, -49, -64, -80, -97, -115, -134]'"
      ]
     },
     "execution_count": 50,
     "metadata": {},
     "output_type": "execute_result"
    }
   ],
   "source": [
    "# 6,10\n",
    "str(y_list)"
   ]
  },
  {
   "cell_type": "code",
   "execution_count": 52,
   "id": "ad6498c6-f133-4b79-a152-29c3c8a326e9",
   "metadata": {},
   "outputs": [
    {
     "data": {
      "text/plain": [
       "'[10, 18, 25, 31, 36, 40, 43, 45, 46, 46, 45, 43, 40, 36, 31, 25, 18, 10, 1, -9, -20, -32, -45, -59, -74, -90, -107, -125, -144, -164]'"
      ]
     },
     "execution_count": 52,
     "metadata": {},
     "output_type": "execute_result"
    }
   ],
   "source": [
    "# 6, 9\n",
    "str(y_list)"
   ]
  },
  {
   "cell_type": "code",
   "execution_count": 54,
   "id": "f5ed3c32-eea9-44a0-bcfd-69330e88e889",
   "metadata": {},
   "outputs": [
    {
     "data": {
      "text/plain": [
       "'[9, 16, 22, 27, 31, 34, 36, 37, 37, 36, 34, 31, 27, 22, 16, 9, 1, -8, -18, -29, -41, -54, -68, -83, -99, -116, -134, -153, -173, -194]'"
      ]
     },
     "execution_count": 54,
     "metadata": {},
     "output_type": "execute_result"
    }
   ],
   "source": [
    "# 6, 8\n",
    "str(y_list)"
   ]
  },
  {
   "cell_type": "code",
   "execution_count": null,
   "id": "f9334062-198e-45e9-a601-af7ce86e8aea",
   "metadata": {},
   "outputs": [],
   "source": []
  }
 ],
 "metadata": {
  "kernelspec": {
   "display_name": "Python 3 (ipykernel)",
   "language": "python",
   "name": "python3"
  },
  "language_info": {
   "codemirror_mode": {
    "name": "ipython",
    "version": 3
   },
   "file_extension": ".py",
   "mimetype": "text/x-python",
   "name": "python",
   "nbconvert_exporter": "python",
   "pygments_lexer": "ipython3",
   "version": "3.9.13"
  }
 },
 "nbformat": 4,
 "nbformat_minor": 5
}
