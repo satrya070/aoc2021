{
 "cells": [
  {
   "cell_type": "code",
   "execution_count": 1,
   "id": "b1a9001f-8902-4ef2-aed8-e73fed3d557e",
   "metadata": {},
   "outputs": [
    {
     "data": {
      "text/plain": [
       "31"
      ]
     },
     "execution_count": 1,
     "metadata": {},
     "output_type": "execute_result"
    }
   ],
   "source": [
    "len('....................TTTTTTTTTTT')"
   ]
  },
  {
   "cell_type": "code",
   "execution_count": null,
   "id": "c12b026e-32df-44ce-b18d-8a039ca40d26",
   "metadata": {},
   "outputs": [],
   "source": [
    "31, -5"
   ]
  },
  {
   "cell_type": "code",
   "execution_count": null,
   "id": "7248901e-e5e0-48ac-9981-37b44fe7ac62",
   "metadata": {},
   "outputs": [],
   "source": []
  },
  {
   "cell_type": "code",
   "execution_count": 2,
   "id": "48d3f200-6e07-4a6b-9c9e-e6431edf43c8",
   "metadata": {},
   "outputs": [
    {
     "data": {
      "text/plain": [
       "21"
      ]
     },
     "execution_count": 2,
     "metadata": {},
     "output_type": "execute_result"
    }
   ],
   "source": [
    "6+5+4+3+2+1"
   ]
  },
  {
   "cell_type": "code",
   "execution_count": 4,
   "id": "aaf208dd-bbd9-471c-98fd-8048de132d6d",
   "metadata": {},
   "outputs": [
    {
     "data": {
      "text/plain": [
       "11"
      ]
     },
     "execution_count": 4,
     "metadata": {},
     "output_type": "execute_result"
    }
   ],
   "source": [
    "len('TTTTTTTTTTT')"
   ]
  },
  {
   "cell_type": "code",
   "execution_count": 5,
   "id": "279000a2-fd35-4aeb-9b11-79db4763e010",
   "metadata": {},
   "outputs": [
    {
     "data": {
      "text/plain": [
       "21"
      ]
     },
     "execution_count": 5,
     "metadata": {},
     "output_type": "execute_result"
    }
   ],
   "source": [
    "len('....................T')"
   ]
  },
  {
   "cell_type": "code",
   "execution_count": 6,
   "id": "f1233bd0-b0de-44ef-bfe8-058303895b86",
   "metadata": {},
   "outputs": [
    {
     "data": {
      "text/plain": [
       "21"
      ]
     },
     "execution_count": 6,
     "metadata": {},
     "output_type": "execute_result"
    }
   ],
   "source": [
    "len('S........#...........')"
   ]
  },
  {
   "cell_type": "code",
   "execution_count": 7,
   "id": "ecf26631-6acc-416e-8d24-26086e5080c0",
   "metadata": {},
   "outputs": [
    {
     "data": {
      "text/plain": [
       "21"
      ]
     },
     "execution_count": 7,
     "metadata": {},
     "output_type": "execute_result"
    }
   ],
   "source": [
    "len('....................T')"
   ]
  },
  {
   "cell_type": "code",
   "execution_count": 8,
   "id": "dc926219-e728-4c66-9396-81d8b56c45d9",
   "metadata": {},
   "outputs": [
    {
     "data": {
      "text/plain": [
       "22"
      ]
     },
     "execution_count": 8,
     "metadata": {},
     "output_type": "execute_result"
    }
   ],
   "source": [
    "len('....................TT')"
   ]
  },
  {
   "cell_type": "code",
   "execution_count": null,
   "id": "bf3f4766-d030-4601-81fe-acf9539aa269",
   "metadata": {},
   "outputs": [],
   "source": [
    "def cfact(n):\n",
    "    n "
   ]
  },
  {
   "cell_type": "code",
   "execution_count": 9,
   "id": "0f4dbc04-0aa1-48c0-88ff-9e41a0ce2536",
   "metadata": {},
   "outputs": [
    {
     "data": {
      "text/plain": [
       "53"
      ]
     },
     "execution_count": 9,
     "metadata": {},
     "output_type": "execute_result"
    }
   ],
   "source": [
    " +4+3 +2 +1 +0\n",
    "5+9+12+14+15+15"
   ]
  },
  {
   "cell_type": "code",
   "execution_count": 10,
   "id": "60379e03-43fa-4def-9421-da386a4705ef",
   "metadata": {},
   "outputs": [
    {
     "data": {
      "text/plain": [
       "0.5555555555555556"
      ]
     },
     "execution_count": 10,
     "metadata": {},
     "output_type": "execute_result"
    }
   ],
   "source": [
    "22-"
   ]
  },
  {
   "cell_type": "code",
   "execution_count": 11,
   "id": "94668faf-a5b5-4e32-ace5-fb2d3e98c4c8",
   "metadata": {},
   "outputs": [
    {
     "data": {
      "text/plain": [
       "0.75"
      ]
     },
     "execution_count": 11,
     "metadata": {},
     "output_type": "execute_result"
    }
   ],
   "source": [
    "3+5+6"
   ]
  },
  {
   "cell_type": "code",
   "execution_count": 12,
   "id": "8e40a015-4c74-417a-b430-13fda5f8f76a",
   "metadata": {},
   "outputs": [
    {
     "data": {
      "text/plain": [
       "0.8571428571428571"
      ]
     },
     "execution_count": 12,
     "metadata": {},
     "output_type": "execute_result"
    }
   ],
   "source": [
    "12/14"
   ]
  },
  {
   "cell_type": "code",
   "execution_count": 22,
   "id": "3d3649b5-32ac-40cf-aa94-a38631d5472d",
   "metadata": {},
   "outputs": [
    {
     "data": {
      "text/plain": [
       "22"
      ]
     },
     "execution_count": 22,
     "metadata": {},
     "output_type": "execute_result"
    }
   ],
   "source": [
    "len('S....................#')"
   ]
  },
  {
   "cell_type": "code",
   "execution_count": 18,
   "id": "3599c682-7bd2-4f94-943b-ec7d85ce3b5a",
   "metadata": {},
   "outputs": [
    {
     "data": {
      "text/plain": [
       "5"
      ]
     },
     "execution_count": 18,
     "metadata": {},
     "output_type": "execute_result"
    }
   ],
   "source": [
    "9//2 + 1"
   ]
  },
  {
   "cell_type": "code",
   "execution_count": 21,
   "id": "3551b796-73ca-4278-9b7e-014ca6f516dc",
   "metadata": {},
   "outputs": [
    {
     "data": {
      "text/plain": [
       "8.0"
      ]
     },
     "execution_count": 21,
     "metadata": {},
     "output_type": "execute_result"
    }
   ],
   "source": [
    "22-21-19-16-12-7-1?"
   ]
  },
  {
   "cell_type": "code",
   "execution_count": null,
   "id": "ed86ae62-4e0a-4ab1-9f0f-15d1423b8c53",
   "metadata": {},
   "outputs": [],
   "source": [
    "# what if y +1 -1?"
   ]
  },
  {
   "cell_type": "code",
   "execution_count": 53,
   "id": "d9d45f42-63b9-48f1-a92a-0493d0d692d0",
   "metadata": {},
   "outputs": [
    {
     "name": "stdout",
     "output_type": "stream",
     "text": [
      "7 9\n",
      "---- 6 8\n",
      "12 16\n",
      "---- 5 7\n",
      "16 22\n",
      "---- 4 6\n",
      "19 27\n",
      "---- 3 5\n",
      "21 31\n",
      "---- 2 4\n",
      "22 34\n",
      "---- 1 3\n",
      "22 36\n",
      "---- 0 2\n",
      "22 37\n",
      "---- 0 1\n",
      "22 37\n",
      "---- 0 0\n",
      "22 36\n",
      "---- 0 -1\n",
      "22 34\n",
      "---- 0 -2\n",
      "22 31\n",
      "---- 0 -3\n",
      "22 27\n",
      "---- 0 -4\n",
      "22 22\n",
      "---- 0 -5\n",
      "22 16\n",
      "---- 0 -6\n",
      "22 9\n",
      "---- 0 -7\n",
      "22 1\n",
      "---- 0 -8\n",
      "22 -8\n",
      "---- 0 -9\n",
      "22 -18\n",
      "---- 0 -10\n",
      "22 -29\n",
      "---- 0 -11\n",
      "22 -41\n",
      "---- 0 -12\n",
      "22 -54\n",
      "---- 0 -13\n",
      "22 -68\n",
      "---- 0 -14\n",
      "22 -83\n",
      "---- 0 -15\n",
      "22 -99\n",
      "---- 0 -16\n",
      "22 -116\n",
      "---- 0 -17\n",
      "22 -134\n",
      "---- 0 -18\n",
      "22 -153\n",
      "---- 0 -19\n",
      "22 -173\n",
      "---- 0 -20\n",
      "22 -194\n",
      "---- 0 -21\n"
     ]
    }
   ],
   "source": [
    "y_list = []\n",
    "\n",
    "# position calculator\n",
    "x_step = 6\n",
    "y_step = 8\n",
    "\n",
    "x = 1\n",
    "y = 1\n",
    "\n",
    "for i in range(10):\n",
    "    x = x + x_step\n",
    "    y = y + y_step\n",
    "\n",
    "    print(x, y)\n",
    "    print('----',x_step, y_step)\n",
    "    y_list.append(y)\n",
    "    \n",
    "    if x_step > 0:\n",
    "        x_step = x_step - 1\n",
    "    \n",
    "    #if y_step <= 0:\n",
    "    y_step = y_step - 1"
   ]
  },
  {
   "cell_type": "code",
   "execution_count": 50,
   "id": "d605c761-6e2d-4ed1-ac89-e69657f049a7",
   "metadata": {},
   "outputs": [
    {
     "data": {
      "text/plain": [
       "'[11, 20, 28, 35, 41, 46, 50, 53, 55, 56, 56, 55, 53, 50, 46, 41, 35, 28, 20, 11, 1, -10, -22, -35, -49, -64, -80, -97, -115, -134]'"
      ]
     },
     "execution_count": 50,
     "metadata": {},
     "output_type": "execute_result"
    }
   ],
   "source": [
    "# 6,10\n",
    "str(y_list)"
   ]
  },
  {
   "cell_type": "code",
   "execution_count": 52,
   "id": "ad6498c6-f133-4b79-a152-29c3c8a326e9",
   "metadata": {},
   "outputs": [
    {
     "data": {
      "text/plain": [
       "'[10, 18, 25, 31, 36, 40, 43, 45, 46, 46, 45, 43, 40, 36, 31, 25, 18, 10, 1, -9, -20, -32, -45, -59, -74, -90, -107, -125, -144, -164]'"
      ]
     },
     "execution_count": 52,
     "metadata": {},
     "output_type": "execute_result"
    }
   ],
   "source": [
    "# 6, 9\n",
    "str(y_list)"
   ]
  },
  {
   "cell_type": "code",
   "execution_count": 54,
   "id": "f5ed3c32-eea9-44a0-bcfd-69330e88e889",
   "metadata": {},
   "outputs": [
    {
     "data": {
      "text/plain": [
       "'[9, 16, 22, 27, 31, 34, 36, 37, 37, 36, 34, 31, 27, 22, 16, 9, 1, -8, -18, -29, -41, -54, -68, -83, -99, -116, -134, -153, -173, -194]'"
      ]
     },
     "execution_count": 54,
     "metadata": {},
     "output_type": "execute_result"
    }
   ],
   "source": [
    "# 6, 8\n",
    "str(y_list)"
   ]
  },
  {
   "cell_type": "code",
   "execution_count": null,
   "id": "f9334062-198e-45e9-a601-af7ce86e8aea",
   "metadata": {},
   "outputs": [],
   "source": []
  },
  {
   "cell_type": "code",
   "execution_count": 64,
   "id": "b7d8b579-b545-4251-8414-250074839d5e",
   "metadata": {
    "collapsed": true,
    "jupyter": {
     "outputs_hidden": true
    },
    "tags": []
   },
   "outputs": [
    {
     "name": "stdout",
     "output_type": "stream",
     "text": [
      "106\n",
      "211\n",
      "315\n",
      "418\n",
      "520\n",
      "621\n",
      "721\n",
      "820\n",
      "918\n",
      "1015\n",
      "1111\n",
      "1206\n",
      "1300\n",
      "1393\n",
      "1485\n",
      "1576\n",
      "1666\n",
      "1755\n",
      "1843\n",
      "1930\n",
      "2016\n",
      "2101\n",
      "2185\n",
      "2268\n",
      "2350\n",
      "2431\n",
      "2511\n",
      "2590\n",
      "2668\n",
      "2745\n",
      "2821\n",
      "2896\n",
      "2970\n",
      "3043\n",
      "3115\n",
      "3186\n",
      "3256\n",
      "3325\n",
      "3393\n",
      "3460\n",
      "3526\n",
      "3591\n",
      "3655\n",
      "3718\n",
      "3780\n",
      "3841\n",
      "3901\n",
      "3960\n",
      "4018\n",
      "4075\n",
      "4131\n",
      "4186\n",
      "4240\n",
      "4293\n",
      "4345\n",
      "4396\n",
      "4446\n",
      "4495\n",
      "4543\n",
      "4590\n",
      "4636\n",
      "4681\n",
      "4725\n",
      "4768\n",
      "4810\n",
      "4851\n",
      "4891\n",
      "4930\n",
      "4968\n",
      "5005\n",
      "5041\n",
      "5076\n",
      "5110\n",
      "5143\n",
      "5175\n",
      "5206\n",
      "5236\n",
      "5265\n",
      "5293\n",
      "5320\n",
      "5346\n",
      "5371\n",
      "5395\n",
      "5418\n",
      "5440\n",
      "5461\n",
      "5481\n",
      "5500\n",
      "5518\n",
      "5535\n",
      "5551\n",
      "5566\n",
      "5580\n",
      "5593\n",
      "5605\n",
      "5616\n",
      "5626\n",
      "5635\n",
      "5643\n",
      "5650\n",
      "5656\n",
      "5661\n",
      "5665\n",
      "5668\n",
      "5670\n",
      "5671\n",
      "5671\n",
      "5670\n",
      "5668\n",
      "5665\n",
      "5661\n",
      "5656\n",
      "5650\n",
      "5643\n",
      "5635\n",
      "5626\n",
      "5616\n",
      "5605\n",
      "5593\n",
      "5580\n",
      "5566\n",
      "5551\n",
      "5535\n",
      "5518\n",
      "5500\n",
      "5481\n",
      "5461\n",
      "5440\n",
      "5418\n",
      "5395\n",
      "5371\n",
      "5346\n",
      "5320\n",
      "5293\n",
      "5265\n",
      "5236\n",
      "5206\n",
      "5175\n",
      "5143\n",
      "5110\n",
      "5076\n",
      "5041\n",
      "5005\n",
      "4968\n",
      "4930\n",
      "4891\n",
      "4851\n",
      "4810\n",
      "4768\n",
      "4725\n",
      "4681\n",
      "4636\n",
      "4590\n",
      "4543\n",
      "4495\n",
      "4446\n",
      "4396\n",
      "4345\n",
      "4293\n",
      "4240\n",
      "4186\n",
      "4131\n",
      "4075\n",
      "4018\n",
      "3960\n",
      "3901\n",
      "3841\n",
      "3780\n",
      "3718\n",
      "3655\n",
      "3591\n",
      "3526\n",
      "3460\n",
      "3393\n",
      "3325\n",
      "3256\n",
      "3186\n",
      "3115\n",
      "3043\n",
      "2970\n",
      "2896\n",
      "2821\n",
      "2745\n",
      "2668\n",
      "2590\n",
      "2511\n",
      "2431\n",
      "2350\n",
      "2268\n",
      "2185\n",
      "2101\n",
      "2016\n",
      "1930\n",
      "1843\n",
      "1755\n",
      "1666\n",
      "1576\n",
      "1485\n",
      "1393\n",
      "1300\n"
     ]
    }
   ],
   "source": [
    "\n",
    "heights = []\n",
    "step = 106\n",
    "total = 0\n",
    "for i in range(200):\n",
    "    total = total + step\n",
    "    heights.append(total)\n",
    "    print(total)\n",
    "    \n",
    "    step = step - 1"
   ]
  },
  {
   "cell_type": "code",
   "execution_count": 65,
   "id": "646747c8-8a0c-4ce6-9147-7c1803c4422b",
   "metadata": {},
   "outputs": [
    {
     "data": {
      "text/plain": [
       "5671"
      ]
     },
     "execution_count": 65,
     "metadata": {},
     "output_type": "execute_result"
    }
   ],
   "source": [
    "max(heights)"
   ]
  },
  {
   "cell_type": "code",
   "execution_count": null,
   "id": "df494478-d8b8-44de-8b63-9a4b168caeea",
   "metadata": {},
   "outputs": [],
   "source": []
  },
  {
   "cell_type": "markdown",
   "id": "dbb0346f-d2f0-467f-a80d-45357ab988b3",
   "metadata": {},
   "source": [
    "# part 2"
   ]
  },
  {
   "cell_type": "code",
   "execution_count": 68,
   "id": "675a84b9-daa9-4c8d-88bd-06048dd0535e",
   "metadata": {},
   "outputs": [],
   "source": [
    "ex_solutions_str = '23,-10|25,-9|27,-5|29,-6|22,-6|21,-7|9,0|27,-7|24,-5|\\\n",
    "25,-7|26,-6|25,-5|6,8|11,-2|20,-5|29,-10|6,3|28,-7|\\\n",
    "8,0|30,-6|29,-8|20,-10|6,7|6,4|6,1|14,-4|21,-6|\\\n",
    "26,-10|7,-1|7,7|8,-1|21,-9|6,2|20,-7|30,-10|14,-3|\\\n",
    "20,-8|13,-2|7,3|28,-8|29,-9|15,-3|22,-5|26,-8|25,-8|\\\n",
    "25,-6|15,-4|9,-2|15,-2|12,-2|28,-9|12,-3|24,-6|23,-7|\\\n",
    "25,-10|7,8|11,-3|26,-7|7,1|23,-9|6,0|22,-10|27,-6|\\\n",
    "8,1|22,-8|13,-4|7,6|28,-6|11,-4|12,-4|26,-9|7,4|\\\n",
    "24,-10|23,-8|30,-8|7,0|9,-1|10,-1|26,-5|22,-9|6,5|\\\n",
    "7,5|23,-6|28,-10|10,-2|11,-1|20,-9|14,-2|29,-7|13,-3|\\\n",
    "23,-5|24,-8|27,-9|30,-7|28,-5|21,-10|7,9|6,6|21,-5|\\\n",
    "27,-10|7,2|30,-9|21,-8|22,-7|24,-9|20,-6|6,9|29,-5|\\\n",
    "8,-2|27,-8|30,-5|24,-7'"
   ]
  },
  {
   "cell_type": "code",
   "execution_count": 73,
   "id": "e334a010-4a1d-404f-ab8e-55fe992d90f1",
   "metadata": {
    "collapsed": true,
    "jupyter": {
     "outputs_hidden": true
    },
    "tags": []
   },
   "outputs": [
    {
     "name": "stdout",
     "output_type": "stream",
     "text": [
      "23 -10\n",
      "25 -9\n",
      "27 -5\n",
      "29 -6\n",
      "22 -6\n",
      "21 -7\n",
      "9 0\n",
      "27 -7\n",
      "24 -5\n",
      "25 -7\n",
      "26 -6\n",
      "25 -5\n",
      "6 8\n",
      "11 -2\n",
      "20 -5\n",
      "29 -10\n",
      "6 3\n",
      "28 -7\n",
      "8 0\n",
      "30 -6\n",
      "29 -8\n",
      "20 -10\n",
      "6 7\n",
      "6 4\n",
      "6 1\n",
      "14 -4\n",
      "21 -6\n",
      "26 -10\n",
      "7 -1\n",
      "7 7\n",
      "8 -1\n",
      "21 -9\n",
      "6 2\n",
      "20 -7\n",
      "30 -10\n",
      "14 -3\n",
      "20 -8\n",
      "13 -2\n",
      "7 3\n",
      "28 -8\n",
      "29 -9\n",
      "15 -3\n",
      "22 -5\n",
      "26 -8\n",
      "25 -8\n",
      "25 -6\n",
      "15 -4\n",
      "9 -2\n",
      "15 -2\n",
      "12 -2\n",
      "28 -9\n",
      "12 -3\n",
      "24 -6\n",
      "23 -7\n",
      "25 -10\n",
      "7 8\n",
      "11 -3\n",
      "26 -7\n",
      "7 1\n",
      "23 -9\n",
      "6 0\n",
      "22 -10\n",
      "27 -6\n",
      "8 1\n",
      "22 -8\n",
      "13 -4\n",
      "7 6\n",
      "28 -6\n",
      "11 -4\n",
      "12 -4\n",
      "26 -9\n",
      "7 4\n",
      "24 -10\n",
      "23 -8\n",
      "30 -8\n",
      "7 0\n",
      "9 -1\n",
      "10 -1\n",
      "26 -5\n",
      "22 -9\n",
      "6 5\n",
      "7 5\n",
      "23 -6\n",
      "28 -10\n",
      "10 -2\n",
      "11 -1\n",
      "20 -9\n",
      "14 -2\n",
      "29 -7\n",
      "13 -3\n",
      "23 -5\n",
      "24 -8\n",
      "27 -9\n",
      "30 -7\n",
      "28 -5\n",
      "21 -10\n",
      "7 9\n",
      "6 6\n",
      "21 -5\n",
      "27 -10\n",
      "7 2\n",
      "30 -9\n",
      "21 -8\n",
      "22 -7\n",
      "24 -9\n",
      "20 -6\n",
      "6 9\n",
      "29 -5\n",
      "8 -2\n",
      "27 -8\n",
      "30 -5\n",
      "24 -7\n"
     ]
    }
   ],
   "source": [
    "shots = []\n",
    "for shot in ex_solutions_str.split('|'):\n",
    "    x, y = shot.split(',')\n",
    "    print(x, y)\n",
    "    shots.append((x, y))"
   ]
  },
  {
   "cell_type": "code",
   "execution_count": 75,
   "id": "6729b2a9-2337-425b-b6a0-8cea0aa007b4",
   "metadata": {},
   "outputs": [],
   "source": [
    "shots.sort()"
   ]
  },
  {
   "cell_type": "code",
   "execution_count": 76,
   "id": "e5a77a44-df3d-4c37-b06b-c29ca25cf27b",
   "metadata": {},
   "outputs": [
    {
     "data": {
      "text/plain": [
       "[('10', '-1'),\n",
       " ('10', '-2'),\n",
       " ('11', '-1'),\n",
       " ('11', '-2'),\n",
       " ('11', '-3'),\n",
       " ('11', '-4'),\n",
       " ('12', '-2'),\n",
       " ('12', '-3'),\n",
       " ('12', '-4'),\n",
       " ('13', '-2'),\n",
       " ('13', '-3'),\n",
       " ('13', '-4'),\n",
       " ('14', '-2'),\n",
       " ('14', '-3'),\n",
       " ('14', '-4'),\n",
       " ('15', '-2'),\n",
       " ('15', '-3'),\n",
       " ('15', '-4'),\n",
       " ('20', '-10'),\n",
       " ('20', '-5'),\n",
       " ('20', '-6'),\n",
       " ('20', '-7'),\n",
       " ('20', '-8'),\n",
       " ('20', '-9'),\n",
       " ('21', '-10'),\n",
       " ('21', '-5'),\n",
       " ('21', '-6'),\n",
       " ('21', '-7'),\n",
       " ('21', '-8'),\n",
       " ('21', '-9'),\n",
       " ('22', '-10'),\n",
       " ('22', '-5'),\n",
       " ('22', '-6'),\n",
       " ('22', '-7'),\n",
       " ('22', '-8'),\n",
       " ('22', '-9'),\n",
       " ('23', '-10'),\n",
       " ('23', '-5'),\n",
       " ('23', '-6'),\n",
       " ('23', '-7'),\n",
       " ('23', '-8'),\n",
       " ('23', '-9'),\n",
       " ('24', '-10'),\n",
       " ('24', '-5'),\n",
       " ('24', '-6'),\n",
       " ('24', '-7'),\n",
       " ('24', '-8'),\n",
       " ('24', '-9'),\n",
       " ('25', '-10'),\n",
       " ('25', '-5'),\n",
       " ('25', '-6'),\n",
       " ('25', '-7'),\n",
       " ('25', '-8'),\n",
       " ('25', '-9'),\n",
       " ('26', '-10'),\n",
       " ('26', '-5'),\n",
       " ('26', '-6'),\n",
       " ('26', '-7'),\n",
       " ('26', '-8'),\n",
       " ('26', '-9'),\n",
       " ('27', '-10'),\n",
       " ('27', '-5'),\n",
       " ('27', '-6'),\n",
       " ('27', '-7'),\n",
       " ('27', '-8'),\n",
       " ('27', '-9'),\n",
       " ('28', '-10'),\n",
       " ('28', '-5'),\n",
       " ('28', '-6'),\n",
       " ('28', '-7'),\n",
       " ('28', '-8'),\n",
       " ('28', '-9'),\n",
       " ('29', '-10'),\n",
       " ('29', '-5'),\n",
       " ('29', '-6'),\n",
       " ('29', '-7'),\n",
       " ('29', '-8'),\n",
       " ('29', '-9'),\n",
       " ('30', '-10'),\n",
       " ('30', '-5'),\n",
       " ('30', '-6'),\n",
       " ('30', '-7'),\n",
       " ('30', '-8'),\n",
       " ('30', '-9'),\n",
       " ('6', '0'),\n",
       " ('6', '1'),\n",
       " ('6', '2'),\n",
       " ('6', '3'),\n",
       " ('6', '4'),\n",
       " ('6', '5'),\n",
       " ('6', '6'),\n",
       " ('6', '7'),\n",
       " ('6', '8'),\n",
       " ('6', '9'),\n",
       " ('7', '-1'),\n",
       " ('7', '0'),\n",
       " ('7', '1'),\n",
       " ('7', '2'),\n",
       " ('7', '3'),\n",
       " ('7', '4'),\n",
       " ('7', '5'),\n",
       " ('7', '6'),\n",
       " ('7', '7'),\n",
       " ('7', '8'),\n",
       " ('7', '9'),\n",
       " ('8', '-1'),\n",
       " ('8', '-2'),\n",
       " ('8', '0'),\n",
       " ('8', '1'),\n",
       " ('9', '-1'),\n",
       " ('9', '-2'),\n",
       " ('9', '0')]"
      ]
     },
     "execution_count": 76,
     "metadata": {},
     "output_type": "execute_result"
    }
   ],
   "source": [
    "shots"
   ]
  },
  {
   "cell_type": "code",
   "execution_count": 247,
   "id": "207f4d6c-5286-485d-93b2-d16df13de9d1",
   "metadata": {},
   "outputs": [],
   "source": [
    "def x_stepper(step, minx, maxx):\n",
    "    progression = []\n",
    "    total = 0\n",
    "    \n",
    "    while total <= maxx and step > 0:\n",
    "        total = total + step\n",
    "        \n",
    "        if total >= minx and total <= maxx:\n",
    "            progression.append(total)\n",
    "            #progression.append(1)\n",
    "        else:\n",
    "            #progression.append(total)\n",
    "            progression.append(0)\n",
    "        \n",
    "        step = step - 1\n",
    "    \n",
    "    return progression"
   ]
  },
  {
   "cell_type": "code",
   "execution_count": 241,
   "id": "9250af8b-9505-402b-8e6e-9250a81afd50",
   "metadata": {},
   "outputs": [],
   "source": [
    "def y_stepper(step, maxy, miny):\n",
    "    progression = []\n",
    "    total = 0\n",
    "    \n",
    "    print(step)\n",
    "    \n",
    "    if step > 0:\n",
    "        # pre steps before source level y\n",
    "        progression = progression + [0 for i in range(step+(step+1))]\n",
    "        \n",
    "        step = (step + 1) * -1  # always goes through source y-level and start first step into negative with incremented 1 from gravity\n",
    "    \n",
    "    while total >= miny:\n",
    "        total = total + step\n",
    "        \n",
    "        if total <= maxy and total >= miny:\n",
    "            #progression.append(total)\n",
    "            progression.append(total)\n",
    "        else:\n",
    "            progression.append(0)\n",
    "\n",
    "        step = step - 1\n",
    "    \n",
    "    return progression"
   ]
  },
  {
   "cell_type": "code",
   "execution_count": 242,
   "id": "f211d3dc-0ae5-484f-a7d5-200ef0a9d89c",
   "metadata": {},
   "outputs": [
    {
     "name": "stdout",
     "output_type": "stream",
     "text": [
      "3\n"
     ]
    },
    {
     "data": {
      "text/plain": [
       "[0, 0, 0, 0, 0, 0, 0, 0, -9, 0]"
      ]
     },
     "execution_count": 242,
     "metadata": {},
     "output_type": "execute_result"
    }
   ],
   "source": [
    "y_stepper(3, -5, -10)"
   ]
  },
  {
   "cell_type": "code",
   "execution_count": null,
   "id": "f1ec5121-6c60-4ca0-9097-b035c77cf4a5",
   "metadata": {},
   "outputs": [],
   "source": [
    "x"
   ]
  },
  {
   "cell_type": "code",
   "execution_count": 81,
   "id": "ec7a781e-fbe8-49eb-928a-202b25267672",
   "metadata": {
    "jupyter": {
     "source_hidden": true
    },
    "tags": []
   },
   "outputs": [],
   "source": [
    "def y_stepper(step, minimum=-50):\n",
    "    progression = []\n",
    "    total = 0\n",
    "    while step >= 0:\n",
    "        total = total + step\n",
    "        progression.append(total)\n",
    "\n",
    "        step = step - 1\n",
    "    \n",
    "    step += 1\n",
    "    \n",
    "    \n",
    "    \n",
    "    \n",
    "    return progression"
   ]
  },
  {
   "cell_type": "code",
   "execution_count": 251,
   "id": "c0f27f97-19a4-44bd-959a-e0682d541209",
   "metadata": {},
   "outputs": [
    {
     "data": {
      "text/plain": [
       "[0, 0, 0, 0, 20, 21]"
      ]
     },
     "execution_count": 251,
     "metadata": {},
     "output_type": "execute_result"
    }
   ],
   "source": [
    "x_stepper(6, 20, 30)"
   ]
  },
  {
   "cell_type": "code",
   "execution_count": 250,
   "id": "abdfe49f-90e2-4137-96ce-8503712efe71",
   "metadata": {},
   "outputs": [
    {
     "ename": "TypeError",
     "evalue": "x_stepper() missing 2 required positional arguments: 'minx' and 'maxx'",
     "output_type": "error",
     "traceback": [
      "\u001b[0;31m---------------------------------------------------------------------------\u001b[0m",
      "\u001b[0;31mTypeError\u001b[0m                                 Traceback (most recent call last)",
      "Cell \u001b[0;32mIn [250], line 1\u001b[0m\n\u001b[0;32m----> 1\u001b[0m \u001b[43mx_stepper\u001b[49m\u001b[43m(\u001b[49m\u001b[38;5;241;43m9\u001b[39;49m\u001b[43m)\u001b[49m\n",
      "\u001b[0;31mTypeError\u001b[0m: x_stepper() missing 2 required positional arguments: 'minx' and 'maxx'"
     ]
    }
   ],
   "source": [
    "x_stepper(9)"
   ]
  },
  {
   "cell_type": "code",
   "execution_count": null,
   "id": "cae38ae9-d1a7-4413-8b77-e0af76f4a08c",
   "metadata": {},
   "outputs": [],
   "source": [
    "x_ranges = []\n"
   ]
  },
  {
   "cell_type": "code",
   "execution_count": 133,
   "id": "bd11d01a-afa2-495e-80c9-ba47d815bd00",
   "metadata": {},
   "outputs": [
    {
     "data": {
      "text/plain": [
       "[21, 26, 30]"
      ]
     },
     "execution_count": 133,
     "metadata": {},
     "output_type": "execute_result"
    }
   ],
   "source": [
    "x_stepper(8, 20, 30)"
   ]
  },
  {
   "cell_type": "code",
   "execution_count": 148,
   "id": "84013af6-e07b-481a-a813-841bfc6ab644",
   "metadata": {},
   "outputs": [
    {
     "data": {
      "text/plain": [
       "[0, 0, 1, 1, 1, 0, 0, 0]"
      ]
     },
     "execution_count": 148,
     "metadata": {},
     "output_type": "execute_result"
    }
   ],
   "source": [
    "x_stepper(8, 20, 30)"
   ]
  },
  {
   "cell_type": "code",
   "execution_count": 144,
   "id": "328b4677-35c0-4b19-a6bb-e405b7b998e4",
   "metadata": {},
   "outputs": [
    {
     "data": {
      "text/plain": [
       "[-4, -9, -15, -22, -30]"
      ]
     },
     "execution_count": 144,
     "metadata": {},
     "output_type": "execute_result"
    }
   ],
   "source": [
    "y_stepper(3, -5, -10)"
   ]
  },
  {
   "cell_type": "code",
   "execution_count": 143,
   "id": "96594ae1-e7fb-4f55-baff-c5902417651d",
   "metadata": {},
   "outputs": [
    {
     "data": {
      "text/plain": [
       "[0, -1, -3, -6, -10]"
      ]
     },
     "execution_count": 143,
     "metadata": {},
     "output_type": "execute_result"
    }
   ],
   "source": [
    "y_stepper(0, -5, -10)"
   ]
  },
  {
   "cell_type": "code",
   "execution_count": 145,
   "id": "9c234e9f-20c7-44a7-908f-de7000fa744b",
   "metadata": {},
   "outputs": [
    {
     "data": {
      "text/plain": [
       "[-3, -7, -12, -18, -25]"
      ]
     },
     "execution_count": 145,
     "metadata": {},
     "output_type": "execute_result"
    }
   ],
   "source": [
    "y_stepper(2, -5, -10)"
   ]
  },
  {
   "cell_type": "code",
   "execution_count": 160,
   "id": "c9bfade3-a1a8-47ec-876f-e834b0be4a1f",
   "metadata": {},
   "outputs": [
    {
     "data": {
      "text/plain": [
       "[0, 1, 0, 0, 0]"
      ]
     },
     "execution_count": 160,
     "metadata": {},
     "output_type": "execute_result"
    }
   ],
   "source": [
    "y_stepper(2, -5, -10)"
   ]
  },
  {
   "cell_type": "code",
   "execution_count": 167,
   "id": "97dd1add-0dd0-4d4f-8d6b-069a5bec74e2",
   "metadata": {},
   "outputs": [
    {
     "data": {
      "text/plain": [
       "[1, 0]"
      ]
     },
     "execution_count": 167,
     "metadata": {},
     "output_type": "execute_result"
    }
   ],
   "source": [
    "y_stepper(-5, -5, -10)"
   ]
  },
  {
   "cell_type": "code",
   "execution_count": 180,
   "id": "780f1588-dcd9-4601-8817-b27940e896e5",
   "metadata": {},
   "outputs": [],
   "source": [
    "y_listings = []\n",
    "\n",
    "for i in range(-10, 10, 1):\n",
    "    y_listings.append(\n",
    "        (i, y_stepper(i, -5, -10))\n",
    "    )"
   ]
  },
  {
   "cell_type": "code",
   "execution_count": 181,
   "id": "502bb080-c3b5-4fde-90d8-081aa8214f67",
   "metadata": {},
   "outputs": [
    {
     "data": {
      "text/plain": [
       "[(-10, [1, 0]),\n",
       " (-9, [1, 0]),\n",
       " (-8, [1, 0]),\n",
       " (-7, [1, 0]),\n",
       " (-6, [1, 0]),\n",
       " (-5, [1, 0]),\n",
       " (-4, [0, 1, 0]),\n",
       " (-3, [0, 1, 0]),\n",
       " (-2, [0, 1, 1, 0]),\n",
       " (-1, [0, 0, 1, 1, 0]),\n",
       " (0, [0, 0, 0, 1, 1, 0]),\n",
       " (1, [0, 1, 1, 0]),\n",
       " (2, [0, 1, 0]),\n",
       " (3, [0, 1, 0]),\n",
       " (4, [1, 0]),\n",
       " (5, [1, 0]),\n",
       " (6, [1, 0]),\n",
       " (7, [1, 0]),\n",
       " (8, [1, 0]),\n",
       " (9, [1, 0])]"
      ]
     },
     "execution_count": 181,
     "metadata": {},
     "output_type": "execute_result"
    }
   ],
   "source": [
    "y_listings"
   ]
  },
  {
   "cell_type": "code",
   "execution_count": 186,
   "id": "7eaaa643-4fea-4d54-a5a1-1a0b713cc237",
   "metadata": {},
   "outputs": [
    {
     "name": "stdout",
     "output_type": "stream",
     "text": [
      "31\n",
      "30\n",
      "29\n",
      "28\n",
      "27\n",
      "26\n",
      "25\n",
      "24\n",
      "23\n",
      "22\n",
      "21\n",
      "20\n",
      "19\n",
      "18\n",
      "17\n",
      "16\n",
      "15\n",
      "14\n",
      "13\n",
      "12\n",
      "11\n",
      "10\n",
      "9\n",
      "8\n",
      "7\n",
      "6\n",
      "5\n",
      "4\n",
      "3\n",
      "2\n",
      "1\n"
     ]
    }
   ],
   "source": [
    "x_listings = []\n",
    "\n",
    "for i in range(31, 0, -1):\n",
    "    x_listings.append(\n",
    "        (i, x_stepper(i, 20, 30))\n",
    "    )\n",
    "    print(i)"
   ]
  },
  {
   "cell_type": "code",
   "execution_count": 189,
   "id": "b872e2e9-17f6-47e4-afed-0d99c5fad95c",
   "metadata": {},
   "outputs": [
    {
     "data": {
      "text/plain": [
       "[10, 19, 27, 34, 40, 45, 49, 52, 54, 55]"
      ]
     },
     "execution_count": 189,
     "metadata": {},
     "output_type": "execute_result"
    }
   ],
   "source": [
    "x_stepper(10, 20, 30)"
   ]
  },
  {
   "cell_type": "code",
   "execution_count": null,
   "id": "93007357-833a-4453-a029-e8a0d6d3657a",
   "metadata": {},
   "outputs": [],
   "source": [
    "10,19,27"
   ]
  },
  {
   "cell_type": "code",
   "execution_count": 197,
   "id": "766d1297-b494-43ea-88f9-96c620448a1e",
   "metadata": {},
   "outputs": [
    {
     "data": {
      "text/plain": [
       "[0, 0, 1, 0]"
      ]
     },
     "execution_count": 197,
     "metadata": {},
     "output_type": "execute_result"
    }
   ],
   "source": [
    "x_stepper(10, 20, 30)"
   ]
  },
  {
   "cell_type": "code",
   "execution_count": 198,
   "id": "bb4963fa-9801-4b3a-8991-b3aa2a8de6a6",
   "metadata": {},
   "outputs": [
    {
     "ename": "KeyboardInterrupt",
     "evalue": "",
     "output_type": "error",
     "traceback": [
      "\u001b[0;31m---------------------------------------------------------------------------\u001b[0m",
      "\u001b[0;31mKeyboardInterrupt\u001b[0m                         Traceback (most recent call last)",
      "Cell \u001b[0;32mIn [198], line 1\u001b[0m\n\u001b[0;32m----> 1\u001b[0m \u001b[43mx_stepper\u001b[49m\u001b[43m(\u001b[49m\u001b[38;5;241;43m7\u001b[39;49m\u001b[43m,\u001b[49m\u001b[43m \u001b[49m\u001b[38;5;241;43m20\u001b[39;49m\u001b[43m,\u001b[49m\u001b[43m \u001b[49m\u001b[38;5;241;43m30\u001b[39;49m\u001b[43m)\u001b[49m, y_stepper(\u001b[38;5;241m2\u001b[39m, \u001b[38;5;241m-\u001b[39m\u001b[38;5;241m5\u001b[39m, \u001b[38;5;241m-\u001b[39m\u001b[38;5;241m10\u001b[39m)\n",
      "Cell \u001b[0;32mIn [194], line 13\u001b[0m, in \u001b[0;36mx_stepper\u001b[0;34m(step, minx, maxx)\u001b[0m\n\u001b[1;32m     10\u001b[0m         progression\u001b[38;5;241m.\u001b[39mappend(\u001b[38;5;241m1\u001b[39m)\n\u001b[1;32m     11\u001b[0m     \u001b[38;5;28;01melse\u001b[39;00m:\n\u001b[1;32m     12\u001b[0m         \u001b[38;5;66;03m#progression.append(total)\u001b[39;00m\n\u001b[0;32m---> 13\u001b[0m         \u001b[43mprogression\u001b[49m\u001b[38;5;241;43m.\u001b[39;49m\u001b[43mappend\u001b[49m\u001b[43m(\u001b[49m\u001b[38;5;241;43m0\u001b[39;49m\u001b[43m)\u001b[49m\n\u001b[1;32m     15\u001b[0m     step \u001b[38;5;241m=\u001b[39m step \u001b[38;5;241m-\u001b[39m \u001b[38;5;241m1\u001b[39m\n\u001b[1;32m     17\u001b[0m \u001b[38;5;28;01mreturn\u001b[39;00m progression\n",
      "\u001b[0;31mKeyboardInterrupt\u001b[0m: "
     ]
    }
   ],
   "source": [
    "x_stepper(7, 20, 30), y_stepper(2, -5, -10)"
   ]
  },
  {
   "cell_type": "code",
   "execution_count": 205,
   "id": "cdb45f51-6c0e-49bd-9d5a-3409d0381a9c",
   "metadata": {},
   "outputs": [
    {
     "name": "stdout",
     "output_type": "stream",
     "text": [
      "7\n",
      "13\n",
      "18\n",
      "22\n",
      "25\n",
      "27\n",
      "28\n"
     ]
    },
    {
     "data": {
      "text/plain": [
       "[0, 0, 0, 1, 1, 1, 1]"
      ]
     },
     "execution_count": 205,
     "metadata": {},
     "output_type": "execute_result"
    }
   ],
   "source": [
    "x_stepper(7, 20, 30)"
   ]
  },
  {
   "cell_type": "code",
   "execution_count": null,
   "id": "61000269-0b97-4281-b331-1801d7f9c1f8",
   "metadata": {},
   "outputs": [],
   "source": []
  }
 ],
 "metadata": {
  "kernelspec": {
   "display_name": "Python 3 (ipykernel)",
   "language": "python",
   "name": "python3"
  },
  "language_info": {
   "codemirror_mode": {
    "name": "ipython",
    "version": 3
   },
   "file_extension": ".py",
   "mimetype": "text/x-python",
   "name": "python",
   "nbconvert_exporter": "python",
   "pygments_lexer": "ipython3",
   "version": "3.9.13"
  }
 },
 "nbformat": 4,
 "nbformat_minor": 5
}
