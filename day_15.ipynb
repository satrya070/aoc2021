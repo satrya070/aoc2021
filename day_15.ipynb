{
 "cells": [
  {
   "cell_type": "code",
   "execution_count": 1,
   "id": "34229f56-1e72-4772-8334-a130fbefa46b",
   "metadata": {},
   "outputs": [],
   "source": [
    "import numpy as np"
   ]
  },
  {
   "cell_type": "code",
   "execution_count": 66,
   "id": "67b3cdb8-ae10-4de1-b0dd-c3d694cfa9c9",
   "metadata": {},
   "outputs": [],
   "source": [
    "MAP = np.array([\n",
    "    [1,1,6,3,7,5,1,7,4,2],\n",
    "    [1,3,8,1,3,7,3,6,7,2],\n",
    "    [2,1,3,6,5,1,1,3,2,8],\n",
    "    [3,6,9,4,9,3,1,5,6,9],\n",
    "    [7,4,6,3,4,1,7,1,1,1],\n",
    "    [1,3,1,9,1,2,8,1,3,7],\n",
    "    [1,3,5,9,9,1,2,4,2,1],\n",
    "    [3,1,2,5,4,2,1,6,3,9],\n",
    "    [1,2,9,3,1,3,8,5,2,1],\n",
    "    [2,3,1,1,9,4,4,5,8,1]\n",
    "])"
   ]
  },
  {
   "cell_type": "code",
   "execution_count": 67,
   "id": "831c2ef5-afbc-47e6-9022-547263869803",
   "metadata": {},
   "outputs": [
    {
     "data": {
      "text/plain": [
       "array([[1, 1, 6, 3, 7, 5, 1, 7, 4, 2],\n",
       "       [1, 3, 8, 1, 3, 7, 3, 6, 7, 2],\n",
       "       [2, 1, 3, 6, 5, 1, 1, 3, 2, 8],\n",
       "       [3, 6, 9, 4, 9, 3, 1, 5, 6, 9],\n",
       "       [7, 4, 6, 3, 4, 1, 7, 1, 1, 1],\n",
       "       [1, 3, 1, 9, 1, 2, 8, 1, 3, 7],\n",
       "       [1, 3, 5, 9, 9, 1, 2, 4, 2, 1],\n",
       "       [3, 1, 2, 5, 4, 2, 1, 6, 3, 9],\n",
       "       [1, 2, 9, 3, 1, 3, 8, 5, 2, 1],\n",
       "       [2, 3, 1, 1, 9, 4, 4, 5, 8, 1]])"
      ]
     },
     "execution_count": 67,
     "metadata": {},
     "output_type": "execute_result"
    }
   ],
   "source": [
    "MAP"
   ]
  },
  {
   "cell_type": "code",
   "execution_count": 94,
   "id": "394e8376-fcf5-48f1-826e-e9bb9ade4d4c",
   "metadata": {},
   "outputs": [],
   "source": [
    "BOUNDS = 9"
   ]
  },
  {
   "cell_type": "code",
   "execution_count": 280,
   "id": "186500fe-4d35-42d8-bbf3-24f1d2013ba9",
   "metadata": {},
   "outputs": [],
   "source": [
    "class Node:\n",
    "    def __init__(self, pos, g):\n",
    "        self.pos = pos\n",
    "        \n",
    "        self.g = g\n",
    "        self.h = 1000000    \n",
    "        self.distance = self.get_distance(self.pos)\n",
    "        \n",
    "    def get_distance(self, pos):\n",
    "        return MAP[pos]\n",
    "    \n",
    "    def __eq__(self, other_node):\n",
    "        if self.pos == other_node.pos:\n",
    "            return True\n",
    "        return False\n",
    "    \n",
    "    def calc_f(self):\n",
    "        return self.g + self.h\n",
    "    \n",
    "    @property\n",
    "    def f(self):\n",
    "        return self.g + self.h"
   ]
  },
  {
   "cell_type": "code",
   "execution_count": 109,
   "id": "ec9d6111-f4cf-478d-8416-e7cbe710454b",
   "metadata": {},
   "outputs": [],
   "source": [
    "START_NODE = Node((0, 0), 0)\n",
    "END_NODE = Node((9, 9), 1)"
   ]
  },
  {
   "cell_type": "code",
   "execution_count": 91,
   "id": "acc9942d-d6c4-4abe-a476-3dc4fcee9ecb",
   "metadata": {},
   "outputs": [],
   "source": [
    "# node testing\n",
    "a_node = Node((0, 2), 1)\n",
    "b_node = Node((0, 3), 2)"
   ]
  },
  {
   "cell_type": "code",
   "execution_count": 161,
   "id": "5b44a3b1-baa5-4b00-8622-8dfcb5ca0cb0",
   "metadata": {},
   "outputs": [],
   "source": [
    "def get_children(parent_node):\n",
    "    \"\"\"\n",
    "    returns list of children nodes\n",
    "    \"\"\"\n",
    "    r, c = parent_node.pos\n",
    "    \n",
    "    top = (max(r-1, 0), c)\n",
    "    right = (r, min(c+1, BOUNDS))\n",
    "    bottom = (min(r+1, BOUNDS), c)\n",
    "    left = (r, max(c-1, 0))\n",
    "    \n",
    "    children = []\n",
    "    for child_pos in [top, right, bottom, left]:\n",
    "        if child_pos != parent_node.pos:\n",
    "            child_dist = MAP[child_pos]\n",
    "            child = Node(child_pos, parent_node.g + child_dist)\n",
    "            children.append(child)\n",
    "    \n",
    "    return children"
   ]
  },
  {
   "cell_type": "code",
   "execution_count": 107,
   "id": "fbfb0bf8-a571-4d4a-b895-3f689236a629",
   "metadata": {},
   "outputs": [],
   "source": [
    "children = get_children(START_NODE)"
   ]
  },
  {
   "cell_type": "code",
   "execution_count": 108,
   "id": "6976d34a-d1ed-4a88-bce7-b2bc1756e50c",
   "metadata": {},
   "outputs": [
    {
     "name": "stdout",
     "output_type": "stream",
     "text": [
      "(0, 1) 1\n",
      "(1, 0) 1\n"
     ]
    }
   ],
   "source": [
    "for c in children:\n",
    "    print(c.pos, c.g)"
   ]
  },
  {
   "cell_type": "code",
   "execution_count": 110,
   "id": "95277870-ed07-43b5-a6c2-6e866fb906fe",
   "metadata": {},
   "outputs": [],
   "source": [
    "def heuristic(node):\n",
    "    # gets predicted distance between node and end-node\n",
    "    # node \n",
    "    r, c = node.pos\n",
    "    r_, c_ = END_NODE.pos\n",
    "    \n",
    "    # manhatten distance\n",
    "    distance = (r_ - r) + (c_ - c)\n",
    "    \n",
    "    return distance"
   ]
  },
  {
   "cell_type": "code",
   "execution_count": 111,
   "id": "eb3ec53d-54a6-417e-ab93-27fbe0c6c7f3",
   "metadata": {},
   "outputs": [
    {
     "data": {
      "text/plain": [
       "18"
      ]
     },
     "execution_count": 111,
     "metadata": {},
     "output_type": "execute_result"
    }
   ],
   "source": [
    "heuristic(START_NODE)"
   ]
  },
  {
   "cell_type": "code",
   "execution_count": null,
   "id": "34bfeab5-aa98-4edd-a357-2cfa0b274a41",
   "metadata": {},
   "outputs": [],
   "source": []
  },
  {
   "cell_type": "code",
   "execution_count": 282,
   "id": "02394959-5a73-4cb6-8ef4-9d31ecec9f96",
   "metadata": {},
   "outputs": [],
   "source": [
    "# reset\n",
    "oopen = [START_NODE]\n",
    "closed = []"
   ]
  },
  {
   "cell_type": "code",
   "execution_count": 283,
   "id": "feb80390-7fd7-4b48-b837-fb208b3f9460",
   "metadata": {},
   "outputs": [],
   "source": [
    "# algo\n",
    "for i in range(10):\n",
    "    if oopen:\n",
    "        # sort/loop through all nodes open nodes and get lowest f\n",
    "        oopen.sort(key=lambda x: x.f, reverse=True)\n",
    "        current_node = oopen.pop()\n",
    "        closed.append(current_node)\n",
    "\n",
    "        # endgame\n",
    "        if current_node == END_NODE:\n",
    "            print(found)\n",
    "            break\n",
    "\n",
    "        # handle children\n",
    "        children = get_children(current_node)\n",
    "\n",
    "        for child in children:\n",
    "\n",
    "            # skip closed\n",
    "            for node in closed:\n",
    "                if child == node:\n",
    "                    break\n",
    "\n",
    "            # update G if in open\n",
    "            for node in oopen:\n",
    "                if child == node:\n",
    "                    if child.g < node.g:\n",
    "                        node.g = child.g\n",
    "                        \n",
    "                        \n",
    "                    break\n",
    "            else:\n",
    "                # child.f = child.g + heuristic(child) # if no child found\n",
    "                oopen.append(child)"
   ]
  },
  {
   "cell_type": "code",
   "execution_count": 216,
   "id": "c56a0d02-098d-4be1-9e84-59386937e33c",
   "metadata": {},
   "outputs": [
    {
     "name": "stdout",
     "output_type": "stream",
     "text": [
      "add new child\n"
     ]
    }
   ],
   "source": [
    "# for c in range(3):\n",
    "for i in range(3):\n",
    "    if i == 5:\n",
    "        print('child in there')\n",
    "        break\n",
    "else:\n",
    "    print('add new child')"
   ]
  },
  {
   "cell_type": "code",
   "execution_count": 191,
   "id": "be501826-c243-4b87-8ce1-6daf9e4101ac",
   "metadata": {},
   "outputs": [
    {
     "data": {
      "text/plain": [
       "22"
      ]
     },
     "execution_count": 191,
     "metadata": {},
     "output_type": "execute_result"
    }
   ],
   "source": [
    "oopen"
   ]
  },
  {
   "cell_type": "code",
   "execution_count": 288,
   "id": "feaf646f-63d2-434b-9d55-69b7d09141bc",
   "metadata": {},
   "outputs": [
    {
     "name": "stdout",
     "output_type": "stream",
     "text": [
      "(0, 0) 1000000\n",
      "(1, 0) 1000001\n",
      "(0, 1) 1000001\n",
      "(0, 0) 1000002\n",
      "(1, 0) 1000003\n",
      "(0, 1) 1000003\n",
      "(2, 0) 1000003\n",
      "(2, 1) 1000004\n",
      "(1, 0) 1000004\n",
      "(0, 0) 1000004\n"
     ]
    }
   ],
   "source": [
    "for c in closed:\n",
    "    print(c.pos, c.f)\n"
   ]
  },
  {
   "cell_type": "code",
   "execution_count": 286,
   "id": "59de89b9-23d2-4a03-b78c-55e02bc68867",
   "metadata": {},
   "outputs": [
    {
     "name": "stdout",
     "output_type": "stream",
     "text": [
      "(3, 1) 1000010\n",
      "(0, 2) 1000007\n",
      "(2, 2) 1000007\n",
      "(3, 0) 1000006\n",
      "(2, 0) 1000006\n",
      "(1, 1) 1000004\n",
      "(0, 1) 1000005\n",
      "(1, 0) 1000005\n"
     ]
    }
   ],
   "source": [
    "for o in oopen:\n",
    "    print(o.pos, o.f)"
   ]
  },
  {
   "cell_type": "code",
   "execution_count": 287,
   "id": "7c3b61a2-e87f-492c-b696-a2c4bc8bc6ea",
   "metadata": {},
   "outputs": [
    {
     "data": {
      "text/plain": [
       "((0, 0), 1000004)"
      ]
     },
     "execution_count": 287,
     "metadata": {},
     "output_type": "execute_result"
    }
   ],
   "source": [
    "current_node.pos, current_node.f"
   ]
  },
  {
   "cell_type": "code",
   "execution_count": 277,
   "id": "4736cfc6-ab8b-45d0-b26b-988df00cee65",
   "metadata": {},
   "outputs": [],
   "source": [
    "noda = Node((1, 2), 1000)"
   ]
  },
  {
   "cell_type": "code",
   "execution_count": 278,
   "id": "5c1bd7ef-c2f8-4b95-81ff-fff84d70602d",
   "metadata": {},
   "outputs": [
    {
     "data": {
      "text/plain": [
       "(1000, 1000000)"
      ]
     },
     "execution_count": 278,
     "metadata": {},
     "output_type": "execute_result"
    }
   ],
   "source": [
    "noda.g, noda.h"
   ]
  },
  {
   "cell_type": "code",
   "execution_count": 279,
   "id": "aa02b927-84c3-4ef7-9549-858173840b09",
   "metadata": {},
   "outputs": [
    {
     "data": {
      "text/plain": [
       "1001000"
      ]
     },
     "execution_count": 279,
     "metadata": {},
     "output_type": "execute_result"
    }
   ],
   "source": [
    "noda.f"
   ]
  },
  {
   "cell_type": "code",
   "execution_count": 273,
   "id": "6f043805-3e31-4aaa-9728-68264d54ca31",
   "metadata": {},
   "outputs": [],
   "source": [
    "noda.g = noda.g + 10"
   ]
  },
  {
   "cell_type": "code",
   "execution_count": 274,
   "id": "20e4d146-71b3-47bf-a269-6d37a8959a41",
   "metadata": {},
   "outputs": [
    {
     "data": {
      "text/plain": [
       "1010"
      ]
     },
     "execution_count": 274,
     "metadata": {},
     "output_type": "execute_result"
    }
   ],
   "source": [
    "noda.g"
   ]
  },
  {
   "cell_type": "code",
   "execution_count": 275,
   "id": "000a94f4-a7dc-4e04-8324-ef992df9bb5b",
   "metadata": {},
   "outputs": [
    {
     "data": {
      "text/plain": [
       "1001010"
      ]
     },
     "execution_count": 275,
     "metadata": {},
     "output_type": "execute_result"
    }
   ],
   "source": [
    "noda.f"
   ]
  },
  {
   "cell_type": "code",
   "execution_count": null,
   "id": "c4c283b6-4d7d-46fe-bf28-02b5662e9312",
   "metadata": {},
   "outputs": [],
   "source": []
  }
 ],
 "metadata": {
  "kernelspec": {
   "display_name": "Python 3 (ipykernel)",
   "language": "python",
   "name": "python3"
  },
  "language_info": {
   "codemirror_mode": {
    "name": "ipython",
    "version": 3
   },
   "file_extension": ".py",
   "mimetype": "text/x-python",
   "name": "python",
   "nbconvert_exporter": "python",
   "pygments_lexer": "ipython3",
   "version": "3.9.13"
  }
 },
 "nbformat": 4,
 "nbformat_minor": 5
}
