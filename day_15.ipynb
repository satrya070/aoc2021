{
 "cells": [
  {
   "cell_type": "code",
   "execution_count": 1,
   "id": "34229f56-1e72-4772-8334-a130fbefa46b",
   "metadata": {},
   "outputs": [],
   "source": [
    "import numpy as np"
   ]
  },
  {
   "cell_type": "code",
   "execution_count": 66,
   "id": "67b3cdb8-ae10-4de1-b0dd-c3d694cfa9c9",
   "metadata": {},
   "outputs": [],
   "source": [
    "MAP = np.array([\n",
    "    [1,1,6,3,7,5,1,7,4,2],\n",
    "    [1,3,8,1,3,7,3,6,7,2],\n",
    "    [2,1,3,6,5,1,1,3,2,8],\n",
    "    [3,6,9,4,9,3,1,5,6,9],\n",
    "    [7,4,6,3,4,1,7,1,1,1],\n",
    "    [1,3,1,9,1,2,8,1,3,7],\n",
    "    [1,3,5,9,9,1,2,4,2,1],\n",
    "    [3,1,2,5,4,2,1,6,3,9],\n",
    "    [1,2,9,3,1,3,8,5,2,1],\n",
    "    [2,3,1,1,9,4,4,5,8,1]\n",
    "])"
   ]
  },
  {
   "cell_type": "code",
   "execution_count": 67,
   "id": "831c2ef5-afbc-47e6-9022-547263869803",
   "metadata": {},
   "outputs": [
    {
     "data": {
      "text/plain": [
       "array([[1, 1, 6, 3, 7, 5, 1, 7, 4, 2],\n",
       "       [1, 3, 8, 1, 3, 7, 3, 6, 7, 2],\n",
       "       [2, 1, 3, 6, 5, 1, 1, 3, 2, 8],\n",
       "       [3, 6, 9, 4, 9, 3, 1, 5, 6, 9],\n",
       "       [7, 4, 6, 3, 4, 1, 7, 1, 1, 1],\n",
       "       [1, 3, 1, 9, 1, 2, 8, 1, 3, 7],\n",
       "       [1, 3, 5, 9, 9, 1, 2, 4, 2, 1],\n",
       "       [3, 1, 2, 5, 4, 2, 1, 6, 3, 9],\n",
       "       [1, 2, 9, 3, 1, 3, 8, 5, 2, 1],\n",
       "       [2, 3, 1, 1, 9, 4, 4, 5, 8, 1]])"
      ]
     },
     "execution_count": 67,
     "metadata": {},
     "output_type": "execute_result"
    }
   ],
   "source": [
    "MAP"
   ]
  },
  {
   "cell_type": "code",
   "execution_count": 8,
   "id": "2bd7ec3f-9a1b-4111-8bbe-2f49f0293ee0",
   "metadata": {
    "collapsed": true,
    "jupyter": {
     "outputs_hidden": true
    },
    "tags": []
   },
   "outputs": [
    {
     "data": {
      "text/plain": [
       "array([[[0, 0, 0, 0, 0, 0, 0, 0, 0, 0],\n",
       "        [1, 1, 1, 1, 1, 1, 1, 1, 1, 1],\n",
       "        [2, 2, 2, 2, 2, 2, 2, 2, 2, 2],\n",
       "        [3, 3, 3, 3, 3, 3, 3, 3, 3, 3],\n",
       "        [4, 4, 4, 4, 4, 4, 4, 4, 4, 4],\n",
       "        [5, 5, 5, 5, 5, 5, 5, 5, 5, 5],\n",
       "        [6, 6, 6, 6, 6, 6, 6, 6, 6, 6],\n",
       "        [7, 7, 7, 7, 7, 7, 7, 7, 7, 7],\n",
       "        [8, 8, 8, 8, 8, 8, 8, 8, 8, 8],\n",
       "        [9, 9, 9, 9, 9, 9, 9, 9, 9, 9]],\n",
       "\n",
       "       [[0, 1, 2, 3, 4, 5, 6, 7, 8, 9],\n",
       "        [0, 1, 2, 3, 4, 5, 6, 7, 8, 9],\n",
       "        [0, 1, 2, 3, 4, 5, 6, 7, 8, 9],\n",
       "        [0, 1, 2, 3, 4, 5, 6, 7, 8, 9],\n",
       "        [0, 1, 2, 3, 4, 5, 6, 7, 8, 9],\n",
       "        [0, 1, 2, 3, 4, 5, 6, 7, 8, 9],\n",
       "        [0, 1, 2, 3, 4, 5, 6, 7, 8, 9],\n",
       "        [0, 1, 2, 3, 4, 5, 6, 7, 8, 9],\n",
       "        [0, 1, 2, 3, 4, 5, 6, 7, 8, 9],\n",
       "        [0, 1, 2, 3, 4, 5, 6, 7, 8, 9]]])"
      ]
     },
     "execution_count": 8,
     "metadata": {},
     "output_type": "execute_result"
    }
   ],
   "source": [
    "np.indices((10, 10))"
   ]
  },
  {
   "cell_type": "code",
   "execution_count": 10,
   "id": "311d2d55-837c-4224-b590-f6957d9726e0",
   "metadata": {
    "collapsed": true,
    "jupyter": {
     "outputs_hidden": true
    },
    "tags": []
   },
   "outputs": [
    {
     "name": "stdout",
     "output_type": "stream",
     "text": [
      "0 - 0\n",
      "0 - 1\n",
      "0 - 2\n",
      "0 - 3\n",
      "0 - 4\n",
      "0 - 5\n",
      "0 - 6\n",
      "0 - 7\n",
      "0 - 8\n",
      "0 - 9\n",
      "1 - 0\n",
      "1 - 1\n",
      "1 - 2\n",
      "1 - 3\n",
      "1 - 4\n",
      "1 - 5\n",
      "1 - 6\n",
      "1 - 7\n",
      "1 - 8\n",
      "1 - 9\n",
      "2 - 0\n",
      "2 - 1\n",
      "2 - 2\n",
      "2 - 3\n",
      "2 - 4\n",
      "2 - 5\n",
      "2 - 6\n",
      "2 - 7\n",
      "2 - 8\n",
      "2 - 9\n",
      "3 - 0\n",
      "3 - 1\n",
      "3 - 2\n",
      "3 - 3\n",
      "3 - 4\n",
      "3 - 5\n",
      "3 - 6\n",
      "3 - 7\n",
      "3 - 8\n",
      "3 - 9\n",
      "4 - 0\n",
      "4 - 1\n",
      "4 - 2\n",
      "4 - 3\n",
      "4 - 4\n",
      "4 - 5\n",
      "4 - 6\n",
      "4 - 7\n",
      "4 - 8\n",
      "4 - 9\n",
      "5 - 0\n",
      "5 - 1\n",
      "5 - 2\n",
      "5 - 3\n",
      "5 - 4\n",
      "5 - 5\n",
      "5 - 6\n",
      "5 - 7\n",
      "5 - 8\n",
      "5 - 9\n",
      "6 - 0\n",
      "6 - 1\n",
      "6 - 2\n",
      "6 - 3\n",
      "6 - 4\n",
      "6 - 5\n",
      "6 - 6\n",
      "6 - 7\n",
      "6 - 8\n",
      "6 - 9\n",
      "7 - 0\n",
      "7 - 1\n",
      "7 - 2\n",
      "7 - 3\n",
      "7 - 4\n",
      "7 - 5\n",
      "7 - 6\n",
      "7 - 7\n",
      "7 - 8\n",
      "7 - 9\n",
      "8 - 0\n",
      "8 - 1\n",
      "8 - 2\n",
      "8 - 3\n",
      "8 - 4\n",
      "8 - 5\n",
      "8 - 6\n",
      "8 - 7\n",
      "8 - 8\n",
      "8 - 9\n",
      "9 - 0\n",
      "9 - 1\n",
      "9 - 2\n",
      "9 - 3\n",
      "9 - 4\n",
      "9 - 5\n",
      "9 - 6\n",
      "9 - 7\n",
      "9 - 8\n",
      "9 - 9\n"
     ]
    }
   ],
   "source": [
    "for i in range(10):\n",
    "    for j in range(10):\n",
    "        print(i, '-', j)"
   ]
  },
  {
   "cell_type": "code",
   "execution_count": 94,
   "id": "394e8376-fcf5-48f1-826e-e9bb9ade4d4c",
   "metadata": {},
   "outputs": [],
   "source": [
    "BOUNDS = 9"
   ]
  },
  {
   "cell_type": "code",
   "execution_count": 88,
   "id": "186500fe-4d35-42d8-bbf3-24f1d2013ba9",
   "metadata": {},
   "outputs": [],
   "source": [
    "class Node:\n",
    "    def __init__(self, pos, g):\n",
    "        self.pos = pos\n",
    "        \n",
    "        self.g = g\n",
    "        self.f = 1000000\n",
    "        self.h = 1000000\n",
    "    \n",
    "        self.distance = self.get_distance(self.pos)\n",
    "        \n",
    "    def get_distance(self, pos):\n",
    "        return MAP[pos]\n",
    "    \n",
    "    def __eq__(self, other_node):\n",
    "        if self.pos == other_node.pos:\n",
    "            return True\n",
    "        return False"
   ]
  },
  {
   "cell_type": "code",
   "execution_count": 97,
   "id": "ec9d6111-f4cf-478d-8416-e7cbe710454b",
   "metadata": {},
   "outputs": [],
   "source": [
    "START_NODE = Node((0, 2), 0)"
   ]
  },
  {
   "cell_type": "code",
   "execution_count": 91,
   "id": "acc9942d-d6c4-4abe-a476-3dc4fcee9ecb",
   "metadata": {},
   "outputs": [],
   "source": [
    "# node testing\n",
    "a_node = Node((0, 2), 1)\n",
    "b_node = Node((0, 3), 2)"
   ]
  },
  {
   "cell_type": "code",
   "execution_count": 96,
   "id": "5b44a3b1-baa5-4b00-8622-8dfcb5ca0cb0",
   "metadata": {},
   "outputs": [],
   "source": [
    "def get_children(parent_node):\n",
    "    \"\"\"\n",
    "    returns list of children nodes\n",
    "    \"\"\"\n",
    "    r, c = parent_node.pos\n",
    "    \n",
    "    top = (max(r-1, 0), c)\n",
    "    right = (r, min(c+1, BOUNDS))\n",
    "    bottom = (min(r+1, BOUNDS), c)\n",
    "    left = (r, max(c-1, 0))\n",
    "    \n",
    "    children = []\n",
    "    for child_pos in [top, right, bottom, left]:\n",
    "        if child_pos != parent_node.pos:\n",
    "            child_dist = MAP[child_pos]\n",
    "            child = Node(child_pos, parent_node.g + child_dist)\n",
    "            children.append(child)\n",
    "    \n",
    "    return children"
   ]
  },
  {
   "cell_type": "code",
   "execution_count": 101,
   "id": "fbfb0bf8-a571-4d4a-b895-3f689236a629",
   "metadata": {},
   "outputs": [],
   "source": [
    "children = get_children(START_NODE)"
   ]
  },
  {
   "cell_type": "code",
   "execution_count": 105,
   "id": "6976d34a-d1ed-4a88-bce7-b2bc1756e50c",
   "metadata": {},
   "outputs": [
    {
     "name": "stdout",
     "output_type": "stream",
     "text": [
      "(0, 3) 3\n",
      "(1, 2) 8\n",
      "(0, 1) 1\n"
     ]
    }
   ],
   "source": [
    "for c in children:\n",
    "    print(c.pos, c.g)"
   ]
  },
  {
   "cell_type": "code",
   "execution_count": 38,
   "id": "95277870-ed07-43b5-a6c2-6e866fb906fe",
   "metadata": {},
   "outputs": [],
   "source": [
    "def heuristic(node, end_node):\n",
    "    # gets predicted distance between node and end-node\n",
    "    # node \n",
    "    r, c = node\n",
    "    r_, c_ = end_node\n",
    "    \n",
    "    # manhatten distance\n",
    "    distance = (r_ - r) + (c_ - c)\n",
    "    \n",
    "    return distance"
   ]
  },
  {
   "cell_type": "code",
   "execution_count": null,
   "id": "58cfbce6-cbb4-4a71-827f-bde104c2bc0b",
   "metadata": {},
   "outputs": [],
   "source": []
  },
  {
   "cell_type": "code",
   "execution_count": 43,
   "id": "02394959-5a73-4cb6-8ef4-9d31ecec9f96",
   "metadata": {},
   "outputs": [],
   "source": [
    "oopen = []\n",
    "closed = []"
   ]
  },
  {
   "cell_type": "code",
   "execution_count": null,
   "id": "feb80390-7fd7-4b48-b837-fb208b3f9460",
   "metadata": {},
   "outputs": [],
   "source": [
    "# algo\n",
    "if oopen:\n",
    "    # sort/loop through all nodes open nodes and get lowest f\n",
    "    lowest_f = 0\n",
    "    \n",
    "    # pop node with lowest f\n",
    "    current_node = node\n",
    "    \n",
    "    # update lists\n",
    "    oopen.pop(currentnode)\n",
    "    closed.insert(current_node)\n",
    "    \n",
    "    # endgame\n",
    "    if current_node == end_node:\n",
    "        print(found)\n",
    "    \n",
    "    # handle children\n",
    "    children = get_neighbors(current_node)\n",
    "    \n",
    "    for child in children:\n",
    "        if child in closed:\n",
    "            continue\n",
    "        \n",
    "        if child in oopen and child.g > oopen\n",
    "            continue\n",
    "        \n",
    "        child.f = child.g + child.h\n",
    "        \n",
    "        oopen.append(child)\n",
    "    "
   ]
  },
  {
   "cell_type": "code",
   "execution_count": null,
   "id": "be501826-c243-4b87-8ce1-6daf9e4101ac",
   "metadata": {},
   "outputs": [],
   "source": []
  }
 ],
 "metadata": {
  "kernelspec": {
   "display_name": "Python 3 (ipykernel)",
   "language": "python",
   "name": "python3"
  },
  "language_info": {
   "codemirror_mode": {
    "name": "ipython",
    "version": 3
   },
   "file_extension": ".py",
   "mimetype": "text/x-python",
   "name": "python",
   "nbconvert_exporter": "python",
   "pygments_lexer": "ipython3",
   "version": "3.9.13"
  }
 },
 "nbformat": 4,
 "nbformat_minor": 5
}
