{
 "cells": [
  {
   "cell_type": "code",
   "execution_count": 1,
   "id": "34229f56-1e72-4772-8334-a130fbefa46b",
   "metadata": {},
   "outputs": [],
   "source": [
    "import numpy as np"
   ]
  },
  {
   "cell_type": "code",
   "execution_count": 66,
   "id": "67b3cdb8-ae10-4de1-b0dd-c3d694cfa9c9",
   "metadata": {},
   "outputs": [],
   "source": [
    "MAP = np.array([\n",
    "    [1,1,6,3,7,5,1,7,4,2],\n",
    "    [1,3,8,1,3,7,3,6,7,2],\n",
    "    [2,1,3,6,5,1,1,3,2,8],\n",
    "    [3,6,9,4,9,3,1,5,6,9],\n",
    "    [7,4,6,3,4,1,7,1,1,1],\n",
    "    [1,3,1,9,1,2,8,1,3,7],\n",
    "    [1,3,5,9,9,1,2,4,2,1],\n",
    "    [3,1,2,5,4,2,1,6,3,9],\n",
    "    [1,2,9,3,1,3,8,5,2,1],\n",
    "    [2,3,1,1,9,4,4,5,8,1]\n",
    "])"
   ]
  },
  {
   "cell_type": "code",
   "execution_count": 67,
   "id": "831c2ef5-afbc-47e6-9022-547263869803",
   "metadata": {},
   "outputs": [
    {
     "data": {
      "text/plain": [
       "array([[1, 1, 6, 3, 7, 5, 1, 7, 4, 2],\n",
       "       [1, 3, 8, 1, 3, 7, 3, 6, 7, 2],\n",
       "       [2, 1, 3, 6, 5, 1, 1, 3, 2, 8],\n",
       "       [3, 6, 9, 4, 9, 3, 1, 5, 6, 9],\n",
       "       [7, 4, 6, 3, 4, 1, 7, 1, 1, 1],\n",
       "       [1, 3, 1, 9, 1, 2, 8, 1, 3, 7],\n",
       "       [1, 3, 5, 9, 9, 1, 2, 4, 2, 1],\n",
       "       [3, 1, 2, 5, 4, 2, 1, 6, 3, 9],\n",
       "       [1, 2, 9, 3, 1, 3, 8, 5, 2, 1],\n",
       "       [2, 3, 1, 1, 9, 4, 4, 5, 8, 1]])"
      ]
     },
     "execution_count": 67,
     "metadata": {},
     "output_type": "execute_result"
    }
   ],
   "source": [
    "MAP"
   ]
  },
  {
   "cell_type": "code",
   "execution_count": 94,
   "id": "394e8376-fcf5-48f1-826e-e9bb9ade4d4c",
   "metadata": {},
   "outputs": [],
   "source": [
    "BOUNDS = 9"
   ]
  },
  {
   "cell_type": "code",
   "execution_count": 339,
   "id": "186500fe-4d35-42d8-bbf3-24f1d2013ba9",
   "metadata": {},
   "outputs": [],
   "source": [
    "class Node:\n",
    "    def __init__(self, pos, g):\n",
    "        self.pos = pos\n",
    "        \n",
    "        self.g = g\n",
    "        self.h = heuristic(self.pos)    \n",
    "        self.distance = self.get_distance(self.pos)\n",
    "        \n",
    "    def get_distance(self, pos):\n",
    "        return MAP[pos]\n",
    "    \n",
    "    def __eq__(self, other_node):\n",
    "        if self.pos == other_node.pos:\n",
    "            return True\n",
    "        return False\n",
    "    \n",
    "    def calc_f(self):\n",
    "        return self.g + self.h\n",
    "    \n",
    "    @property\n",
    "    def f(self):\n",
    "        return self.g + self.h"
   ]
  },
  {
   "cell_type": "code",
   "execution_count": 324,
   "id": "ec9d6111-f4cf-478d-8416-e7cbe710454b",
   "metadata": {},
   "outputs": [],
   "source": [
    "START_NODE = Node((0, 0), 0)\n",
    "END_NODE = Node((9, 9), 1)"
   ]
  },
  {
   "cell_type": "code",
   "execution_count": 91,
   "id": "acc9942d-d6c4-4abe-a476-3dc4fcee9ecb",
   "metadata": {},
   "outputs": [],
   "source": [
    "# node testing\n",
    "a_node = Node((0, 2), 1)\n",
    "b_node = Node((0, 3), 2)"
   ]
  },
  {
   "cell_type": "code",
   "execution_count": 161,
   "id": "5b44a3b1-baa5-4b00-8622-8dfcb5ca0cb0",
   "metadata": {},
   "outputs": [],
   "source": [
    "def get_children(parent_node):\n",
    "    \"\"\"\n",
    "    returns list of children nodes\n",
    "    \"\"\"\n",
    "    r, c = parent_node.pos\n",
    "    \n",
    "    top = (max(r-1, 0), c)\n",
    "    right = (r, min(c+1, BOUNDS))\n",
    "    bottom = (min(r+1, BOUNDS), c)\n",
    "    left = (r, max(c-1, 0))\n",
    "    \n",
    "    children = []\n",
    "    for child_pos in [top, right, bottom, left]:\n",
    "        if child_pos != parent_node.pos:\n",
    "            child_dist = MAP[child_pos]\n",
    "            child = Node(child_pos, parent_node.g + child_dist)\n",
    "            children.append(child)\n",
    "    \n",
    "    return children"
   ]
  },
  {
   "cell_type": "code",
   "execution_count": 361,
   "id": "0a1af28e-5d47-425d-9cac-eea4639d1fce",
   "metadata": {},
   "outputs": [],
   "source": [
    "def inside(node, node_list):\n",
    "    for node_b in node_list:\n",
    "        if node == node_b:\n",
    "            return True\n",
    "    \n",
    "    return False"
   ]
  },
  {
   "cell_type": "code",
   "execution_count": 289,
   "id": "fbfb0bf8-a571-4d4a-b895-3f689236a629",
   "metadata": {},
   "outputs": [],
   "source": [
    "children = get_children(START_NODE)"
   ]
  },
  {
   "cell_type": "code",
   "execution_count": 290,
   "id": "6976d34a-d1ed-4a88-bce7-b2bc1756e50c",
   "metadata": {},
   "outputs": [
    {
     "name": "stdout",
     "output_type": "stream",
     "text": [
      "(0, 1) 1000001\n",
      "(1, 0) 1000001\n"
     ]
    }
   ],
   "source": [
    "for c in children:\n",
    "    print(c.pos, c.f)"
   ]
  },
  {
   "cell_type": "code",
   "execution_count": 334,
   "id": "95277870-ed07-43b5-a6c2-6e866fb906fe",
   "metadata": {},
   "outputs": [],
   "source": [
    "def heuristic(node_pos):\n",
    "    # gets predicted distance between node and end-node\n",
    "    # node \n",
    "    r, c = node_pos\n",
    "    r_, c_ = END_NODE.pos\n",
    "    \n",
    "    # manhatten distance\n",
    "    distance = (r_ - r) + (c_ - c)\n",
    "    \n",
    "    return distance"
   ]
  },
  {
   "cell_type": "code",
   "execution_count": 335,
   "id": "eb3ec53d-54a6-417e-ab93-27fbe0c6c7f3",
   "metadata": {},
   "outputs": [
    {
     "data": {
      "text/plain": [
       "18"
      ]
     },
     "execution_count": 335,
     "metadata": {},
     "output_type": "execute_result"
    }
   ],
   "source": [
    "heuristic(START_NODE.pos)"
   ]
  },
  {
   "cell_type": "code",
   "execution_count": 344,
   "id": "de1b7b4b-e6d8-4d93-b075-42e83794147b",
   "metadata": {},
   "outputs": [
    {
     "data": {
      "text/plain": [
       "15"
      ]
     },
     "execution_count": 344,
     "metadata": {},
     "output_type": "execute_result"
    }
   ],
   "source": [
    "heuristic((2,1))"
   ]
  },
  {
   "cell_type": "code",
   "execution_count": 325,
   "id": "34bfeab5-aa98-4edd-a357-2cfa0b274a41",
   "metadata": {},
   "outputs": [
    {
     "data": {
      "text/plain": [
       "(0, 18, 18)"
      ]
     },
     "execution_count": 325,
     "metadata": {},
     "output_type": "execute_result"
    }
   ],
   "source": [
    "START_NODE.g, START_NODE.h, START_NODE.f"
   ]
  },
  {
   "cell_type": "code",
   "execution_count": 380,
   "id": "02394959-5a73-4cb6-8ef4-9d31ecec9f96",
   "metadata": {},
   "outputs": [],
   "source": [
    "# reset\n",
    "oopen = [START_NODE]\n",
    "closed = []"
   ]
  },
  {
   "cell_type": "code",
   "execution_count": 381,
   "id": "feb80390-7fd7-4b48-b837-fb208b3f9460",
   "metadata": {},
   "outputs": [
    {
     "name": "stdout",
     "output_type": "stream",
     "text": [
      "found\n"
     ]
    }
   ],
   "source": [
    "# algo\n",
    "for i in range(100):\n",
    "    if oopen:\n",
    "        # sort/loop through all nodes open nodes and get lowest f\n",
    "        oopen.sort(key=lambda x: x.f, reverse=True)\n",
    "        current_node = oopen.pop()\n",
    "        current_node.h = heuristic(current_node.pos)\n",
    "        closed.append(current_node)\n",
    "\n",
    "        # endgame\n",
    "        if current_node == END_NODE:\n",
    "            print('found')\n",
    "            break\n",
    "\n",
    "        # handle children\n",
    "        children = get_children(current_node)\n",
    "\n",
    "        for child in children:\n",
    "\n",
    "            # skip closed\n",
    "            if inside(child, closed):\n",
    "                continue\n",
    "\n",
    "            # update G if in open\n",
    "            for node in oopen:\n",
    "                if child == node:\n",
    "                    if child.g < node.g:\n",
    "                        node.g = child.g\n",
    "                        \n",
    "                        \n",
    "                    break\n",
    "            else:\n",
    "                oopen.append(child)\n",
    "        \n",
    "        # debug\n",
    "        # childbugs = [child.pos for child in children]\n",
    "        # closedbugs = [c.pos for c in closed]\n",
    "        # print(current_node.pos, current_node.f, closedbugs)"
   ]
  },
  {
   "cell_type": "code",
   "execution_count": 382,
   "id": "feaf646f-63d2-434b-9d55-69b7d09141bc",
   "metadata": {},
   "outputs": [
    {
     "name": "stdout",
     "output_type": "stream",
     "text": [
      "(0, 0) 18\n",
      "(1, 0) 18\n",
      "(0, 1) 18\n",
      "(2, 0) 19\n",
      "(2, 1) 19\n",
      "(1, 1) 20\n",
      "(2, 2) 21\n",
      "(3, 0) 21\n",
      "(0, 2) 23\n",
      "(3, 1) 24\n",
      "(0, 3) 25\n",
      "(1, 3) 25\n",
      "(2, 3) 26\n",
      "(1, 4) 27\n",
      "(4, 1) 27\n",
      "(4, 0) 27\n",
      "(5, 0) 27\n",
      "(6, 0) 27\n",
      "(1, 2) 27\n",
      "(7, 0) 29\n",
      "(8, 0) 29\n",
      "(7, 1) 29\n",
      "(6, 1) 29\n",
      "(5, 1) 29\n",
      "(5, 2) 29\n",
      "(3, 3) 29\n",
      "(3, 2) 29\n",
      "(7, 2) 30\n",
      "(9, 0) 30\n",
      "(8, 1) 30\n",
      "(2, 4) 30\n",
      "(2, 5) 30\n",
      "(2, 6) 30\n",
      "(3, 6) 30\n",
      "(4, 3) 31\n",
      "(0, 4) 31\n",
      "(2, 7) 32\n",
      "(3, 5) 32\n",
      "(4, 5) 32\n",
      "(9, 1) 32\n",
      "(9, 2) 32\n",
      "(9, 3) 32\n",
      "(4, 2) 32\n",
      "(5, 5) 33\n",
      "(6, 5) 33\n",
      "(2, 8) 33\n",
      "(6, 2) 33\n",
      "(1, 5) 33\n",
      "(7, 5) 34\n",
      "(7, 6) 34\n",
      "(6, 6) 34\n",
      "(4, 4) 34\n",
      "(3, 7) 34\n",
      "(4, 7) 34\n",
      "(5, 7) 34\n",
      "(4, 8) 34\n",
      "(4, 9) 34\n",
      "(1, 6) 34\n",
      "(7, 3) 34\n",
      "(5, 4) 34\n",
      "(0, 5) 35\n",
      "(0, 6) 35\n",
      "(5, 8) 36\n",
      "(8, 5) 36\n",
      "(8, 3) 36\n",
      "(4, 6) 36\n",
      "(8, 4) 36\n",
      "(6, 8) 37\n",
      "(6, 9) 37\n",
      "(6, 7) 37\n",
      "(3, 4) 37\n",
      "(5, 3) 37\n",
      "(7, 4) 37\n",
      "(3, 8) 38\n",
      "(8, 2) 38\n",
      "(7, 8) 39\n",
      "(9, 5) 39\n",
      "(7, 7) 39\n",
      "(1, 7) 39\n",
      "(8, 8) 40\n",
      "(8, 9) 40\n",
      "(9, 9) 40\n"
     ]
    }
   ],
   "source": [
    "for c in closed:\n",
    "    print(c.pos, c.f)"
   ]
  },
  {
   "cell_type": "code",
   "execution_count": 383,
   "id": "59de89b9-23d2-4a03-b78c-55e02bc68867",
   "metadata": {},
   "outputs": [
    {
     "name": "stdout",
     "output_type": "stream",
     "text": [
      "(9, 8) 47\n",
      "(7, 9) 45\n",
      "(3, 9) 44\n",
      "(8, 7) 43\n",
      "(6, 4) 42\n",
      "(9, 6) 42\n",
      "(1, 8) 41\n",
      "(6, 3) 41\n",
      "(8, 6) 41\n",
      "(0, 7) 41\n",
      "(9, 4) 40\n",
      "(5, 6) 40\n",
      "(2, 9) 40\n",
      "(5, 9) 40\n"
     ]
    }
   ],
   "source": [
    "for o in oopen:\n",
    "    print(o.pos, o.f)"
   ]
  },
  {
   "cell_type": "code",
   "execution_count": 287,
   "id": "7c3b61a2-e87f-492c-b696-a2c4bc8bc6ea",
   "metadata": {},
   "outputs": [
    {
     "data": {
      "text/plain": [
       "((0, 0), 1000004)"
      ]
     },
     "execution_count": 287,
     "metadata": {},
     "output_type": "execute_result"
    }
   ],
   "source": [
    "current_node.pos, current_node.f"
   ]
  },
  {
   "cell_type": "code",
   "execution_count": 312,
   "id": "4736cfc6-ab8b-45d0-b26b-988df00cee65",
   "metadata": {},
   "outputs": [],
   "source": [
    "noda = Node((0, 0), 1000)"
   ]
  },
  {
   "cell_type": "code",
   "execution_count": 278,
   "id": "5c1bd7ef-c2f8-4b95-81ff-fff84d70602d",
   "metadata": {},
   "outputs": [
    {
     "data": {
      "text/plain": [
       "(1000, 1000000)"
      ]
     },
     "execution_count": 278,
     "metadata": {},
     "output_type": "execute_result"
    }
   ],
   "source": [
    "noda.g, noda.h"
   ]
  },
  {
   "cell_type": "code",
   "execution_count": 279,
   "id": "aa02b927-84c3-4ef7-9549-858173840b09",
   "metadata": {},
   "outputs": [
    {
     "data": {
      "text/plain": [
       "1001000"
      ]
     },
     "execution_count": 279,
     "metadata": {},
     "output_type": "execute_result"
    }
   ],
   "source": [
    "noda.f"
   ]
  },
  {
   "cell_type": "code",
   "execution_count": 273,
   "id": "6f043805-3e31-4aaa-9728-68264d54ca31",
   "metadata": {},
   "outputs": [],
   "source": [
    "noda.g = noda.g + 10"
   ]
  },
  {
   "cell_type": "code",
   "execution_count": 274,
   "id": "20e4d146-71b3-47bf-a269-6d37a8959a41",
   "metadata": {},
   "outputs": [
    {
     "data": {
      "text/plain": [
       "1010"
      ]
     },
     "execution_count": 274,
     "metadata": {},
     "output_type": "execute_result"
    }
   ],
   "source": [
    "noda.g"
   ]
  },
  {
   "cell_type": "code",
   "execution_count": 275,
   "id": "000a94f4-a7dc-4e04-8324-ef992df9bb5b",
   "metadata": {},
   "outputs": [
    {
     "data": {
      "text/plain": [
       "1001010"
      ]
     },
     "execution_count": 275,
     "metadata": {},
     "output_type": "execute_result"
    }
   ],
   "source": [
    "noda.f"
   ]
  },
  {
   "cell_type": "code",
   "execution_count": 313,
   "id": "c4c283b6-4d7d-46fe-bf28-02b5662e9312",
   "metadata": {},
   "outputs": [
    {
     "data": {
      "text/plain": [
       "18"
      ]
     },
     "execution_count": 313,
     "metadata": {},
     "output_type": "execute_result"
    }
   ],
   "source": [
    "noda.h\n"
   ]
  },
  {
   "cell_type": "code",
   "execution_count": null,
   "id": "67cffb98-6fee-45d6-8e8e-ae90cbd65879",
   "metadata": {},
   "outputs": [],
   "source": []
  }
 ],
 "metadata": {
  "kernelspec": {
   "display_name": "Python 3 (ipykernel)",
   "language": "python",
   "name": "python3"
  },
  "language_info": {
   "codemirror_mode": {
    "name": "ipython",
    "version": 3
   },
   "file_extension": ".py",
   "mimetype": "text/x-python",
   "name": "python",
   "nbconvert_exporter": "python",
   "pygments_lexer": "ipython3",
   "version": "3.9.13"
  }
 },
 "nbformat": 4,
 "nbformat_minor": 5
}
