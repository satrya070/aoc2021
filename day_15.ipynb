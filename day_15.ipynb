{
 "cells": [
  {
   "cell_type": "code",
   "execution_count": 1,
   "id": "34229f56-1e72-4772-8334-a130fbefa46b",
   "metadata": {},
   "outputs": [],
   "source": [
    "import numpy as np"
   ]
  },
  {
   "cell_type": "code",
   "execution_count": 3,
   "id": "67b3cdb8-ae10-4de1-b0dd-c3d694cfa9c9",
   "metadata": {},
   "outputs": [],
   "source": [
    "cavern = np.array([\n",
    "    [1,1,6,3,7,5,1,7,4,2],\n",
    "    [1,3,8,1,3,7,3,6,7,2],\n",
    "    [2,1,3,6,5,1,1,3,2,8],\n",
    "    [3,6,9,4,9,3,1,5,6,9],\n",
    "    [7,4,6,3,4,1,7,1,1,1],\n",
    "    [1,3,1,9,1,2,8,1,3,7],\n",
    "    [1,3,5,9,9,1,2,4,2,1],\n",
    "    [3,1,2,5,4,2,1,6,3,9],\n",
    "    [1,2,9,3,1,3,8,5,2,1],\n",
    "    [2,3,1,1,9,4,4,5,8,1]\n",
    "])"
   ]
  },
  {
   "cell_type": "code",
   "execution_count": 4,
   "id": "831c2ef5-afbc-47e6-9022-547263869803",
   "metadata": {},
   "outputs": [
    {
     "data": {
      "text/plain": [
       "array([[1, 1, 6, 3, 7, 5, 1, 7, 4, 2],\n",
       "       [1, 3, 8, 1, 3, 7, 3, 6, 7, 2],\n",
       "       [2, 1, 3, 6, 5, 1, 1, 3, 2, 8],\n",
       "       [3, 6, 9, 4, 9, 3, 1, 5, 6, 9],\n",
       "       [7, 4, 6, 3, 4, 1, 7, 1, 1, 1],\n",
       "       [1, 3, 1, 9, 1, 2, 8, 1, 3, 7],\n",
       "       [1, 3, 5, 9, 9, 1, 2, 4, 2, 1],\n",
       "       [3, 1, 2, 5, 4, 2, 1, 6, 3, 9],\n",
       "       [1, 2, 9, 3, 1, 3, 8, 5, 2, 1],\n",
       "       [2, 3, 1, 1, 9, 4, 4, 5, 8, 1]])"
      ]
     },
     "execution_count": 4,
     "metadata": {},
     "output_type": "execute_result"
    }
   ],
   "source": [
    "cavern"
   ]
  },
  {
   "cell_type": "code",
   "execution_count": 8,
   "id": "2bd7ec3f-9a1b-4111-8bbe-2f49f0293ee0",
   "metadata": {},
   "outputs": [
    {
     "data": {
      "text/plain": [
       "array([[[0, 0, 0, 0, 0, 0, 0, 0, 0, 0],\n",
       "        [1, 1, 1, 1, 1, 1, 1, 1, 1, 1],\n",
       "        [2, 2, 2, 2, 2, 2, 2, 2, 2, 2],\n",
       "        [3, 3, 3, 3, 3, 3, 3, 3, 3, 3],\n",
       "        [4, 4, 4, 4, 4, 4, 4, 4, 4, 4],\n",
       "        [5, 5, 5, 5, 5, 5, 5, 5, 5, 5],\n",
       "        [6, 6, 6, 6, 6, 6, 6, 6, 6, 6],\n",
       "        [7, 7, 7, 7, 7, 7, 7, 7, 7, 7],\n",
       "        [8, 8, 8, 8, 8, 8, 8, 8, 8, 8],\n",
       "        [9, 9, 9, 9, 9, 9, 9, 9, 9, 9]],\n",
       "\n",
       "       [[0, 1, 2, 3, 4, 5, 6, 7, 8, 9],\n",
       "        [0, 1, 2, 3, 4, 5, 6, 7, 8, 9],\n",
       "        [0, 1, 2, 3, 4, 5, 6, 7, 8, 9],\n",
       "        [0, 1, 2, 3, 4, 5, 6, 7, 8, 9],\n",
       "        [0, 1, 2, 3, 4, 5, 6, 7, 8, 9],\n",
       "        [0, 1, 2, 3, 4, 5, 6, 7, 8, 9],\n",
       "        [0, 1, 2, 3, 4, 5, 6, 7, 8, 9],\n",
       "        [0, 1, 2, 3, 4, 5, 6, 7, 8, 9],\n",
       "        [0, 1, 2, 3, 4, 5, 6, 7, 8, 9],\n",
       "        [0, 1, 2, 3, 4, 5, 6, 7, 8, 9]]])"
      ]
     },
     "execution_count": 8,
     "metadata": {},
     "output_type": "execute_result"
    }
   ],
   "source": [
    "np.indices((10, 10))"
   ]
  },
  {
   "cell_type": "code",
   "execution_count": 31,
   "id": "394e8376-fcf5-48f1-826e-e9bb9ade4d4c",
   "metadata": {},
   "outputs": [],
   "source": [
    "bounds = 9"
   ]
  },
  {
   "cell_type": "code",
   "execution_count": 10,
   "id": "311d2d55-837c-4224-b590-f6957d9726e0",
   "metadata": {
    "collapsed": true,
    "jupyter": {
     "outputs_hidden": true
    },
    "tags": []
   },
   "outputs": [
    {
     "name": "stdout",
     "output_type": "stream",
     "text": [
      "0 - 0\n",
      "0 - 1\n",
      "0 - 2\n",
      "0 - 3\n",
      "0 - 4\n",
      "0 - 5\n",
      "0 - 6\n",
      "0 - 7\n",
      "0 - 8\n",
      "0 - 9\n",
      "1 - 0\n",
      "1 - 1\n",
      "1 - 2\n",
      "1 - 3\n",
      "1 - 4\n",
      "1 - 5\n",
      "1 - 6\n",
      "1 - 7\n",
      "1 - 8\n",
      "1 - 9\n",
      "2 - 0\n",
      "2 - 1\n",
      "2 - 2\n",
      "2 - 3\n",
      "2 - 4\n",
      "2 - 5\n",
      "2 - 6\n",
      "2 - 7\n",
      "2 - 8\n",
      "2 - 9\n",
      "3 - 0\n",
      "3 - 1\n",
      "3 - 2\n",
      "3 - 3\n",
      "3 - 4\n",
      "3 - 5\n",
      "3 - 6\n",
      "3 - 7\n",
      "3 - 8\n",
      "3 - 9\n",
      "4 - 0\n",
      "4 - 1\n",
      "4 - 2\n",
      "4 - 3\n",
      "4 - 4\n",
      "4 - 5\n",
      "4 - 6\n",
      "4 - 7\n",
      "4 - 8\n",
      "4 - 9\n",
      "5 - 0\n",
      "5 - 1\n",
      "5 - 2\n",
      "5 - 3\n",
      "5 - 4\n",
      "5 - 5\n",
      "5 - 6\n",
      "5 - 7\n",
      "5 - 8\n",
      "5 - 9\n",
      "6 - 0\n",
      "6 - 1\n",
      "6 - 2\n",
      "6 - 3\n",
      "6 - 4\n",
      "6 - 5\n",
      "6 - 6\n",
      "6 - 7\n",
      "6 - 8\n",
      "6 - 9\n",
      "7 - 0\n",
      "7 - 1\n",
      "7 - 2\n",
      "7 - 3\n",
      "7 - 4\n",
      "7 - 5\n",
      "7 - 6\n",
      "7 - 7\n",
      "7 - 8\n",
      "7 - 9\n",
      "8 - 0\n",
      "8 - 1\n",
      "8 - 2\n",
      "8 - 3\n",
      "8 - 4\n",
      "8 - 5\n",
      "8 - 6\n",
      "8 - 7\n",
      "8 - 8\n",
      "8 - 9\n",
      "9 - 0\n",
      "9 - 1\n",
      "9 - 2\n",
      "9 - 3\n",
      "9 - 4\n",
      "9 - 5\n",
      "9 - 6\n",
      "9 - 7\n",
      "9 - 8\n",
      "9 - 9\n"
     ]
    }
   ],
   "source": [
    "for i in range(10):\n",
    "    for j in range(10):\n",
    "        print(i, '-', j)"
   ]
  },
  {
   "cell_type": "code",
   "execution_count": 34,
   "id": "7844f17d-78a4-49b1-9cb4-65f93770e16f",
   "metadata": {},
   "outputs": [],
   "source": [
    "start_node = (5, 5)"
   ]
  },
  {
   "cell_type": "code",
   "execution_count": 35,
   "id": "5b44a3b1-baa5-4b00-8622-8dfcb5ca0cb0",
   "metadata": {},
   "outputs": [],
   "source": [
    "def get_neighbors(node):\n",
    "    r, c = node\n",
    "    \n",
    "    top = (max(r-1, 0), c)\n",
    "    right = (r, min(c+1, bounds))\n",
    "    bottom = (min(r+1, bounds), c)\n",
    "    left = (r, max(c-1, 0))\n",
    "    \n",
    "    neighbors = []\n",
    "    for neighbor in [top, right, bottom, left]:\n",
    "        if neighbor != node:\n",
    "            neighbors.append(neighbor)\n",
    "    \n",
    "    return neighbors"
   ]
  },
  {
   "cell_type": "code",
   "execution_count": 36,
   "id": "7ae69d87-dbf7-4223-a369-a33bd516a9f4",
   "metadata": {},
   "outputs": [
    {
     "data": {
      "text/plain": [
       "[(4, 5), (5, 6), (6, 5), (5, 4)]"
      ]
     },
     "execution_count": 36,
     "metadata": {},
     "output_type": "execute_result"
    }
   ],
   "source": [
    "get_neighbors(start_node)"
   ]
  },
  {
   "cell_type": "code",
   "execution_count": 38,
   "id": "95277870-ed07-43b5-a6c2-6e866fb906fe",
   "metadata": {},
   "outputs": [],
   "source": [
    "def heuristic(node, end_node):\n",
    "    # gets predicted distance between node and end-node\n",
    "    # node \n",
    "    r, c = node\n",
    "    r_, c_ = end_node\n",
    "    \n",
    "    # manhatten distance\n",
    "    distance = (r_ - r) + (c_ - c)\n",
    "    \n",
    "    return distance"
   ]
  },
  {
   "cell_type": "code",
   "execution_count": null,
   "id": "b8a53da3-b928-4ff3-a92b-9c7f447410e0",
   "metadata": {},
   "outputs": [],
   "source": []
  },
  {
   "cell_type": "code",
   "execution_count": 11,
   "id": "02394959-5a73-4cb6-8ef4-9d31ecec9f96",
   "metadata": {},
   "outputs": [],
   "source": [
    "oopen = []\n",
    "closed = []"
   ]
  },
  {
   "cell_type": "code",
   "execution_count": null,
   "id": "feb80390-7fd7-4b48-b837-fb208b3f9460",
   "metadata": {},
   "outputs": [],
   "source": []
  }
 ],
 "metadata": {
  "kernelspec": {
   "display_name": "Python 3 (ipykernel)",
   "language": "python",
   "name": "python3"
  },
  "language_info": {
   "codemirror_mode": {
    "name": "ipython",
    "version": 3
   },
   "file_extension": ".py",
   "mimetype": "text/x-python",
   "name": "python",
   "nbconvert_exporter": "python",
   "pygments_lexer": "ipython3",
   "version": "3.9.13"
  }
 },
 "nbformat": 4,
 "nbformat_minor": 5
}
