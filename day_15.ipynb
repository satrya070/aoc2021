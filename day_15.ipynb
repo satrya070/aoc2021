{
 "cells": [
  {
   "cell_type": "code",
   "execution_count": 1,
   "id": "34229f56-1e72-4772-8334-a130fbefa46b",
   "metadata": {},
   "outputs": [],
   "source": [
    "import numpy as np"
   ]
  },
  {
   "cell_type": "code",
   "execution_count": 66,
   "id": "67b3cdb8-ae10-4de1-b0dd-c3d694cfa9c9",
   "metadata": {},
   "outputs": [],
   "source": [
    "MAP = np.array([\n",
    "    [1,1,6,3,7,5,1,7,4,2],\n",
    "    [1,3,8,1,3,7,3,6,7,2],\n",
    "    [2,1,3,6,5,1,1,3,2,8],\n",
    "    [3,6,9,4,9,3,1,5,6,9],\n",
    "    [7,4,6,3,4,1,7,1,1,1],\n",
    "    [1,3,1,9,1,2,8,1,3,7],\n",
    "    [1,3,5,9,9,1,2,4,2,1],\n",
    "    [3,1,2,5,4,2,1,6,3,9],\n",
    "    [1,2,9,3,1,3,8,5,2,1],\n",
    "    [2,3,1,1,9,4,4,5,8,1]\n",
    "])"
   ]
  },
  {
   "cell_type": "code",
   "execution_count": 67,
   "id": "831c2ef5-afbc-47e6-9022-547263869803",
   "metadata": {},
   "outputs": [
    {
     "data": {
      "text/plain": [
       "array([[1, 1, 6, 3, 7, 5, 1, 7, 4, 2],\n",
       "       [1, 3, 8, 1, 3, 7, 3, 6, 7, 2],\n",
       "       [2, 1, 3, 6, 5, 1, 1, 3, 2, 8],\n",
       "       [3, 6, 9, 4, 9, 3, 1, 5, 6, 9],\n",
       "       [7, 4, 6, 3, 4, 1, 7, 1, 1, 1],\n",
       "       [1, 3, 1, 9, 1, 2, 8, 1, 3, 7],\n",
       "       [1, 3, 5, 9, 9, 1, 2, 4, 2, 1],\n",
       "       [3, 1, 2, 5, 4, 2, 1, 6, 3, 9],\n",
       "       [1, 2, 9, 3, 1, 3, 8, 5, 2, 1],\n",
       "       [2, 3, 1, 1, 9, 4, 4, 5, 8, 1]])"
      ]
     },
     "execution_count": 67,
     "metadata": {},
     "output_type": "execute_result"
    }
   ],
   "source": [
    "MAP"
   ]
  },
  {
   "cell_type": "code",
   "execution_count": 94,
   "id": "394e8376-fcf5-48f1-826e-e9bb9ade4d4c",
   "metadata": {},
   "outputs": [],
   "source": [
    "BOUNDS = 9"
   ]
  },
  {
   "cell_type": "code",
   "execution_count": 88,
   "id": "186500fe-4d35-42d8-bbf3-24f1d2013ba9",
   "metadata": {},
   "outputs": [],
   "source": [
    "class Node:\n",
    "    def __init__(self, pos, g):\n",
    "        self.pos = pos\n",
    "        \n",
    "        self.g = g\n",
    "        self.f = 1000000\n",
    "        self.h = 1000000\n",
    "    \n",
    "        self.distance = self.get_distance(self.pos)\n",
    "        \n",
    "    def get_distance(self, pos):\n",
    "        return MAP[pos]\n",
    "    \n",
    "    def __eq__(self, other_node):\n",
    "        if self.pos == other_node.pos:\n",
    "            return True\n",
    "        return False"
   ]
  },
  {
   "cell_type": "code",
   "execution_count": 109,
   "id": "ec9d6111-f4cf-478d-8416-e7cbe710454b",
   "metadata": {},
   "outputs": [],
   "source": [
    "START_NODE = Node((0, 0), 0)\n",
    "END_NODE = Node((9, 9), 1)"
   ]
  },
  {
   "cell_type": "code",
   "execution_count": 91,
   "id": "acc9942d-d6c4-4abe-a476-3dc4fcee9ecb",
   "metadata": {},
   "outputs": [],
   "source": [
    "# node testing\n",
    "a_node = Node((0, 2), 1)\n",
    "b_node = Node((0, 3), 2)"
   ]
  },
  {
   "cell_type": "code",
   "execution_count": 96,
   "id": "5b44a3b1-baa5-4b00-8622-8dfcb5ca0cb0",
   "metadata": {},
   "outputs": [],
   "source": [
    "def get_children(parent_node):\n",
    "    \"\"\"\n",
    "    returns list of children nodes\n",
    "    \"\"\"\n",
    "    r, c = parent_node.pos\n",
    "    \n",
    "    top = (max(r-1, 0), c)\n",
    "    right = (r, min(c+1, BOUNDS))\n",
    "    bottom = (min(r+1, BOUNDS), c)\n",
    "    left = (r, max(c-1, 0))\n",
    "    \n",
    "    children = []\n",
    "    for child_pos in [top, right, bottom, left]:\n",
    "        if child_pos != parent_node.pos:\n",
    "            child_dist = MAP[child_pos]\n",
    "            child = Node(child_pos, parent_node.g + child_dist)\n",
    "            children.append(child)\n",
    "    \n",
    "    return children"
   ]
  },
  {
   "cell_type": "code",
   "execution_count": 107,
   "id": "fbfb0bf8-a571-4d4a-b895-3f689236a629",
   "metadata": {},
   "outputs": [],
   "source": [
    "children = get_children(START_NODE)"
   ]
  },
  {
   "cell_type": "code",
   "execution_count": 108,
   "id": "6976d34a-d1ed-4a88-bce7-b2bc1756e50c",
   "metadata": {},
   "outputs": [
    {
     "name": "stdout",
     "output_type": "stream",
     "text": [
      "(0, 1) 1\n",
      "(1, 0) 1\n"
     ]
    }
   ],
   "source": [
    "for c in children:\n",
    "    print(c.pos, c.g)"
   ]
  },
  {
   "cell_type": "code",
   "execution_count": 110,
   "id": "95277870-ed07-43b5-a6c2-6e866fb906fe",
   "metadata": {},
   "outputs": [],
   "source": [
    "def heuristic(node):\n",
    "    # gets predicted distance between node and end-node\n",
    "    # node \n",
    "    r, c = node.pos\n",
    "    r_, c_ = END_NODE.pos\n",
    "    \n",
    "    # manhatten distance\n",
    "    distance = (r_ - r) + (c_ - c)\n",
    "    \n",
    "    return distance"
   ]
  },
  {
   "cell_type": "code",
   "execution_count": 111,
   "id": "eb3ec53d-54a6-417e-ab93-27fbe0c6c7f3",
   "metadata": {},
   "outputs": [
    {
     "data": {
      "text/plain": [
       "18"
      ]
     },
     "execution_count": 111,
     "metadata": {},
     "output_type": "execute_result"
    }
   ],
   "source": [
    "heuristic(START_NODE)"
   ]
  },
  {
   "cell_type": "code",
   "execution_count": 43,
   "id": "02394959-5a73-4cb6-8ef4-9d31ecec9f96",
   "metadata": {},
   "outputs": [],
   "source": [
    "oopen = []\n",
    "closed = []"
   ]
  },
  {
   "cell_type": "code",
   "execution_count": null,
   "id": "feb80390-7fd7-4b48-b837-fb208b3f9460",
   "metadata": {},
   "outputs": [],
   "source": [
    "# algo\n",
    "if oopen:\n",
    "    # sort/loop through all nodes open nodes and get lowest f\n",
    "    oopen.sort(key=lambda x: x.f, reverse=True)\n",
    "    current_node = oopen.pop()\n",
    "    closed.insert(current_node)\n",
    "    \n",
    "    # endgame\n",
    "    if current_node == end_node:\n",
    "        print(found)\n",
    "    \n",
    "    # handle children\n",
    "    children = get_neighbors(current_node)\n",
    "    \n",
    "    for child in children:\n",
    "        \n",
    "        # skip closed\n",
    "        for node in closed:\n",
    "            if child == node:\n",
    "                break\n",
    "                \n",
    "        # update G if in open\n",
    "        for node in oopen:\n",
    "            if child == node:\n",
    "                if child.g < node.g:\n",
    "                    node.g = child.g\n",
    "                    break\n",
    "        \n",
    "        child.f = child.g + heuristic(child)\n",
    "        \n",
    "        oopen.append(child)\n",
    "    "
   ]
  },
  {
   "cell_type": "code",
   "execution_count": 114,
   "id": "be501826-c243-4b87-8ce1-6daf9e4101ac",
   "metadata": {},
   "outputs": [
    {
     "data": {
      "text/plain": [
       "\u001b[0;31mSignature:\u001b[0m \u001b[0msorted\u001b[0m\u001b[0;34m(\u001b[0m\u001b[0miterable\u001b[0m\u001b[0;34m,\u001b[0m \u001b[0;34m/\u001b[0m\u001b[0;34m,\u001b[0m \u001b[0;34m*\u001b[0m\u001b[0;34m,\u001b[0m \u001b[0mkey\u001b[0m\u001b[0;34m=\u001b[0m\u001b[0;32mNone\u001b[0m\u001b[0;34m,\u001b[0m \u001b[0mreverse\u001b[0m\u001b[0;34m=\u001b[0m\u001b[0;32mFalse\u001b[0m\u001b[0;34m)\u001b[0m\u001b[0;34m\u001b[0m\u001b[0;34m\u001b[0m\u001b[0m\n",
       "\u001b[0;31mDocstring:\u001b[0m\n",
       "Return a new list containing all items from the iterable in ascending order.\n",
       "\n",
       "A custom key function can be supplied to customize the sort order, and the\n",
       "reverse flag can be set to request the result in descending order.\n",
       "\u001b[0;31mType:\u001b[0m      builtin_function_or_method\n"
      ]
     },
     "metadata": {},
     "output_type": "display_data"
    }
   ],
   "source": [
    "?sorted"
   ]
  },
  {
   "cell_type": "code",
   "execution_count": 139,
   "id": "feaf646f-63d2-434b-9d55-69b7d09141bc",
   "metadata": {},
   "outputs": [],
   "source": [
    "a = [b_node, a_node]\n",
    "a.sort(key=lambda x: x.g, reverse=True)"
   ]
  },
  {
   "cell_type": "code",
   "execution_count": 140,
   "id": "6c555661-f385-4393-b90e-4767ddd11298",
   "metadata": {},
   "outputs": [
    {
     "data": {
      "text/plain": [
       "2"
      ]
     },
     "execution_count": 140,
     "metadata": {},
     "output_type": "execute_result"
    }
   ],
   "source": [
    "a[0].g"
   ]
  },
  {
   "cell_type": "code",
   "execution_count": 141,
   "id": "59de89b9-23d2-4a03-b78c-55e02bc68867",
   "metadata": {},
   "outputs": [],
   "source": [
    "cu = a.pop()"
   ]
  },
  {
   "cell_type": "code",
   "execution_count": 143,
   "id": "4736cfc6-ab8b-45d0-b26b-988df00cee65",
   "metadata": {},
   "outputs": [
    {
     "data": {
      "text/plain": [
       "1"
      ]
     },
     "execution_count": 143,
     "metadata": {},
     "output_type": "execute_result"
    }
   ],
   "source": [
    "cu.g"
   ]
  },
  {
   "cell_type": "code",
   "execution_count": null,
   "id": "6f043805-3e31-4aaa-9728-68264d54ca31",
   "metadata": {},
   "outputs": [],
   "source": []
  }
 ],
 "metadata": {
  "kernelspec": {
   "display_name": "Python 3 (ipykernel)",
   "language": "python",
   "name": "python3"
  },
  "language_info": {
   "codemirror_mode": {
    "name": "ipython",
    "version": 3
   },
   "file_extension": ".py",
   "mimetype": "text/x-python",
   "name": "python",
   "nbconvert_exporter": "python",
   "pygments_lexer": "ipython3",
   "version": "3.9.13"
  }
 },
 "nbformat": 4,
 "nbformat_minor": 5
}
