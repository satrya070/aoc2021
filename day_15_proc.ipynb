{
 "cells": [
  {
   "cell_type": "markdown",
   "id": "ea7cdb15-1326-4525-94b9-bdc194edca80",
   "metadata": {},
   "source": [
    "## just for processing text map for part 1"
   ]
  },
  {
   "cell_type": "code",
   "execution_count": 3,
   "id": "eeac3569-9990-4704-8731-5b962a2b9f68",
   "metadata": {},
   "outputs": [],
   "source": [
    "import numpy as np"
   ]
  },
  {
   "cell_type": "code",
   "execution_count": 78,
   "id": "739d0e70-2f84-45a3-9179-a1d908d974f5",
   "metadata": {},
   "outputs": [],
   "source": [
    "with open('./data/input_15.txt') as handle:\n",
    "#with open('./data/example_15_2.txt') as handle:\n",
    "    rows = []\n",
    "    for line in handle.readlines():\n",
    "        row = [int(i) for i in line[:100]]\n",
    "        rows.append(row)"
   ]
  },
  {
   "cell_type": "code",
   "execution_count": 79,
   "id": "e6a12317-4832-4932-a902-d1ac7f98ceec",
   "metadata": {},
   "outputs": [],
   "source": [
    "MAP = np.array(rows)"
   ]
  },
  {
   "cell_type": "code",
   "execution_count": 53,
   "id": "70e68598-6ea7-489b-a044-e0f987605497",
   "metadata": {
    "jupyter": {
     "source_hidden": true
    },
    "tags": []
   },
   "outputs": [],
   "source": [
    "example = np.array([\n",
    "    [1,1,6,3,7,5,1,7,4,2],\n",
    "    [1,3,8,1,3,7,3,6,7,2],\n",
    "    [2,1,3,6,5,1,1,3,2,8],\n",
    "    [3,6,9,4,9,3,1,5,6,9],\n",
    "    [7,4,6,3,4,1,7,1,1,1],\n",
    "    [1,3,1,9,1,2,8,1,3,7],\n",
    "    [1,3,5,9,9,1,2,4,2,1],\n",
    "    [3,1,2,5,4,2,1,6,3,9],\n",
    "    [1,2,9,3,1,3,8,5,2,1],\n",
    "    [2,3,1,1,9,4,4,5,8,1]\n",
    "])"
   ]
  },
  {
   "cell_type": "code",
   "execution_count": 40,
   "id": "752a8d7c-1d31-4276-86ac-02f5c7a4ae76",
   "metadata": {},
   "outputs": [],
   "source": [
    "def incr(val, num):\n",
    "    increment = val + num\n",
    "    if increment > 9:\n",
    "        increment = increment - 9\n",
    "    \n",
    "    return increment"
   ]
  },
  {
   "cell_type": "code",
   "execution_count": 48,
   "id": "f6d475de-e41a-4c3b-bbca-e945b6db2476",
   "metadata": {},
   "outputs": [],
   "source": [
    "apply = np.vectorize(incr)"
   ]
  },
  {
   "cell_type": "code",
   "execution_count": 82,
   "id": "440cbd16-722c-4eda-b473-bf6d0a73b504",
   "metadata": {},
   "outputs": [
    {
     "data": {
      "text/plain": [
       "array([4, 7, 8, 9, 9, 9, 6, 3, 9, 7, 1, 8, 8, 7, 9, 9, 3, 6, 9, 6, 9, 9,\n",
       "       6, 8, 3, 9, 6, 9, 5, 7, 6, 8, 3, 8, 9, 8, 3, 1, 9, 9, 8, 3, 9, 2,\n",
       "       8, 9, 7, 9, 9, 5, 7, 9, 3, 5, 3, 8, 7, 5, 3, 1, 8, 9, 8, 7, 6, 9,\n",
       "       2, 2, 1, 1, 9, 7, 9, 9, 8, 1, 9, 9, 3, 1, 3, 9, 8, 8, 4, 1, 9, 8,\n",
       "       8, 5, 7, 4, 4, 8, 7, 5, 9, 7, 9, 6])"
      ]
     },
     "execution_count": 82,
     "metadata": {},
     "output_type": "execute_result"
    }
   ],
   "source": [
    "MAP[99]"
   ]
  },
  {
   "cell_type": "code",
   "execution_count": 83,
   "id": "d9d8c63f-248f-4abe-97d3-6f0308f6cacf",
   "metadata": {},
   "outputs": [
    {
     "data": {
      "text/plain": [
       "array([9, 3, 4, 5, 5, 5, 2, 8, 5, 3, 6, 4, 4, 3, 5, 5, 8, 2, 5, 2, 5, 5,\n",
       "       2, 4, 8, 5, 2, 5, 1, 3, 2, 4, 8, 4, 5, 4, 8, 6, 5, 5, 4, 8, 5, 7,\n",
       "       4, 5, 3, 5, 5, 1, 3, 5, 8, 1, 8, 4, 3, 1, 8, 6, 4, 5, 4, 3, 2, 5,\n",
       "       7, 7, 6, 6, 5, 3, 5, 5, 4, 6, 5, 5, 8, 6, 8, 5, 4, 4, 9, 6, 5, 4,\n",
       "       4, 1, 3, 9, 9, 4, 3, 1, 5, 3, 5, 2])"
      ]
     },
     "execution_count": 83,
     "metadata": {},
     "output_type": "execute_result"
    }
   ],
   "source": [
    "apply(MAP[99], 5)"
   ]
  },
  {
   "cell_type": "code",
   "execution_count": 84,
   "id": "c82d976d-a013-4709-910b-921ed6ce3868",
   "metadata": {},
   "outputs": [],
   "source": [
    "rows = []\n",
    "for i in range(5):\n",
    "    columns = []\n",
    "    for j in range(5):\n",
    "        to_add = i + j\n",
    "        processed_map_part = apply(MAP, to_add)\n",
    "        columns.append(processed_map_part)\n",
    "        \n",
    "    rows.append(columns)"
   ]
  },
  {
   "cell_type": "code",
   "execution_count": 85,
   "id": "674488dc-b1dd-4e08-a60f-1e3ebafcb745",
   "metadata": {},
   "outputs": [],
   "source": [
    "full_rows = []\n",
    "for row_cols in rows:\n",
    "    full_row = np.hstack(row_cols)\n",
    "    full_rows.append(full_row)"
   ]
  },
  {
   "cell_type": "code",
   "execution_count": 86,
   "id": "dd68bf61-cd06-4b23-bf59-ecd521904936",
   "metadata": {},
   "outputs": [],
   "source": [
    "full_map = np.vstack(full_rows)"
   ]
  },
  {
   "cell_type": "code",
   "execution_count": 87,
   "id": "423e5bc0-2d29-4c28-b24a-0dbdb09882cc",
   "metadata": {},
   "outputs": [
    {
     "data": {
      "text/plain": [
       "(500, 500)"
      ]
     },
     "execution_count": 87,
     "metadata": {},
     "output_type": "execute_result"
    }
   ],
   "source": [
    "full_map.shape"
   ]
  },
  {
   "cell_type": "code",
   "execution_count": 94,
   "id": "e72f6bad-66bf-4cd6-8045-4375e8999f56",
   "metadata": {},
   "outputs": [],
   "source": [
    "full_map = full_map.astype('uint8')"
   ]
  },
  {
   "cell_type": "code",
   "execution_count": 95,
   "id": "2675e9ca-8bb1-4d42-9e4c-68031f8c8aab",
   "metadata": {},
   "outputs": [],
   "source": [
    "np.savetxt('./data/input_15_2.txt', full_map)"
   ]
  },
  {
   "cell_type": "code",
   "execution_count": 119,
   "id": "99b5154c-6754-4949-8341-20e8740d89e6",
   "metadata": {},
   "outputs": [],
   "source": [
    "string_rows = []\n",
    "for i in range(500):\n",
    "    string_list = [str(j) for j in list(full_map[i])]\n",
    "    string_row = ''.join(string_list)\n",
    "    string_rows.append(string_row)"
   ]
  },
  {
   "cell_type": "code",
   "execution_count": 123,
   "id": "2bb5b696-50bf-4100-838e-3ca01513d997",
   "metadata": {},
   "outputs": [],
   "source": [
    "with open('./data/input_15_2.txt', 'w') as handle:\n",
    "    for i in range(500):\n",
    "        handle.write(string_rows[i])\n",
    "        handle.write('\\n')"
   ]
  },
  {
   "cell_type": "code",
   "execution_count": null,
   "id": "faa936c0-b014-40ff-ba6a-c9cb9c7c78e5",
   "metadata": {},
   "outputs": [],
   "source": []
  },
  {
   "cell_type": "code",
   "execution_count": null,
   "id": "e14cc63e-5420-4916-a33b-812df9a84c4f",
   "metadata": {},
   "outputs": [],
   "source": []
  }
 ],
 "metadata": {
  "kernelspec": {
   "display_name": "Python 3 (ipykernel)",
   "language": "python",
   "name": "python3"
  },
  "language_info": {
   "codemirror_mode": {
    "name": "ipython",
    "version": 3
   },
   "file_extension": ".py",
   "mimetype": "text/x-python",
   "name": "python",
   "nbconvert_exporter": "python",
   "pygments_lexer": "ipython3",
   "version": "3.9.13"
  }
 },
 "nbformat": 4,
 "nbformat_minor": 5
}
